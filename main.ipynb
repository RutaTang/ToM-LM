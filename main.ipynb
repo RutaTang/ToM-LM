{
 "cells": [
  {
   "cell_type": "code",
   "outputs": [],
   "source": [
    "from typing import Final\n",
    "\n",
    "from models.base_llm import BaseLLM\n",
    "from models.ollama_llm import OllamaLLM\n",
    "\n",
    "from datasets import load_dataset\n",
    "from sklearn.metrics import accuracy_score, f1_score, precision_score, recall_score\n",
    "import pandas as pd\n",
    "import copy\n",
    "\n",
    "from utils import join_names, insert_sentence_after_period\n",
    "from utils.persistent import save_nl2sf, load_nl2sf, save_smcdel_sf, load_smcdel_sf, NameInfo\n",
    "from models.openai_llm import OpenAILLM\n",
    "from utils.prompt import get_prompt\n",
    "from executors.smcdel import SMCDEL\n",
    "import matplotlib.pyplot as plt"
   ],
   "metadata": {
    "collapsed": false,
    "ExecuteTime": {
     "end_time": "2024-03-12T07:45:34.724481Z",
     "start_time": "2024-03-12T07:45:34.705150Z"
    }
   },
   "id": "51edbe3111100f44",
   "execution_count": 25
  },
  {
   "cell_type": "markdown",
   "source": [
    "constants"
   ],
   "metadata": {
    "collapsed": false
   },
   "id": "e4e13d2114a866cb"
  },
  {
   "cell_type": "code",
   "outputs": [],
   "source": [
    "model_name: Final[str] = \"gpt-3.5-turbo\"  # should be openai's model or ollama's model\n",
    "random_state: Final[int] = 1\n",
    "sample_size: Final[int] = 20"
   ],
   "metadata": {
    "collapsed": false,
    "ExecuteTime": {
     "end_time": "2024-03-12T07:45:34.965858Z",
     "start_time": "2024-03-12T07:45:34.946633Z"
    }
   },
   "id": "142c9ac0b432dbc3",
   "execution_count": 26
  },
  {
   "cell_type": "markdown",
   "source": [
    "parameters"
   ],
   "metadata": {
    "collapsed": false
   },
   "id": "b8c8aabfd4f9e347"
  },
  {
   "cell_type": "code",
   "outputs": [],
   "source": [
    "name_info: Final[NameInfo] = {\n",
    "    \"model_name\": model_name,\n",
    "    \"random_state\": random_state,\n",
    "    \"sample_size\": sample_size\n",
    "}"
   ],
   "metadata": {
    "collapsed": false,
    "ExecuteTime": {
     "end_time": "2024-03-12T07:45:35.239570Z",
     "start_time": "2024-03-12T07:45:35.236669Z"
    }
   },
   "id": "1fcc132d2c5e0293",
   "execution_count": 27
  },
  {
   "cell_type": "markdown",
   "source": [
    "# Data"
   ],
   "metadata": {
    "collapsed": false
   },
   "id": "c22b95e054db34dd"
  },
  {
   "cell_type": "markdown",
   "source": [
    "## 1. Load Data"
   ],
   "metadata": {
    "collapsed": false
   },
   "id": "125ae8e384cd6004"
  },
  {
   "cell_type": "code",
   "outputs": [],
   "source": [
    "dataset = load_dataset(\"sileod/mindgames\", cache_dir='./data')\n",
    "train = pd.DataFrame(dataset['train'])\n",
    "val = pd.DataFrame(dataset['validation'])\n",
    "test = pd.DataFrame(dataset['test'])"
   ],
   "metadata": {
    "collapsed": false,
    "ExecuteTime": {
     "end_time": "2024-03-12T07:45:43.557914Z",
     "start_time": "2024-03-12T07:45:35.646250Z"
    }
   },
   "id": "6331f11c6576366",
   "execution_count": 28
  },
  {
   "cell_type": "markdown",
   "source": [
    "## 2. Data Exploration"
   ],
   "metadata": {
    "collapsed": false
   },
   "id": "66a62d4ec6245bfa"
  },
  {
   "cell_type": "markdown",
   "source": [
    "data showcase"
   ],
   "metadata": {
    "collapsed": false
   },
   "id": "dc798593a64d33d4"
  },
  {
   "cell_type": "code",
   "outputs": [
    {
     "data": {
      "text/plain": "                                             premise  \\\n0  There are four persons. Everyone is visible to...   \n\n                                      smcdel_problem  n_announcements  \\\n0  VARS 1,2,3,4 LAW Top OBS Agenta:1 Agentb:2 Age...                2   \n\n                                             pbcheck  \\\n0  VARS 0,1,2,3,4 LAW Top OBS Agenta:1 Agentb:2 A...   \n\n                                          hypothesis     setup  \\\n0  Nichole can now know whether Aubrey can know w...  internal   \n\n   hypothesis_depth  n_agents       label                               names  \\\n0                 1         4  entailment  [Aubrey, Jeremy, William, Nichole]   \n\n   index         s-l  deberta_pred  deberta_confidence  difficulty  \n0  61652  internal-1             1            0.998557    0.001443  ",
      "text/html": "<div>\n<style scoped>\n    .dataframe tbody tr th:only-of-type {\n        vertical-align: middle;\n    }\n\n    .dataframe tbody tr th {\n        vertical-align: top;\n    }\n\n    .dataframe thead th {\n        text-align: right;\n    }\n</style>\n<table border=\"1\" class=\"dataframe\">\n  <thead>\n    <tr style=\"text-align: right;\">\n      <th></th>\n      <th>premise</th>\n      <th>smcdel_problem</th>\n      <th>n_announcements</th>\n      <th>pbcheck</th>\n      <th>hypothesis</th>\n      <th>setup</th>\n      <th>hypothesis_depth</th>\n      <th>n_agents</th>\n      <th>label</th>\n      <th>names</th>\n      <th>index</th>\n      <th>s-l</th>\n      <th>deberta_pred</th>\n      <th>deberta_confidence</th>\n      <th>difficulty</th>\n    </tr>\n  </thead>\n  <tbody>\n    <tr>\n      <th>0</th>\n      <td>There are four persons. Everyone is visible to...</td>\n      <td>VARS 1,2,3,4 LAW Top OBS Agenta:1 Agentb:2 Age...</td>\n      <td>2</td>\n      <td>VARS 0,1,2,3,4 LAW Top OBS Agenta:1 Agentb:2 A...</td>\n      <td>Nichole can now know whether Aubrey can know w...</td>\n      <td>internal</td>\n      <td>1</td>\n      <td>4</td>\n      <td>entailment</td>\n      <td>[Aubrey, Jeremy, William, Nichole]</td>\n      <td>61652</td>\n      <td>internal-1</td>\n      <td>1</td>\n      <td>0.998557</td>\n      <td>0.001443</td>\n    </tr>\n  </tbody>\n</table>\n</div>"
     },
     "execution_count": 29,
     "metadata": {},
     "output_type": "execute_result"
    }
   ],
   "source": [
    "train.head(1)"
   ],
   "metadata": {
    "collapsed": false,
    "ExecuteTime": {
     "end_time": "2024-03-12T07:45:43.571772Z",
     "start_time": "2024-03-12T07:45:43.561374Z"
    }
   },
   "id": "dc28027e03f89f82",
   "execution_count": 29
  },
  {
   "cell_type": "markdown",
   "source": [
    "check splitted data has same columns"
   ],
   "metadata": {
    "collapsed": false
   },
   "id": "1a3029c84b298ec"
  },
  {
   "cell_type": "code",
   "outputs": [
    {
     "name": "stdout",
     "output_type": "stream",
     "text": [
      "Train, val, test should have same cols:  True\n"
     ]
    }
   ],
   "source": [
    "print(\"Train, val, test should have same cols: \", list(train.columns) == list(val.columns) == list(test.columns))"
   ],
   "metadata": {
    "collapsed": false,
    "ExecuteTime": {
     "end_time": "2024-03-12T07:45:43.574610Z",
     "start_time": "2024-03-12T07:45:43.572617Z"
    }
   },
   "id": "2f382b08434d8da7",
   "execution_count": 30
  },
  {
   "cell_type": "markdown",
   "source": [
    "list all columns"
   ],
   "metadata": {
    "collapsed": false
   },
   "id": "3c6111ce913397e0"
  },
  {
   "cell_type": "code",
   "outputs": [
    {
     "data": {
      "text/plain": "['premise',\n 'smcdel_problem',\n 'n_announcements',\n 'pbcheck',\n 'hypothesis',\n 'setup',\n 'hypothesis_depth',\n 'n_agents',\n 'label',\n 'names',\n 'index',\n 's-l',\n 'deberta_pred',\n 'deberta_confidence',\n 'difficulty']"
     },
     "execution_count": 31,
     "metadata": {},
     "output_type": "execute_result"
    }
   ],
   "source": [
    "list(train.columns)"
   ],
   "metadata": {
    "collapsed": false,
    "ExecuteTime": {
     "end_time": "2024-03-12T07:45:43.579503Z",
     "start_time": "2024-03-12T07:45:43.576622Z"
    }
   },
   "id": "58f0bb62c3f6c521",
   "execution_count": 31
  },
  {
   "cell_type": "markdown",
   "source": [
    "setup types/category"
   ],
   "metadata": {
    "collapsed": false
   },
   "id": "e91dff9abece35b3"
  },
  {
   "cell_type": "code",
   "outputs": [
    {
     "data": {
      "text/plain": "setup\ninternal           2829\nforehead           2800\nexplicit           2793\nforehead_mirror    2752\nName: count, dtype: int64"
     },
     "execution_count": 32,
     "metadata": {},
     "output_type": "execute_result"
    }
   ],
   "source": [
    "train.value_counts('setup')"
   ],
   "metadata": {
    "collapsed": false,
    "ExecuteTime": {
     "end_time": "2024-03-12T07:45:43.599336Z",
     "start_time": "2024-03-12T07:45:43.580174Z"
    }
   },
   "id": "fc1e16588a6325b2",
   "execution_count": 32
  },
  {
   "cell_type": "markdown",
   "source": [
    "## 3. Data Preprocessing"
   ],
   "metadata": {
    "collapsed": false
   },
   "id": "ddd5b4c5cd920b00"
  },
  {
   "cell_type": "code",
   "outputs": [],
   "source": [
    "def preprocess(data: pd.DataFrame) -> pd.DataFrame:\n",
    "    \"\"\"\n",
    "    Preprocess the data and only keep the necessary columns\n",
    "    :param data \n",
    "    :return: \n",
    "    \"\"\"\n",
    "\n",
    "    data = copy.deepcopy(data)\n",
    "\n",
    "    # Preprocess context and question\n",
    "    data['formatted_names'] = data['names'].apply(lambda x: join_names(x))\n",
    "    data['formatted_names'] = data['formatted_names'].apply(lambda x: f\"Their names are {x}.\")\n",
    "    data['context'] = data[['premise', 'formatted_names']].apply(\n",
    "        lambda x: insert_sentence_after_period(x['premise'], x['formatted_names']), axis=1)\n",
    "\n",
    "    # Preprocess smcdel\n",
    "    data['target_sf'] = data['smcdel_problem']\n",
    "\n",
    "    # label\n",
    "    data['target_label'] = data['label'].apply(lambda x: 1 if x == 'entailment' else 0)\n",
    "\n",
    "    # setup\n",
    "    data['setup'] = data['setup'].astype('category')\n",
    "\n",
    "    # Drop unnecessary columns\n",
    "    keep_columns = ['setup', 'context', 'hypothesis', 'target_sf', 'target_label', 'n_announcements']\n",
    "    data = data[keep_columns]\n",
    "\n",
    "    return data\n",
    "\n",
    "\n",
    "train = preprocess(train)\n",
    "val = preprocess(val)\n",
    "test = preprocess(test)"
   ],
   "metadata": {
    "collapsed": false,
    "ExecuteTime": {
     "end_time": "2024-03-12T07:45:43.727020Z",
     "start_time": "2024-03-12T07:45:43.600007Z"
    }
   },
   "id": "a5f95466a623ed13",
   "execution_count": 33
  },
  {
   "cell_type": "markdown",
   "source": [
    "preprocessed data showcase"
   ],
   "metadata": {
    "collapsed": false
   },
   "id": "a149b615bfdee92f"
  },
  {
   "cell_type": "code",
   "outputs": [
    {
     "data": {
      "text/plain": "             setup                                            context  \\\n0         internal  There are four persons. Their names are Aubrey...   \n1         internal  There are four persons. Their names are Maria,...   \n2         internal  There are two persons. Their names are Donna, ...   \n3  forehead_mirror  There are three persons. Their names are Leon,...   \n4         forehead  There are four persons. Their names are John, ...   \n\n                                          hypothesis  \\\n0  Nichole can now know whether Aubrey can know w...   \n1  Maria can now know that Ernestine can know whe...   \n2      Gabriel can now know that someone is thirsty.   \n3  Kevin can now know that Tracie can know that n...   \n4  Gregory can now know that Chasity can know tha...   \n\n                                           target_sf  target_label  \\\n0  VARS 1,2,3,4 LAW Top OBS Agenta:1 Agentb:2 Age...             1   \n1  VARS 1,2,3,4 LAW Top OBS Agenta:1 Agentb:2 Age...             0   \n2  VARS 1,2 LAW Top OBS Agenta:1 Agentb:2 VALID? ...             1   \n3  VARS 1,2,3 LAW Top OBS Agenta:1,2,3 Agentb:1,2...             0   \n4  VARS 1,2,3,4 LAW Top OBS Agenta:2,3,4 Agentb:1...             0   \n\n   n_announcements  \n0                2  \n1                2  \n2                2  \n3                1  \n4                1  ",
      "text/html": "<div>\n<style scoped>\n    .dataframe tbody tr th:only-of-type {\n        vertical-align: middle;\n    }\n\n    .dataframe tbody tr th {\n        vertical-align: top;\n    }\n\n    .dataframe thead th {\n        text-align: right;\n    }\n</style>\n<table border=\"1\" class=\"dataframe\">\n  <thead>\n    <tr style=\"text-align: right;\">\n      <th></th>\n      <th>setup</th>\n      <th>context</th>\n      <th>hypothesis</th>\n      <th>target_sf</th>\n      <th>target_label</th>\n      <th>n_announcements</th>\n    </tr>\n  </thead>\n  <tbody>\n    <tr>\n      <th>0</th>\n      <td>internal</td>\n      <td>There are four persons. Their names are Aubrey...</td>\n      <td>Nichole can now know whether Aubrey can know w...</td>\n      <td>VARS 1,2,3,4 LAW Top OBS Agenta:1 Agentb:2 Age...</td>\n      <td>1</td>\n      <td>2</td>\n    </tr>\n    <tr>\n      <th>1</th>\n      <td>internal</td>\n      <td>There are four persons. Their names are Maria,...</td>\n      <td>Maria can now know that Ernestine can know whe...</td>\n      <td>VARS 1,2,3,4 LAW Top OBS Agenta:1 Agentb:2 Age...</td>\n      <td>0</td>\n      <td>2</td>\n    </tr>\n    <tr>\n      <th>2</th>\n      <td>internal</td>\n      <td>There are two persons. Their names are Donna, ...</td>\n      <td>Gabriel can now know that someone is thirsty.</td>\n      <td>VARS 1,2 LAW Top OBS Agenta:1 Agentb:2 VALID? ...</td>\n      <td>1</td>\n      <td>2</td>\n    </tr>\n    <tr>\n      <th>3</th>\n      <td>forehead_mirror</td>\n      <td>There are three persons. Their names are Leon,...</td>\n      <td>Kevin can now know that Tracie can know that n...</td>\n      <td>VARS 1,2,3 LAW Top OBS Agenta:1,2,3 Agentb:1,2...</td>\n      <td>0</td>\n      <td>1</td>\n    </tr>\n    <tr>\n      <th>4</th>\n      <td>forehead</td>\n      <td>There are four persons. Their names are John, ...</td>\n      <td>Gregory can now know that Chasity can know tha...</td>\n      <td>VARS 1,2,3,4 LAW Top OBS Agenta:2,3,4 Agentb:1...</td>\n      <td>0</td>\n      <td>1</td>\n    </tr>\n  </tbody>\n</table>\n</div>"
     },
     "execution_count": 34,
     "metadata": {},
     "output_type": "execute_result"
    }
   ],
   "source": [
    "train.head(5)"
   ],
   "metadata": {
    "collapsed": false,
    "ExecuteTime": {
     "end_time": "2024-03-12T07:45:43.731962Z",
     "start_time": "2024-03-12T07:45:43.727596Z"
    }
   },
   "id": "9cb394481c0926a1",
   "execution_count": 34
  },
  {
   "cell_type": "markdown",
   "source": [
    "## 4. Prompt Example preparation "
   ],
   "metadata": {
    "collapsed": false
   },
   "id": "f7613dd8950c50ad"
  },
  {
   "cell_type": "code",
   "outputs": [],
   "source": [
    "internal_sample = train[train['setup'] == 'internal'].sample(1, random_state=random_state).iloc[0]\n",
    "forehead_sample = train[train['setup'] == 'forehead'].sample(1, random_state=random_state).iloc[0]\n",
    "explicit_sample = train[train['setup'] == 'explicit'].sample(1, random_state=random_state).iloc[0]\n",
    "forehead_mirror_sample = train[train['setup'] == 'forehead_mirror'].sample(1, random_state=random_state).iloc[0]\n",
    "\n",
    "\n",
    "def choose_example(setup: str) -> pd.Series:\n",
    "    \"\"\"\n",
    "    Choose an example from the train set based on the setup\n",
    "    :param setup: \n",
    "    :return: \n",
    "    \"\"\"\n",
    "    if setup == 'internal':\n",
    "        return internal_sample\n",
    "    elif setup == 'forehead':\n",
    "        return forehead_sample\n",
    "    elif setup == 'explicit':\n",
    "        return explicit_sample\n",
    "    elif setup == 'forehead_mirror':\n",
    "        return forehead_mirror_sample\n",
    "    else:\n",
    "        raise ValueError(f\"Invalid setup: {setup}\")\n"
   ],
   "metadata": {
    "collapsed": false,
    "ExecuteTime": {
     "end_time": "2024-03-12T07:45:48.154880Z",
     "start_time": "2024-03-12T07:45:48.122050Z"
    }
   },
   "id": "42c2a5e0252ca5a6",
   "execution_count": 35
  },
  {
   "cell_type": "markdown",
   "source": [
    "# ToM-LM Model"
   ],
   "metadata": {
    "collapsed": false
   },
   "id": "8b3712598c01c7ff"
  },
  {
   "cell_type": "markdown",
   "source": [
    "## 1. Model Initialization"
   ],
   "metadata": {
    "collapsed": false
   },
   "id": "80e3a022a390724e"
  },
  {
   "cell_type": "code",
   "outputs": [
    {
     "name": "stdout",
     "output_type": "stream",
     "text": [
      "<models.openai_llm.OpenAILLM object at 0x280f35e20>\n"
     ]
    }
   ],
   "source": [
    "if model_name in {\"gpt-3.5-turbo\", \"gpt-4\"}:\n",
    "    model = OpenAILLM(model_name=model_name)\n",
    "elif model_name == \"gemma\":\n",
    "    model = OllamaLLM(model_name=model_name)\n",
    "else:\n",
    "    raise ValueError(f\"Invalid model name: {model_name}\")\n",
    "\n",
    "print(model)\n",
    "\n",
    "model: BaseLLM = model"
   ],
   "metadata": {
    "collapsed": false,
    "ExecuteTime": {
     "end_time": "2024-03-12T07:45:49.678913Z",
     "start_time": "2024-03-12T07:45:49.656198Z"
    }
   },
   "id": "c5d9c3ff3481052d",
   "execution_count": 36
  },
  {
   "cell_type": "markdown",
   "source": [
    "## 2. Test Samples Preparation"
   ],
   "metadata": {
    "collapsed": false
   },
   "id": "86a47da237452f58"
  },
  {
   "cell_type": "code",
   "outputs": [
    {
     "name": "stdout",
     "output_type": "stream",
     "text": [
      "Sample size for each setup:  2\n",
      "Total sample size:  20\n"
     ]
    },
    {
     "data": {
      "text/plain": "                setup                                            context  \\\n2270         explicit  There are four persons. Their names are Freder...   \n2541         explicit  There are two persons. Their names are Justin,...   \n2828         explicit  There are three persons. Their names are Guada...   \n888          explicit  There are two persons. Their names are Dirk, a...   \n1555         forehead  There are four persons. Their names are Margar...   \n2418         forehead  There are four persons. Their names are Angela...   \n2455         forehead  There are three persons. Their names are Debor...   \n1801         forehead  There are four persons. Their names are Tracy,...   \n409   forehead_mirror  There are four persons. Their names are Theres...   \n234   forehead_mirror  There are three persons. Their names are Victo...   \n911   forehead_mirror  There are two persons. Their names are Lissett...   \n675   forehead_mirror  There are three persons. Their names are Frank...   \n1333         internal  There are three persons. Their names are Henry...   \n1260         internal  There are two persons. Their names are Danny, ...   \n2409         internal  There are three persons. Their names are Tommi...   \n3521         internal  There are two persons. Their names are Michael...   \n\n                                             hypothesis  \\\n2270  David can now know whether or not everyone pic...   \n2541  Justin can now know that Bryan can know that J...   \n2828  Melinda can now know whether someone picked a ...   \n888   Dirk can now know that Vicki can know whether ...   \n1555  Juliet can now know that Virginia can know tha...   \n2418  Lucille can now know that Bessie's forehead is...   \n2455  Bret can now know that Juan can know whether o...   \n1801  James can now know whether David can know whet...   \n409      Ora can now know that Ann's forehead is muddy.   \n234   Victoria can now know that Andrew can know tha...   \n911   Lissette can now know whether Sara can know th...   \n675   Sandra can now know that Frank can know whethe...   \n1333          Rosie can now know that Henry is thirsty.   \n1260  Danny can now know that Harry can know that no...   \n2409  Minerva can now know whether Tommie can know w...   \n3521  Michael can now know that Robert can know whet...   \n\n                                              target_sf  target_label  \\\n2270  VARS 1,2,3,4 LAW Top OBS Agenta:3 Agentb:1 Age...             0   \n2541  VARS 1,2 LAW Top OBS Agenta:1 Agentb:1,2 VALID...             0   \n2828  VARS 1,2,3 LAW Top OBS Agenta:1,2 Agentb:3 Age...             1   \n888   VARS 1,2 LAW Top OBS Agenta:2 Agentb:1 VALID? ...             1   \n1555  VARS 1,2,3,4 LAW Top OBS Agenta:2,3,4 Agentb:1...             0   \n2418  VARS 1,2,3,4 LAW Top OBS Agenta:2,3,4 Agentb:1...             0   \n2455  VARS 1,2,3 LAW Top OBS Agenta:2,3 Agentb:1,3 A...             1   \n1801  VARS 1,2,3,4 LAW Top OBS Agenta:2,3,4 Agentb:1...             1   \n409   VARS 1,2,3,4 LAW Top OBS Agenta:1,2,3,4 Agentb...             0   \n234   VARS 1,2,3 LAW Top OBS Agenta:1,2,3 Agentb:1,2...             0   \n911   VARS 1,2 LAW Top OBS Agenta:1,2 Agentb:1,2 VAL...             1   \n675   VARS 1,2,3 LAW Top OBS Agenta:1,2,3 Agentb:1,2...             1   \n1333  VARS 1,2,3 LAW Top OBS Agenta:1 Agentb:2 Agent...             0   \n1260  VARS 1,2 LAW Top OBS Agenta:1 Agentb:2 VALID? ...             0   \n2409  VARS 1,2,3 LAW Top OBS Agenta:1 Agentb:2 Agent...             1   \n3521  VARS 1,2 LAW Top OBS Agenta:1 Agentb:2 VALID? ...             1   \n\n      n_announcements predicted_sf  predicted_label  \n2270                0                            -1  \n2541                1                            -1  \n2828                0                            -1  \n888                 1                            -1  \n1555                4                            -1  \n2418                1                            -1  \n2455                1                            -1  \n1801                2                            -1  \n409                 1                            -1  \n234                 1                            -1  \n911                 1                            -1  \n675                 1                            -1  \n1333                2                            -1  \n1260                4                            -1  \n2409                1                            -1  \n3521                1                            -1  ",
      "text/html": "<div>\n<style scoped>\n    .dataframe tbody tr th:only-of-type {\n        vertical-align: middle;\n    }\n\n    .dataframe tbody tr th {\n        vertical-align: top;\n    }\n\n    .dataframe thead th {\n        text-align: right;\n    }\n</style>\n<table border=\"1\" class=\"dataframe\">\n  <thead>\n    <tr style=\"text-align: right;\">\n      <th></th>\n      <th>setup</th>\n      <th>context</th>\n      <th>hypothesis</th>\n      <th>target_sf</th>\n      <th>target_label</th>\n      <th>n_announcements</th>\n      <th>predicted_sf</th>\n      <th>predicted_label</th>\n    </tr>\n  </thead>\n  <tbody>\n    <tr>\n      <th>2270</th>\n      <td>explicit</td>\n      <td>There are four persons. Their names are Freder...</td>\n      <td>David can now know whether or not everyone pic...</td>\n      <td>VARS 1,2,3,4 LAW Top OBS Agenta:3 Agentb:1 Age...</td>\n      <td>0</td>\n      <td>0</td>\n      <td></td>\n      <td>-1</td>\n    </tr>\n    <tr>\n      <th>2541</th>\n      <td>explicit</td>\n      <td>There are two persons. Their names are Justin,...</td>\n      <td>Justin can now know that Bryan can know that J...</td>\n      <td>VARS 1,2 LAW Top OBS Agenta:1 Agentb:1,2 VALID...</td>\n      <td>0</td>\n      <td>1</td>\n      <td></td>\n      <td>-1</td>\n    </tr>\n    <tr>\n      <th>2828</th>\n      <td>explicit</td>\n      <td>There are three persons. Their names are Guada...</td>\n      <td>Melinda can now know whether someone picked a ...</td>\n      <td>VARS 1,2,3 LAW Top OBS Agenta:1,2 Agentb:3 Age...</td>\n      <td>1</td>\n      <td>0</td>\n      <td></td>\n      <td>-1</td>\n    </tr>\n    <tr>\n      <th>888</th>\n      <td>explicit</td>\n      <td>There are two persons. Their names are Dirk, a...</td>\n      <td>Dirk can now know that Vicki can know whether ...</td>\n      <td>VARS 1,2 LAW Top OBS Agenta:2 Agentb:1 VALID? ...</td>\n      <td>1</td>\n      <td>1</td>\n      <td></td>\n      <td>-1</td>\n    </tr>\n    <tr>\n      <th>1555</th>\n      <td>forehead</td>\n      <td>There are four persons. Their names are Margar...</td>\n      <td>Juliet can now know that Virginia can know tha...</td>\n      <td>VARS 1,2,3,4 LAW Top OBS Agenta:2,3,4 Agentb:1...</td>\n      <td>0</td>\n      <td>4</td>\n      <td></td>\n      <td>-1</td>\n    </tr>\n    <tr>\n      <th>2418</th>\n      <td>forehead</td>\n      <td>There are four persons. Their names are Angela...</td>\n      <td>Lucille can now know that Bessie's forehead is...</td>\n      <td>VARS 1,2,3,4 LAW Top OBS Agenta:2,3,4 Agentb:1...</td>\n      <td>0</td>\n      <td>1</td>\n      <td></td>\n      <td>-1</td>\n    </tr>\n    <tr>\n      <th>2455</th>\n      <td>forehead</td>\n      <td>There are three persons. Their names are Debor...</td>\n      <td>Bret can now know that Juan can know whether o...</td>\n      <td>VARS 1,2,3 LAW Top OBS Agenta:2,3 Agentb:1,3 A...</td>\n      <td>1</td>\n      <td>1</td>\n      <td></td>\n      <td>-1</td>\n    </tr>\n    <tr>\n      <th>1801</th>\n      <td>forehead</td>\n      <td>There are four persons. Their names are Tracy,...</td>\n      <td>James can now know whether David can know whet...</td>\n      <td>VARS 1,2,3,4 LAW Top OBS Agenta:2,3,4 Agentb:1...</td>\n      <td>1</td>\n      <td>2</td>\n      <td></td>\n      <td>-1</td>\n    </tr>\n    <tr>\n      <th>409</th>\n      <td>forehead_mirror</td>\n      <td>There are four persons. Their names are Theres...</td>\n      <td>Ora can now know that Ann's forehead is muddy.</td>\n      <td>VARS 1,2,3,4 LAW Top OBS Agenta:1,2,3,4 Agentb...</td>\n      <td>0</td>\n      <td>1</td>\n      <td></td>\n      <td>-1</td>\n    </tr>\n    <tr>\n      <th>234</th>\n      <td>forehead_mirror</td>\n      <td>There are three persons. Their names are Victo...</td>\n      <td>Victoria can now know that Andrew can know tha...</td>\n      <td>VARS 1,2,3 LAW Top OBS Agenta:1,2,3 Agentb:1,2...</td>\n      <td>0</td>\n      <td>1</td>\n      <td></td>\n      <td>-1</td>\n    </tr>\n    <tr>\n      <th>911</th>\n      <td>forehead_mirror</td>\n      <td>There are two persons. Their names are Lissett...</td>\n      <td>Lissette can now know whether Sara can know th...</td>\n      <td>VARS 1,2 LAW Top OBS Agenta:1,2 Agentb:1,2 VAL...</td>\n      <td>1</td>\n      <td>1</td>\n      <td></td>\n      <td>-1</td>\n    </tr>\n    <tr>\n      <th>675</th>\n      <td>forehead_mirror</td>\n      <td>There are three persons. Their names are Frank...</td>\n      <td>Sandra can now know that Frank can know whethe...</td>\n      <td>VARS 1,2,3 LAW Top OBS Agenta:1,2,3 Agentb:1,2...</td>\n      <td>1</td>\n      <td>1</td>\n      <td></td>\n      <td>-1</td>\n    </tr>\n    <tr>\n      <th>1333</th>\n      <td>internal</td>\n      <td>There are three persons. Their names are Henry...</td>\n      <td>Rosie can now know that Henry is thirsty.</td>\n      <td>VARS 1,2,3 LAW Top OBS Agenta:1 Agentb:2 Agent...</td>\n      <td>0</td>\n      <td>2</td>\n      <td></td>\n      <td>-1</td>\n    </tr>\n    <tr>\n      <th>1260</th>\n      <td>internal</td>\n      <td>There are two persons. Their names are Danny, ...</td>\n      <td>Danny can now know that Harry can know that no...</td>\n      <td>VARS 1,2 LAW Top OBS Agenta:1 Agentb:2 VALID? ...</td>\n      <td>0</td>\n      <td>4</td>\n      <td></td>\n      <td>-1</td>\n    </tr>\n    <tr>\n      <th>2409</th>\n      <td>internal</td>\n      <td>There are three persons. Their names are Tommi...</td>\n      <td>Minerva can now know whether Tommie can know w...</td>\n      <td>VARS 1,2,3 LAW Top OBS Agenta:1 Agentb:2 Agent...</td>\n      <td>1</td>\n      <td>1</td>\n      <td></td>\n      <td>-1</td>\n    </tr>\n    <tr>\n      <th>3521</th>\n      <td>internal</td>\n      <td>There are two persons. Their names are Michael...</td>\n      <td>Michael can now know that Robert can know whet...</td>\n      <td>VARS 1,2 LAW Top OBS Agenta:1 Agentb:2 VALID? ...</td>\n      <td>1</td>\n      <td>1</td>\n      <td></td>\n      <td>-1</td>\n    </tr>\n  </tbody>\n</table>\n</div>"
     },
     "execution_count": 39,
     "metadata": {},
     "output_type": "execute_result"
    }
   ],
   "source": [
    "sample_size_for_each_setup = sample_size // (len(train['setup'].unique()) * len(train['target_label'].unique()))\n",
    "samples = test.groupby([\n",
    "    'setup',\n",
    "    'target_label'\n",
    "], observed=True).sample(sample_size_for_each_setup, random_state=random_state,\n",
    "                         replace=False)\n",
    "\n",
    "# Add columns for the predicted sf, predicated_label\n",
    "samples['predicted_sf'] = \"\"\n",
    "samples['predicted_label'] = -1\n",
    "\n",
    "print(\"Sample size for each setup: \", sample_size_for_each_setup)\n",
    "print(\"Total sample size: \", sample_size)\n",
    "\n",
    "samples"
   ],
   "metadata": {
    "collapsed": false,
    "ExecuteTime": {
     "end_time": "2024-03-12T07:47:36.783329Z",
     "start_time": "2024-03-12T07:47:36.735426Z"
    }
   },
   "id": "32c6bee40939d2d3",
   "execution_count": 39
  },
  {
   "cell_type": "markdown",
   "source": [
    "## 3. SF Prediction/Generation"
   ],
   "metadata": {
    "collapsed": false
   },
   "id": "4a85d22e8caa2173"
  },
  {
   "cell_type": "code",
   "outputs": [
    {
     "name": "stdout",
     "output_type": "stream",
     "text": [
      "Processing sample 1/16\n",
      "Processing sample 2/16\n",
      "Processing sample 3/16\n",
      "Processing sample 4/16\n",
      "Processing sample 5/16\n",
      "Processing sample 6/16\n",
      "Processing sample 7/16\n",
      "Processing sample 8/16\n",
      "Processing sample 9/16\n",
      "Processing sample 10/16\n",
      "Processing sample 11/16\n",
      "Processing sample 12/16\n",
      "Processing sample 13/16\n",
      "Processing sample 14/16\n",
      "Processing sample 15/16\n",
      "Processing sample 16/16\n"
     ]
    }
   ],
   "source": [
    "def nl2sf_predict(row: pd.Series):\n",
    "    setup = row['setup']\n",
    "    example = choose_example(setup)\n",
    "    context = row['context']\n",
    "    hypothesis = row['hypothesis']\n",
    "    prompt = get_prompt(\n",
    "        example_context=example['context'],\n",
    "        example_hypothesis=example['hypothesis'],\n",
    "        example_sf=example['target_sf'],\n",
    "        problem_context=context,\n",
    "        problem_hypothesis=hypothesis\n",
    "    )\n",
    "    sf = model.complete(prompt)\n",
    "    row['predicted_sf'] = sf\n",
    "    return row\n",
    "\n",
    "\n",
    "for i, (index, row) in enumerate(samples.iterrows()):\n",
    "    print(f\"Processing sample {i + 1}/{len(samples)}\")\n",
    "    samples.loc[index] = nl2sf_predict(row)"
   ],
   "metadata": {
    "collapsed": false,
    "ExecuteTime": {
     "end_time": "2024-03-12T07:48:54.525381Z",
     "start_time": "2024-03-12T07:47:55.168808Z"
    }
   },
   "id": "c672d1263cee8507",
   "execution_count": 40
  },
  {
   "cell_type": "code",
   "outputs": [],
   "source": [
    "save_nl2sf(samples, name_info=name_info)"
   ],
   "metadata": {
    "collapsed": false,
    "ExecuteTime": {
     "end_time": "2024-03-12T07:49:07.832460Z",
     "start_time": "2024-03-12T07:49:07.816023Z"
    }
   },
   "id": "c5cb36d2b39c8fa6",
   "execution_count": 41
  },
  {
   "cell_type": "markdown",
   "source": [
    "## 4. SMCDEL Prediction"
   ],
   "metadata": {
    "collapsed": false
   },
   "id": "f6705013e1336e1f"
  },
  {
   "cell_type": "code",
   "outputs": [
    {
     "data": {
      "text/plain": "         setup                                            context  \\\n2270  explicit  There are four persons. Their names are Freder...   \n\n                                             hypothesis  \\\n2270  David can now know whether or not everyone pic...   \n\n                                              target_sf  target_label  \\\n2270  VARS 1,2,3,4 LAW Top OBS Agenta:3 Agentb:1 Age...             0   \n\n      n_announcements                                       predicted_sf  \\\n2270                0  VARS 1,2,3,4 LAW Top OBS Agenta:3 Agentb:1,2,4...   \n\n      predicted_label  \n2270               -1  ",
      "text/html": "<div>\n<style scoped>\n    .dataframe tbody tr th:only-of-type {\n        vertical-align: middle;\n    }\n\n    .dataframe tbody tr th {\n        vertical-align: top;\n    }\n\n    .dataframe thead th {\n        text-align: right;\n    }\n</style>\n<table border=\"1\" class=\"dataframe\">\n  <thead>\n    <tr style=\"text-align: right;\">\n      <th></th>\n      <th>setup</th>\n      <th>context</th>\n      <th>hypothesis</th>\n      <th>target_sf</th>\n      <th>target_label</th>\n      <th>n_announcements</th>\n      <th>predicted_sf</th>\n      <th>predicted_label</th>\n    </tr>\n  </thead>\n  <tbody>\n    <tr>\n      <th>2270</th>\n      <td>explicit</td>\n      <td>There are four persons. Their names are Freder...</td>\n      <td>David can now know whether or not everyone pic...</td>\n      <td>VARS 1,2,3,4 LAW Top OBS Agenta:3 Agentb:1 Age...</td>\n      <td>0</td>\n      <td>0</td>\n      <td>VARS 1,2,3,4 LAW Top OBS Agenta:3 Agentb:1,2,4...</td>\n      <td>-1</td>\n    </tr>\n  </tbody>\n</table>\n</div>"
     },
     "execution_count": 42,
     "metadata": {},
     "output_type": "execute_result"
    }
   ],
   "source": [
    "samples = load_nl2sf(name_info=name_info)\n",
    "samples.head(1)"
   ],
   "metadata": {
    "collapsed": false,
    "ExecuteTime": {
     "end_time": "2024-03-12T07:49:09.095239Z",
     "start_time": "2024-03-12T07:49:08.992368Z"
    }
   },
   "id": "db3d823e8969b87c",
   "execution_count": 42
  },
  {
   "cell_type": "code",
   "outputs": [],
   "source": [
    "def sf_predict(row: pd.Series):\n",
    "    sf = row['predicted_sf']\n",
    "    try:\n",
    "        result = SMCDEL(text=sf)\n",
    "        result = 1 if result else 0\n",
    "    except ValueError as e:\n",
    "        result = -1\n",
    "    row['predicted_label'] = result\n",
    "    return row\n",
    "\n",
    "\n",
    "samples = samples.apply(sf_predict, axis=1)\n",
    "save_smcdel_sf(samples, name_info=name_info)"
   ],
   "metadata": {
    "collapsed": false,
    "ExecuteTime": {
     "end_time": "2024-03-12T07:49:13.273729Z",
     "start_time": "2024-03-12T07:49:12.409854Z"
    }
   },
   "id": "b779b1261fb71496",
   "execution_count": 43
  },
  {
   "cell_type": "markdown",
   "source": [
    "# Evaluation"
   ],
   "metadata": {
    "collapsed": false
   },
   "id": "4d254b0234ee3e4"
  },
  {
   "cell_type": "code",
   "outputs": [
    {
     "data": {
      "text/plain": "                setup                                            context  \\\n2270         explicit  There are four persons. Their names are Freder...   \n2541         explicit  There are two persons. Their names are Justin,...   \n2828         explicit  There are three persons. Their names are Guada...   \n888          explicit  There are two persons. Their names are Dirk, a...   \n1555         forehead  There are four persons. Their names are Margar...   \n2418         forehead  There are four persons. Their names are Angela...   \n2455         forehead  There are three persons. Their names are Debor...   \n1801         forehead  There are four persons. Their names are Tracy,...   \n409   forehead_mirror  There are four persons. Their names are Theres...   \n234   forehead_mirror  There are three persons. Their names are Victo...   \n911   forehead_mirror  There are two persons. Their names are Lissett...   \n675   forehead_mirror  There are three persons. Their names are Frank...   \n1333         internal  There are three persons. Their names are Henry...   \n1260         internal  There are two persons. Their names are Danny, ...   \n2409         internal  There are three persons. Their names are Tommi...   \n3521         internal  There are two persons. Their names are Michael...   \n\n                                             hypothesis  \\\n2270  David can now know whether or not everyone pic...   \n2541  Justin can now know that Bryan can know that J...   \n2828  Melinda can now know whether someone picked a ...   \n888   Dirk can now know that Vicki can know whether ...   \n1555  Juliet can now know that Virginia can know tha...   \n2418  Lucille can now know that Bessie's forehead is...   \n2455  Bret can now know that Juan can know whether o...   \n1801  James can now know whether David can know whet...   \n409      Ora can now know that Ann's forehead is muddy.   \n234   Victoria can now know that Andrew can know tha...   \n911   Lissette can now know whether Sara can know th...   \n675   Sandra can now know that Frank can know whethe...   \n1333          Rosie can now know that Henry is thirsty.   \n1260  Danny can now know that Harry can know that no...   \n2409  Minerva can now know whether Tommie can know w...   \n3521  Michael can now know that Robert can know whet...   \n\n                                              target_sf  target_label  \\\n2270  VARS 1,2,3,4 LAW Top OBS Agenta:3 Agentb:1 Age...             0   \n2541  VARS 1,2 LAW Top OBS Agenta:1 Agentb:1,2 VALID...             0   \n2828  VARS 1,2,3 LAW Top OBS Agenta:1,2 Agentb:3 Age...             1   \n888   VARS 1,2 LAW Top OBS Agenta:2 Agentb:1 VALID? ...             1   \n1555  VARS 1,2,3,4 LAW Top OBS Agenta:2,3,4 Agentb:1...             0   \n2418  VARS 1,2,3,4 LAW Top OBS Agenta:2,3,4 Agentb:1...             0   \n2455  VARS 1,2,3 LAW Top OBS Agenta:2,3 Agentb:1,3 A...             1   \n1801  VARS 1,2,3,4 LAW Top OBS Agenta:2,3,4 Agentb:1...             1   \n409   VARS 1,2,3,4 LAW Top OBS Agenta:1,2,3,4 Agentb...             0   \n234   VARS 1,2,3 LAW Top OBS Agenta:1,2,3 Agentb:1,2...             0   \n911   VARS 1,2 LAW Top OBS Agenta:1,2 Agentb:1,2 VAL...             1   \n675   VARS 1,2,3 LAW Top OBS Agenta:1,2,3 Agentb:1,2...             1   \n1333  VARS 1,2,3 LAW Top OBS Agenta:1 Agentb:2 Agent...             0   \n1260  VARS 1,2 LAW Top OBS Agenta:1 Agentb:2 VALID? ...             0   \n2409  VARS 1,2,3 LAW Top OBS Agenta:1 Agentb:2 Agent...             1   \n3521  VARS 1,2 LAW Top OBS Agenta:1 Agentb:2 VALID? ...             1   \n\n      n_announcements                                       predicted_sf  \\\n2270                0  VARS 1,2,3,4 LAW Top OBS Agenta:3 Agentb:1,2,4...   \n2541                1  VARS 1,2 LAW Top OBS Agenta:1,2 Agentb:2 VALID...   \n2828                0  VARS 1,2,3 LAW Top OBS Agentg:1,2 Agentm:3 Age...   \n888                 1  VARS 1,2 LAW Top OBS Agentb:1 Agenta:1,2 VALID...   \n1555                4  VARS 1,2,3,4 LAW Top OBS Agenta:2,3,4 Agentb:1...   \n2418                1  VARS 1,2,3,4 LAW Top OBS Agenta:2,3,4 Agentb:1...   \n2455                1  VARS 1,2,3 LAW Top OBS Agenta:2,3 Agentb:1,3 A...   \n1801                2  VARS 1,2,3,4 LAW Top OBS Agenta:2,3,4 Agentb:1...   \n409                 1  VARS 1,2,3,4 LAW Top OBS Agent1:1,2,3,4 Agent2...   \n234                 1  VARS 1,2,3 LAW Top OBS Agentv:1,2,3 Agentb:1,2...   \n911                 1  VARS 1,2 LAW Top OBS Agenta:1,2 Agentb:1,2 VAL...   \n675                 1  VARS 1,2,3 LAW Top OBS Agentf:1,2,3 Agents:1,2...   \n1333                2  VARS 1,2,3 LAW Top OBS Agent1:1 Agent2:2 Agent...   \n1260                4  VARS 1,2 LAW Top OBS Agent1:1 Agent2:2 VALID? ...   \n2409                1  VARS 1,2,3 LAW Top OBS AgentA:1 AgentB:2 Agent...   \n3521                1  VARS 1,2 LAW Top OBS Agenta:1 Agentb:2 VALID? ...   \n\n      predicted_label  \n2270                0  \n2541               -1  \n2828                1  \n888                 1  \n1555                1  \n2418                0  \n2455                1  \n1801                1  \n409                 1  \n234                -1  \n911                 1  \n675                 1  \n1333                0  \n1260                0  \n2409                0  \n3521                1  ",
      "text/html": "<div>\n<style scoped>\n    .dataframe tbody tr th:only-of-type {\n        vertical-align: middle;\n    }\n\n    .dataframe tbody tr th {\n        vertical-align: top;\n    }\n\n    .dataframe thead th {\n        text-align: right;\n    }\n</style>\n<table border=\"1\" class=\"dataframe\">\n  <thead>\n    <tr style=\"text-align: right;\">\n      <th></th>\n      <th>setup</th>\n      <th>context</th>\n      <th>hypothesis</th>\n      <th>target_sf</th>\n      <th>target_label</th>\n      <th>n_announcements</th>\n      <th>predicted_sf</th>\n      <th>predicted_label</th>\n    </tr>\n  </thead>\n  <tbody>\n    <tr>\n      <th>2270</th>\n      <td>explicit</td>\n      <td>There are four persons. Their names are Freder...</td>\n      <td>David can now know whether or not everyone pic...</td>\n      <td>VARS 1,2,3,4 LAW Top OBS Agenta:3 Agentb:1 Age...</td>\n      <td>0</td>\n      <td>0</td>\n      <td>VARS 1,2,3,4 LAW Top OBS Agenta:3 Agentb:1,2,4...</td>\n      <td>0</td>\n    </tr>\n    <tr>\n      <th>2541</th>\n      <td>explicit</td>\n      <td>There are two persons. Their names are Justin,...</td>\n      <td>Justin can now know that Bryan can know that J...</td>\n      <td>VARS 1,2 LAW Top OBS Agenta:1 Agentb:1,2 VALID...</td>\n      <td>0</td>\n      <td>1</td>\n      <td>VARS 1,2 LAW Top OBS Agenta:1,2 Agentb:2 VALID...</td>\n      <td>-1</td>\n    </tr>\n    <tr>\n      <th>2828</th>\n      <td>explicit</td>\n      <td>There are three persons. Their names are Guada...</td>\n      <td>Melinda can now know whether someone picked a ...</td>\n      <td>VARS 1,2,3 LAW Top OBS Agenta:1,2 Agentb:3 Age...</td>\n      <td>1</td>\n      <td>0</td>\n      <td>VARS 1,2,3 LAW Top OBS Agentg:1,2 Agentm:3 Age...</td>\n      <td>1</td>\n    </tr>\n    <tr>\n      <th>888</th>\n      <td>explicit</td>\n      <td>There are two persons. Their names are Dirk, a...</td>\n      <td>Dirk can now know that Vicki can know whether ...</td>\n      <td>VARS 1,2 LAW Top OBS Agenta:2 Agentb:1 VALID? ...</td>\n      <td>1</td>\n      <td>1</td>\n      <td>VARS 1,2 LAW Top OBS Agentb:1 Agenta:1,2 VALID...</td>\n      <td>1</td>\n    </tr>\n    <tr>\n      <th>1555</th>\n      <td>forehead</td>\n      <td>There are four persons. Their names are Margar...</td>\n      <td>Juliet can now know that Virginia can know tha...</td>\n      <td>VARS 1,2,3,4 LAW Top OBS Agenta:2,3,4 Agentb:1...</td>\n      <td>0</td>\n      <td>4</td>\n      <td>VARS 1,2,3,4 LAW Top OBS Agenta:2,3,4 Agentb:1...</td>\n      <td>1</td>\n    </tr>\n    <tr>\n      <th>2418</th>\n      <td>forehead</td>\n      <td>There are four persons. Their names are Angela...</td>\n      <td>Lucille can now know that Bessie's forehead is...</td>\n      <td>VARS 1,2,3,4 LAW Top OBS Agenta:2,3,4 Agentb:1...</td>\n      <td>0</td>\n      <td>1</td>\n      <td>VARS 1,2,3,4 LAW Top OBS Agenta:2,3,4 Agentb:1...</td>\n      <td>0</td>\n    </tr>\n    <tr>\n      <th>2455</th>\n      <td>forehead</td>\n      <td>There are three persons. Their names are Debor...</td>\n      <td>Bret can now know that Juan can know whether o...</td>\n      <td>VARS 1,2,3 LAW Top OBS Agenta:2,3 Agentb:1,3 A...</td>\n      <td>1</td>\n      <td>1</td>\n      <td>VARS 1,2,3 LAW Top OBS Agenta:2,3 Agentb:1,3 A...</td>\n      <td>1</td>\n    </tr>\n    <tr>\n      <th>1801</th>\n      <td>forehead</td>\n      <td>There are four persons. Their names are Tracy,...</td>\n      <td>James can now know whether David can know whet...</td>\n      <td>VARS 1,2,3,4 LAW Top OBS Agenta:2,3,4 Agentb:1...</td>\n      <td>1</td>\n      <td>2</td>\n      <td>VARS 1,2,3,4 LAW Top OBS Agenta:2,3,4 Agentb:1...</td>\n      <td>1</td>\n    </tr>\n    <tr>\n      <th>409</th>\n      <td>forehead_mirror</td>\n      <td>There are four persons. Their names are Theres...</td>\n      <td>Ora can now know that Ann's forehead is muddy.</td>\n      <td>VARS 1,2,3,4 LAW Top OBS Agenta:1,2,3,4 Agentb...</td>\n      <td>0</td>\n      <td>1</td>\n      <td>VARS 1,2,3,4 LAW Top OBS Agent1:1,2,3,4 Agent2...</td>\n      <td>1</td>\n    </tr>\n    <tr>\n      <th>234</th>\n      <td>forehead_mirror</td>\n      <td>There are three persons. Their names are Victo...</td>\n      <td>Victoria can now know that Andrew can know tha...</td>\n      <td>VARS 1,2,3 LAW Top OBS Agenta:1,2,3 Agentb:1,2...</td>\n      <td>0</td>\n      <td>1</td>\n      <td>VARS 1,2,3 LAW Top OBS Agentv:1,2,3 Agentb:1,2...</td>\n      <td>-1</td>\n    </tr>\n    <tr>\n      <th>911</th>\n      <td>forehead_mirror</td>\n      <td>There are two persons. Their names are Lissett...</td>\n      <td>Lissette can now know whether Sara can know th...</td>\n      <td>VARS 1,2 LAW Top OBS Agenta:1,2 Agentb:1,2 VAL...</td>\n      <td>1</td>\n      <td>1</td>\n      <td>VARS 1,2 LAW Top OBS Agenta:1,2 Agentb:1,2 VAL...</td>\n      <td>1</td>\n    </tr>\n    <tr>\n      <th>675</th>\n      <td>forehead_mirror</td>\n      <td>There are three persons. Their names are Frank...</td>\n      <td>Sandra can now know that Frank can know whethe...</td>\n      <td>VARS 1,2,3 LAW Top OBS Agenta:1,2,3 Agentb:1,2...</td>\n      <td>1</td>\n      <td>1</td>\n      <td>VARS 1,2,3 LAW Top OBS Agentf:1,2,3 Agents:1,2...</td>\n      <td>1</td>\n    </tr>\n    <tr>\n      <th>1333</th>\n      <td>internal</td>\n      <td>There are three persons. Their names are Henry...</td>\n      <td>Rosie can now know that Henry is thirsty.</td>\n      <td>VARS 1,2,3 LAW Top OBS Agenta:1 Agentb:2 Agent...</td>\n      <td>0</td>\n      <td>2</td>\n      <td>VARS 1,2,3 LAW Top OBS Agent1:1 Agent2:2 Agent...</td>\n      <td>0</td>\n    </tr>\n    <tr>\n      <th>1260</th>\n      <td>internal</td>\n      <td>There are two persons. Their names are Danny, ...</td>\n      <td>Danny can now know that Harry can know that no...</td>\n      <td>VARS 1,2 LAW Top OBS Agenta:1 Agentb:2 VALID? ...</td>\n      <td>0</td>\n      <td>4</td>\n      <td>VARS 1,2 LAW Top OBS Agent1:1 Agent2:2 VALID? ...</td>\n      <td>0</td>\n    </tr>\n    <tr>\n      <th>2409</th>\n      <td>internal</td>\n      <td>There are three persons. Their names are Tommi...</td>\n      <td>Minerva can now know whether Tommie can know w...</td>\n      <td>VARS 1,2,3 LAW Top OBS Agenta:1 Agentb:2 Agent...</td>\n      <td>1</td>\n      <td>1</td>\n      <td>VARS 1,2,3 LAW Top OBS AgentA:1 AgentB:2 Agent...</td>\n      <td>0</td>\n    </tr>\n    <tr>\n      <th>3521</th>\n      <td>internal</td>\n      <td>There are two persons. Their names are Michael...</td>\n      <td>Michael can now know that Robert can know whet...</td>\n      <td>VARS 1,2 LAW Top OBS Agenta:1 Agentb:2 VALID? ...</td>\n      <td>1</td>\n      <td>1</td>\n      <td>VARS 1,2 LAW Top OBS Agenta:1 Agentb:2 VALID? ...</td>\n      <td>1</td>\n    </tr>\n  </tbody>\n</table>\n</div>"
     },
     "execution_count": 44,
     "metadata": {},
     "output_type": "execute_result"
    }
   ],
   "source": [
    "samples = load_smcdel_sf(name_info=name_info)\n",
    "samples"
   ],
   "metadata": {
    "collapsed": false,
    "ExecuteTime": {
     "end_time": "2024-03-12T07:49:15.926347Z",
     "start_time": "2024-03-12T07:49:15.908586Z"
    }
   },
   "id": "2e92a78abcca4245",
   "execution_count": 44
  },
  {
   "cell_type": "code",
   "outputs": [
    {
     "data": {
      "text/plain": "predicted_label\n 1    9\n 0    5\n-1    2\nName: count, dtype: int64"
     },
     "execution_count": 45,
     "metadata": {},
     "output_type": "execute_result"
    }
   ],
   "source": [
    "samples['predicted_label'].value_counts()"
   ],
   "metadata": {
    "collapsed": false,
    "ExecuteTime": {
     "end_time": "2024-03-12T07:49:21.955248Z",
     "start_time": "2024-03-12T07:49:21.941644Z"
    }
   },
   "id": "6aaac3233caad562",
   "execution_count": 45
  },
  {
   "cell_type": "markdown",
   "source": [
    "## 1. Execution Metrics "
   ],
   "metadata": {
    "collapsed": false
   },
   "id": "f48b1710c28b39aa"
  },
  {
   "cell_type": "code",
   "outputs": [],
   "source": [
    "def execution_metrics(df: pd.DataFrame) -> pd.DataFrame:\n",
    "    \"\"\"\n",
    "    Calculate the metrics\n",
    "    :param df: \n",
    "    :return: \n",
    "    \"\"\"\n",
    "\n",
    "    # accuracy_rate\n",
    "    accuracy = df.groupby('setup').apply(\n",
    "        lambda x: accuracy_score(x['target_label'], x['predicted_label']),\n",
    "        include_groups=False,\n",
    "    )\n",
    "    accuracy['overall'] = accuracy_score(df['target_label'], df['predicted_label'])\n",
    "\n",
    "    # execution_rate\n",
    "    er = df.groupby('setup').apply(\n",
    "        lambda x: len(x[x['predicted_label'] != -1]) / len(x),\n",
    "        include_groups=False\n",
    "    )\n",
    "    er['overall'] = len(df[df['predicted_label'] != -1]) / len(df)\n",
    "    m = {\n",
    "        'execution_accuracy': accuracy,\n",
    "        'execution_rate': er\n",
    "    }\n",
    "    mdf = pd.DataFrame(m)\n",
    "    mdf.fillna(0, inplace=True)\n",
    "    return mdf"
   ],
   "metadata": {
    "collapsed": false,
    "ExecuteTime": {
     "end_time": "2024-03-12T07:49:27.881530Z",
     "start_time": "2024-03-12T07:49:27.871426Z"
    }
   },
   "id": "912f4a2111c05b23",
   "execution_count": 46
  },
  {
   "cell_type": "code",
   "outputs": [
    {
     "data": {
      "text/plain": "                 execution_accuracy  execution_rate\nsetup                                              \nexplicit                     0.7500           0.750\nforehead                     0.7500           1.000\nforehead_mirror              0.5000           0.750\ninternal                     0.7500           1.000\noverall                      0.6875           0.875",
      "text/html": "<div>\n<style scoped>\n    .dataframe tbody tr th:only-of-type {\n        vertical-align: middle;\n    }\n\n    .dataframe tbody tr th {\n        vertical-align: top;\n    }\n\n    .dataframe thead th {\n        text-align: right;\n    }\n</style>\n<table border=\"1\" class=\"dataframe\">\n  <thead>\n    <tr style=\"text-align: right;\">\n      <th></th>\n      <th>execution_accuracy</th>\n      <th>execution_rate</th>\n    </tr>\n    <tr>\n      <th>setup</th>\n      <th></th>\n      <th></th>\n    </tr>\n  </thead>\n  <tbody>\n    <tr>\n      <th>explicit</th>\n      <td>0.7500</td>\n      <td>0.750</td>\n    </tr>\n    <tr>\n      <th>forehead</th>\n      <td>0.7500</td>\n      <td>1.000</td>\n    </tr>\n    <tr>\n      <th>forehead_mirror</th>\n      <td>0.5000</td>\n      <td>0.750</td>\n    </tr>\n    <tr>\n      <th>internal</th>\n      <td>0.7500</td>\n      <td>1.000</td>\n    </tr>\n    <tr>\n      <th>overall</th>\n      <td>0.6875</td>\n      <td>0.875</td>\n    </tr>\n  </tbody>\n</table>\n</div>"
     },
     "execution_count": 47,
     "metadata": {},
     "output_type": "execute_result"
    }
   ],
   "source": [
    "execution_metrics(samples)"
   ],
   "metadata": {
    "collapsed": false,
    "ExecuteTime": {
     "end_time": "2024-03-12T07:49:29.226484Z",
     "start_time": "2024-03-12T07:49:29.197776Z"
    }
   },
   "id": "ee23b68bf27fa52e",
   "execution_count": 47
  },
  {
   "cell_type": "code",
   "outputs": [
    {
     "data": {
      "text/plain": "<Figure size 1200x500 with 1 Axes>",
      "image/png": "[encoded data removed]"
     },
     "metadata": {},
     "output_type": "display_data"
    }
   ],
   "source": [
    "def plot_execution_acc_and_rate(df: pd.DataFrame):\n",
    "    df = execution_metrics(df)\n",
    "    fig, ax = plt.subplots(figsize=(12, 5))\n",
    "    df.plot(use_index=True, y=list(df.columns), kind='bar', ax=ax, color=['blue', 'red'])\n",
    "    ax.set_ylim(0, 1)\n",
    "    plt.xticks(rotation=0)\n",
    "    plt.title(\"Execution Accuracy and Rate\")\n",
    "    plt.xlabel(\"Setup\")\n",
    "    plt.show()\n",
    "\n",
    "\n",
    "plot_execution_acc_and_rate(samples)"
   ],
   "metadata": {
    "collapsed": false,
    "ExecuteTime": {
     "end_time": "2024-03-12T07:49:51.250244Z",
     "start_time": "2024-03-12T07:49:50.400659Z"
    }
   },
   "id": "183aab2c465ed383",
   "execution_count": 49
  },
  {
   "cell_type": "markdown",
   "source": [
    "## 2. Results Distribution"
   ],
   "metadata": {
    "collapsed": false
   },
   "id": "e7e334c08e32e5af"
  },
  {
   "cell_type": "code",
   "outputs": [
    {
     "data": {
      "text/plain": "setup            predicted_label\noverall           1                 0.5625\n                  0                 0.3125\n                 -1                 0.1250\ninternal          1                 0.2500\n                  0                 0.7500\nforehead_mirror   1                 0.7500\n                 -1                 0.2500\nforehead          1                 0.7500\n                  0                 0.2500\nexplicit          1                 0.5000\n                  0                 0.2500\n                 -1                 0.2500\nName: proportion, dtype: float64"
     },
     "execution_count": 50,
     "metadata": {},
     "output_type": "execute_result"
    }
   ],
   "source": [
    "def results_distribution(df: pd.DataFrame) -> pd.DataFrame:\n",
    "    \"\"\"\n",
    "    Calculate the results distribution\n",
    "    :param df: \n",
    "    :return: \n",
    "    \"\"\"\n",
    "    distribution = df.groupby('setup').apply(\n",
    "        lambda x: x['predicted_label'].value_counts(normalize=True),\n",
    "        include_groups=False\n",
    "    )\n",
    "    overall = df['predicted_label'].value_counts(normalize=True)\n",
    "    distribution.loc[('overall', 1)] = overall.loc[1]\n",
    "    distribution.loc[('overall', 0)] = overall.loc[0]\n",
    "    distribution.loc[('overall', -1)] = overall.loc[-1]\n",
    "\n",
    "    distribution.sort_index(inplace=True, ascending=False)\n",
    "    return distribution\n",
    "\n",
    "\n",
    "results_distribution(samples)"
   ],
   "metadata": {
    "collapsed": false,
    "ExecuteTime": {
     "end_time": "2024-03-12T07:50:14.920058Z",
     "start_time": "2024-03-12T07:50:14.860386Z"
    }
   },
   "id": "b457224373f6b77f",
   "execution_count": 50
  },
  {
   "cell_type": "code",
   "outputs": [
    {
     "data": {
      "text/plain": "<Figure size 1200x500 with 1 Axes>",
      "image/png": "[encoded data removed]"
     },
     "metadata": {},
     "output_type": "display_data"
    }
   ],
   "source": [
    "def plot_results_distribution(df: pd.DataFrame):\n",
    "    df = results_distribution(df)\n",
    "    fig, ax = plt.subplots(figsize=(12, 5))\n",
    "    df.unstack().sort_index(axis=1, ascending=False).plot(kind='bar', ax=ax, color=['blue', 'red', 'grey'])\n",
    "    ax.set_ylim(0, 1)\n",
    "    plt.xticks(rotation=0)\n",
    "    plt.title(\"Results Distribution\")\n",
    "    plt.show()\n",
    "\n",
    "\n",
    "plot_results_distribution(samples)"
   ],
   "metadata": {
    "collapsed": false,
    "ExecuteTime": {
     "end_time": "2024-03-12T07:50:25.245497Z",
     "start_time": "2024-03-12T07:50:24.766145Z"
    }
   },
   "id": "26e813c21630107d",
   "execution_count": 51
  },
  {
   "cell_type": "code",
   "outputs": [],
   "source": [],
   "metadata": {
    "collapsed": false,
    "ExecuteTime": {
     "end_time": "2024-03-12T07:39:07.304016Z",
     "start_time": "2024-03-12T07:39:07.279694Z"
    }
   },
   "id": "11a1bd646865b02c",
   "execution_count": 24
  }
 ],
 "metadata": {
  "kernelspec": {
   "display_name": "Python 3",
   "language": "python",
   "name": "python3"
  },
  "language_info": {
   "codemirror_mode": {
    "name": "ipython",
    "version": 2
   },
   "file_extension": ".py",
   "mimetype": "text/x-python",
   "name": "python",
   "nbconvert_exporter": "python",
   "pygments_lexer": "ipython2",
   "version": "2.7.6"
  }
 },
 "nbformat": 4,
 "nbformat_minor": 5
}
