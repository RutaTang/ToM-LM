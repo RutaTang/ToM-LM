{
 "cells": [
  {
   "cell_type": "code",
   "outputs": [],
   "source": [
    "from typing import Final\n",
    "\n",
    "from datasets import load_dataset\n",
    "from sklearn.metrics import accuracy_score, f1_score, precision_score, recall_score\n",
    "import pandas as pd\n",
    "import copy\n",
    "\n",
    "from utils import join_names, insert_sentence_after_period\n",
    "from utils.persistent import save_nl2sf, load_nl2sf, save_smcdel_sf, load_smcdel_sf\n",
    "from models.openai_llm import OpenAILLM\n",
    "from utils.prompt import get_prompt\n",
    "from executors.smcdel import SMCDEL"
   ],
   "metadata": {
    "collapsed": false,
    "ExecuteTime": {
     "end_time": "2024-03-11T11:14:04.576916Z",
     "start_time": "2024-03-11T11:14:04.563694Z"
    }
   },
   "id": "51edbe3111100f44",
   "execution_count": 19
  },
  {
   "cell_type": "code",
   "outputs": [],
   "source": [
    "model_name: Final[str] = \"gpt-3.5-turbo\"\n",
    "random_state: Final[int] = 1\n",
    "sample_size: Final[int] = 20"
   ],
   "metadata": {
    "collapsed": false,
    "ExecuteTime": {
     "end_time": "2024-03-11T11:14:04.657027Z",
     "start_time": "2024-03-11T11:14:04.651316Z"
    }
   },
   "id": "142c9ac0b432dbc3",
   "execution_count": 20
  },
  {
   "cell_type": "markdown",
   "source": [
    "# Data"
   ],
   "metadata": {
    "collapsed": false
   },
   "id": "c22b95e054db34dd"
  },
  {
   "cell_type": "markdown",
   "source": [
    "## 1. Load Data"
   ],
   "metadata": {
    "collapsed": false
   },
   "id": "125ae8e384cd6004"
  },
  {
   "cell_type": "code",
   "outputs": [],
   "source": [
    "dataset = load_dataset(\"sileod/mindgames\", cache_dir='./data')\n",
    "train = pd.DataFrame(dataset['train'])\n",
    "val = pd.DataFrame(dataset['validation'])\n",
    "test = pd.DataFrame(dataset['test'])"
   ],
   "metadata": {
    "collapsed": false,
    "ExecuteTime": {
     "end_time": "2024-03-11T11:14:10.728138Z",
     "start_time": "2024-03-11T11:14:04.675135Z"
    }
   },
   "id": "6331f11c6576366",
   "execution_count": 21
  },
  {
   "cell_type": "markdown",
   "source": [
    "## 2. Data Exploration"
   ],
   "metadata": {
    "collapsed": false
   },
   "id": "66a62d4ec6245bfa"
  },
  {
   "cell_type": "markdown",
   "source": [
    "data showcase"
   ],
   "metadata": {
    "collapsed": false
   },
   "id": "dc798593a64d33d4"
  },
  {
   "cell_type": "code",
   "outputs": [
    {
     "data": {
      "text/plain": "                                             premise  \\\n0  There are four persons. Everyone is visible to...   \n\n                                      smcdel_problem  n_announcements  \\\n0  VARS 1,2,3,4 LAW Top OBS Agenta:1 Agentb:2 Age...                2   \n\n                                             pbcheck  \\\n0  VARS 0,1,2,3,4 LAW Top OBS Agenta:1 Agentb:2 A...   \n\n                                          hypothesis     setup  \\\n0  Nichole can now know whether Aubrey can know w...  internal   \n\n   hypothesis_depth  n_agents       label                               names  \\\n0                 1         4  entailment  [Aubrey, Jeremy, William, Nichole]   \n\n   index         s-l  deberta_pred  deberta_confidence  difficulty  \n0  61652  internal-1             1            0.998557    0.001443  ",
      "text/html": "<div>\n<style scoped>\n    .dataframe tbody tr th:only-of-type {\n        vertical-align: middle;\n    }\n\n    .dataframe tbody tr th {\n        vertical-align: top;\n    }\n\n    .dataframe thead th {\n        text-align: right;\n    }\n</style>\n<table border=\"1\" class=\"dataframe\">\n  <thead>\n    <tr style=\"text-align: right;\">\n      <th></th>\n      <th>premise</th>\n      <th>smcdel_problem</th>\n      <th>n_announcements</th>\n      <th>pbcheck</th>\n      <th>hypothesis</th>\n      <th>setup</th>\n      <th>hypothesis_depth</th>\n      <th>n_agents</th>\n      <th>label</th>\n      <th>names</th>\n      <th>index</th>\n      <th>s-l</th>\n      <th>deberta_pred</th>\n      <th>deberta_confidence</th>\n      <th>difficulty</th>\n    </tr>\n  </thead>\n  <tbody>\n    <tr>\n      <th>0</th>\n      <td>There are four persons. Everyone is visible to...</td>\n      <td>VARS 1,2,3,4 LAW Top OBS Agenta:1 Agentb:2 Age...</td>\n      <td>2</td>\n      <td>VARS 0,1,2,3,4 LAW Top OBS Agenta:1 Agentb:2 A...</td>\n      <td>Nichole can now know whether Aubrey can know w...</td>\n      <td>internal</td>\n      <td>1</td>\n      <td>4</td>\n      <td>entailment</td>\n      <td>[Aubrey, Jeremy, William, Nichole]</td>\n      <td>61652</td>\n      <td>internal-1</td>\n      <td>1</td>\n      <td>0.998557</td>\n      <td>0.001443</td>\n    </tr>\n  </tbody>\n</table>\n</div>"
     },
     "execution_count": 22,
     "metadata": {},
     "output_type": "execute_result"
    }
   ],
   "source": [
    "train.head(1)"
   ],
   "metadata": {
    "collapsed": false,
    "ExecuteTime": {
     "end_time": "2024-03-11T11:14:10.741061Z",
     "start_time": "2024-03-11T11:14:10.729612Z"
    }
   },
   "id": "dc28027e03f89f82",
   "execution_count": 22
  },
  {
   "cell_type": "markdown",
   "source": [
    "check splitted data has same columns"
   ],
   "metadata": {
    "collapsed": false
   },
   "id": "1a3029c84b298ec"
  },
  {
   "cell_type": "code",
   "outputs": [
    {
     "name": "stdout",
     "output_type": "stream",
     "text": [
      "Train, val, test should have same cols:  True\n"
     ]
    }
   ],
   "source": [
    "print(\"Train, val, test should have same cols: \", list(train.columns) == list(val.columns) == list(test.columns))"
   ],
   "metadata": {
    "collapsed": false,
    "ExecuteTime": {
     "end_time": "2024-03-11T11:14:10.745485Z",
     "start_time": "2024-03-11T11:14:10.742284Z"
    }
   },
   "id": "2f382b08434d8da7",
   "execution_count": 23
  },
  {
   "cell_type": "markdown",
   "source": [
    "list all columns"
   ],
   "metadata": {
    "collapsed": false
   },
   "id": "3c6111ce913397e0"
  },
  {
   "cell_type": "code",
   "outputs": [
    {
     "data": {
      "text/plain": "['premise',\n 'smcdel_problem',\n 'n_announcements',\n 'pbcheck',\n 'hypothesis',\n 'setup',\n 'hypothesis_depth',\n 'n_agents',\n 'label',\n 'names',\n 'index',\n 's-l',\n 'deberta_pred',\n 'deberta_confidence',\n 'difficulty']"
     },
     "execution_count": 24,
     "metadata": {},
     "output_type": "execute_result"
    }
   ],
   "source": [
    "list(train.columns)"
   ],
   "metadata": {
    "collapsed": false,
    "ExecuteTime": {
     "end_time": "2024-03-11T11:14:10.749985Z",
     "start_time": "2024-03-11T11:14:10.747062Z"
    }
   },
   "id": "58f0bb62c3f6c521",
   "execution_count": 24
  },
  {
   "cell_type": "markdown",
   "source": [
    "setup types/category"
   ],
   "metadata": {
    "collapsed": false
   },
   "id": "e91dff9abece35b3"
  },
  {
   "cell_type": "code",
   "outputs": [
    {
     "data": {
      "text/plain": "setup\ninternal           2829\nforehead           2800\nexplicit           2793\nforehead_mirror    2752\nName: count, dtype: int64"
     },
     "execution_count": 25,
     "metadata": {},
     "output_type": "execute_result"
    }
   ],
   "source": [
    "train.value_counts('setup')"
   ],
   "metadata": {
    "collapsed": false,
    "ExecuteTime": {
     "end_time": "2024-03-11T11:14:10.759181Z",
     "start_time": "2024-03-11T11:14:10.751027Z"
    }
   },
   "id": "fc1e16588a6325b2",
   "execution_count": 25
  },
  {
   "cell_type": "markdown",
   "source": [
    "## 3. Data Preprocessing"
   ],
   "metadata": {
    "collapsed": false
   },
   "id": "ddd5b4c5cd920b00"
  },
  {
   "cell_type": "code",
   "outputs": [],
   "source": [
    "def preprocess(data: pd.DataFrame) -> pd.DataFrame:\n",
    "    \"\"\"\n",
    "    Preprocess the data and only keep the necessary columns\n",
    "    :param data \n",
    "    :return: \n",
    "    \"\"\"\n",
    "\n",
    "    data = copy.deepcopy(data)\n",
    "\n",
    "    # Preprocess context and question\n",
    "    data['formatted_names'] = data['names'].apply(lambda x: join_names(x))\n",
    "    data['formatted_names'] = data['formatted_names'].apply(lambda x: f\"Their names are {x}.\")\n",
    "    data['context'] = data[['premise', 'formatted_names']].apply(\n",
    "        lambda x: insert_sentence_after_period(x['premise'], x['formatted_names']), axis=1)\n",
    "\n",
    "    # Preprocess smcdel\n",
    "    data['target_sf'] = data['smcdel_problem']\n",
    "\n",
    "    # label\n",
    "    data['target_label'] = data['label'].apply(lambda x: True if x == 'entailment' else False)\n",
    "\n",
    "    # setup\n",
    "    data['setup'] = data['setup'].astype('category')\n",
    "\n",
    "    # Drop unnecessary columns\n",
    "    keep_columns = ['setup', 'context', 'hypothesis', 'target_sf', 'target_label', 'n_announcements']\n",
    "    data = data[keep_columns]\n",
    "\n",
    "    return data\n",
    "\n",
    "\n",
    "train = preprocess(train)\n",
    "val = preprocess(val)\n",
    "test = preprocess(test)"
   ],
   "metadata": {
    "collapsed": false,
    "ExecuteTime": {
     "end_time": "2024-03-11T11:14:10.859784Z",
     "start_time": "2024-03-11T11:14:10.760053Z"
    }
   },
   "id": "a5f95466a623ed13",
   "execution_count": 26
  },
  {
   "cell_type": "markdown",
   "source": [
    "preprocessed data showcase"
   ],
   "metadata": {
    "collapsed": false
   },
   "id": "a149b615bfdee92f"
  },
  {
   "cell_type": "code",
   "outputs": [
    {
     "data": {
      "text/plain": "             setup                                            context  \\\n0         internal  There are four persons. Their names are Aubrey...   \n1         internal  There are four persons. Their names are Maria,...   \n2         internal  There are two persons. Their names are Donna, ...   \n3  forehead_mirror  There are three persons. Their names are Leon,...   \n4         forehead  There are four persons. Their names are John, ...   \n\n                                          hypothesis  \\\n0  Nichole can now know whether Aubrey can know w...   \n1  Maria can now know that Ernestine can know whe...   \n2      Gabriel can now know that someone is thirsty.   \n3  Kevin can now know that Tracie can know that n...   \n4  Gregory can now know that Chasity can know tha...   \n\n                                           target_sf  target_label  \\\n0  VARS 1,2,3,4 LAW Top OBS Agenta:1 Agentb:2 Age...          True   \n1  VARS 1,2,3,4 LAW Top OBS Agenta:1 Agentb:2 Age...         False   \n2  VARS 1,2 LAW Top OBS Agenta:1 Agentb:2 VALID? ...          True   \n3  VARS 1,2,3 LAW Top OBS Agenta:1,2,3 Agentb:1,2...         False   \n4  VARS 1,2,3,4 LAW Top OBS Agenta:2,3,4 Agentb:1...         False   \n\n   n_announcements  \n0                2  \n1                2  \n2                2  \n3                1  \n4                1  ",
      "text/html": "<div>\n<style scoped>\n    .dataframe tbody tr th:only-of-type {\n        vertical-align: middle;\n    }\n\n    .dataframe tbody tr th {\n        vertical-align: top;\n    }\n\n    .dataframe thead th {\n        text-align: right;\n    }\n</style>\n<table border=\"1\" class=\"dataframe\">\n  <thead>\n    <tr style=\"text-align: right;\">\n      <th></th>\n      <th>setup</th>\n      <th>context</th>\n      <th>hypothesis</th>\n      <th>target_sf</th>\n      <th>target_label</th>\n      <th>n_announcements</th>\n    </tr>\n  </thead>\n  <tbody>\n    <tr>\n      <th>0</th>\n      <td>internal</td>\n      <td>There are four persons. Their names are Aubrey...</td>\n      <td>Nichole can now know whether Aubrey can know w...</td>\n      <td>VARS 1,2,3,4 LAW Top OBS Agenta:1 Agentb:2 Age...</td>\n      <td>True</td>\n      <td>2</td>\n    </tr>\n    <tr>\n      <th>1</th>\n      <td>internal</td>\n      <td>There are four persons. Their names are Maria,...</td>\n      <td>Maria can now know that Ernestine can know whe...</td>\n      <td>VARS 1,2,3,4 LAW Top OBS Agenta:1 Agentb:2 Age...</td>\n      <td>False</td>\n      <td>2</td>\n    </tr>\n    <tr>\n      <th>2</th>\n      <td>internal</td>\n      <td>There are two persons. Their names are Donna, ...</td>\n      <td>Gabriel can now know that someone is thirsty.</td>\n      <td>VARS 1,2 LAW Top OBS Agenta:1 Agentb:2 VALID? ...</td>\n      <td>True</td>\n      <td>2</td>\n    </tr>\n    <tr>\n      <th>3</th>\n      <td>forehead_mirror</td>\n      <td>There are three persons. Their names are Leon,...</td>\n      <td>Kevin can now know that Tracie can know that n...</td>\n      <td>VARS 1,2,3 LAW Top OBS Agenta:1,2,3 Agentb:1,2...</td>\n      <td>False</td>\n      <td>1</td>\n    </tr>\n    <tr>\n      <th>4</th>\n      <td>forehead</td>\n      <td>There are four persons. Their names are John, ...</td>\n      <td>Gregory can now know that Chasity can know tha...</td>\n      <td>VARS 1,2,3,4 LAW Top OBS Agenta:2,3,4 Agentb:1...</td>\n      <td>False</td>\n      <td>1</td>\n    </tr>\n  </tbody>\n</table>\n</div>"
     },
     "execution_count": 27,
     "metadata": {},
     "output_type": "execute_result"
    }
   ],
   "source": [
    "train.head(5)"
   ],
   "metadata": {
    "collapsed": false,
    "ExecuteTime": {
     "end_time": "2024-03-11T11:14:10.866203Z",
     "start_time": "2024-03-11T11:14:10.860751Z"
    }
   },
   "id": "9cb394481c0926a1",
   "execution_count": 27
  },
  {
   "cell_type": "markdown",
   "source": [
    "## 4. Prompt Example preparation "
   ],
   "metadata": {
    "collapsed": false
   },
   "id": "f7613dd8950c50ad"
  },
  {
   "cell_type": "code",
   "outputs": [],
   "source": [
    "internal_sample = train[train['setup'] == 'internal'].sample(1, random_state=random_state).iloc[0]\n",
    "forehead_sample = train[train['setup'] == 'forehead'].sample(1, random_state=random_state).iloc[0]\n",
    "explicit_sample = train[train['setup'] == 'explicit'].sample(1, random_state=random_state).iloc[0]\n",
    "forehead_mirror_sample = train[train['setup'] == 'forehead_mirror'].sample(1, random_state=random_state).iloc[0]\n",
    "\n",
    "\n",
    "def choose_example(setup: str) -> pd.Series:\n",
    "    \"\"\"\n",
    "    Choose an example from the train set based on the setup\n",
    "    :param setup: \n",
    "    :return: \n",
    "    \"\"\"\n",
    "    if setup == 'internal':\n",
    "        return internal_sample\n",
    "    elif setup == 'forehead':\n",
    "        return forehead_sample\n",
    "    elif setup == 'explicit':\n",
    "        return explicit_sample\n",
    "    elif setup == 'forehead_mirror':\n",
    "        return forehead_mirror_sample\n",
    "    else:\n",
    "        raise ValueError(f\"Invalid setup: {setup}\")\n"
   ],
   "metadata": {
    "collapsed": false,
    "ExecuteTime": {
     "end_time": "2024-03-11T11:14:10.876713Z",
     "start_time": "2024-03-11T11:14:10.866833Z"
    }
   },
   "id": "42c2a5e0252ca5a6",
   "execution_count": 28
  },
  {
   "cell_type": "markdown",
   "source": [
    "# ToM-LM Model"
   ],
   "metadata": {
    "collapsed": false
   },
   "id": "8b3712598c01c7ff"
  },
  {
   "cell_type": "markdown",
   "source": [
    "## 1. Model Initialization"
   ],
   "metadata": {
    "collapsed": false
   },
   "id": "80e3a022a390724e"
  },
  {
   "cell_type": "code",
   "outputs": [],
   "source": [
    "model = OpenAILLM(model_name=model_name)"
   ],
   "metadata": {
    "collapsed": false,
    "ExecuteTime": {
     "end_time": "2024-03-11T11:14:10.880818Z",
     "start_time": "2024-03-11T11:14:10.877410Z"
    }
   },
   "id": "c5d9c3ff3481052d",
   "execution_count": 29
  },
  {
   "cell_type": "markdown",
   "source": [
    "## 2. Test Samples Preparation"
   ],
   "metadata": {
    "collapsed": false
   },
   "id": "86a47da237452f58"
  },
  {
   "cell_type": "code",
   "outputs": [],
   "source": [
    "samples = test.sample(sample_size, random_state=random_state)\n",
    "\n",
    "# Add columns for the predicted sf, predicated_label\n",
    "samples['predicted_sf'] = None\n",
    "samples['predicted_label'] = None"
   ],
   "metadata": {
    "collapsed": false,
    "ExecuteTime": {
     "end_time": "2024-03-11T11:14:10.886949Z",
     "start_time": "2024-03-11T11:14:10.882874Z"
    }
   },
   "id": "32c6bee40939d2d3",
   "execution_count": 30
  },
  {
   "cell_type": "markdown",
   "source": [
    "## 3. SF Prediction/Generation"
   ],
   "metadata": {
    "collapsed": false
   },
   "id": "4a85d22e8caa2173"
  },
  {
   "cell_type": "code",
   "outputs": [
    {
     "name": "stdout",
     "output_type": "stream",
     "text": [
      "Processing sample 1/20\n",
      "Processing sample 2/20\n",
      "Processing sample 3/20\n",
      "Processing sample 4/20\n",
      "Processing sample 5/20\n",
      "Processing sample 6/20\n",
      "Processing sample 7/20\n",
      "Processing sample 8/20\n",
      "Processing sample 9/20\n",
      "Processing sample 10/20\n",
      "Processing sample 11/20\n",
      "Processing sample 12/20\n",
      "Processing sample 13/20\n",
      "Processing sample 14/20\n",
      "Processing sample 15/20\n",
      "Processing sample 16/20\n",
      "Processing sample 17/20\n",
      "Processing sample 18/20\n",
      "Processing sample 19/20\n",
      "Processing sample 20/20\n"
     ]
    }
   ],
   "source": [
    "def nl2sf_predict(row: pd.Series):\n",
    "    setup = row['setup']\n",
    "    example = choose_example(setup)\n",
    "    context = row['context']\n",
    "    hypothesis = row['hypothesis']\n",
    "    prompt = get_prompt(\n",
    "        example_context=example['context'],\n",
    "        example_hypothesis=example['hypothesis'],\n",
    "        example_sf=example['target_sf'],\n",
    "        problem_context=context,\n",
    "        problem_hypothesis=hypothesis\n",
    "    )\n",
    "    sf = model.complete(prompt)\n",
    "    row['predicted_sf'] = sf\n",
    "    return row\n",
    "\n",
    "\n",
    "for i, (index, row) in enumerate(samples.iterrows()):\n",
    "    print(f\"Processing sample {i + 1}/{len(samples)}\")\n",
    "    samples.loc[index] = nl2sf_predict(row)\n",
    "save_nl2sf(samples)"
   ],
   "metadata": {
    "collapsed": false,
    "ExecuteTime": {
     "end_time": "2024-03-11T11:14:50.479574Z",
     "start_time": "2024-03-11T11:14:10.887563Z"
    }
   },
   "id": "c672d1263cee8507",
   "execution_count": 31
  },
  {
   "cell_type": "markdown",
   "source": [
    "## 4. SMCDEL Prediction"
   ],
   "metadata": {
    "collapsed": false
   },
   "id": "f6705013e1336e1f"
  },
  {
   "cell_type": "code",
   "outputs": [
    {
     "data": {
      "text/plain": "         setup                                            context  \\\n3667  explicit  There are three persons. Their names are Dorot...   \n\n                                             hypothesis  \\\n3667  Dorothy can now know whether or not everyone p...   \n\n                                              target_sf  target_label  \\\n3667  VARS 1,2,3 LAW Top OBS Agenta:1,2 Agentb:2,3 A...         False   \n\n      n_announcements                                       predicted_sf  \\\n3667                0  VARS 1,2,3 LAW Top OBS Agenta:1,2,3 Agentb:1,2...   \n\n     predicted_label  \n3667            None  ",
      "text/html": "<div>\n<style scoped>\n    .dataframe tbody tr th:only-of-type {\n        vertical-align: middle;\n    }\n\n    .dataframe tbody tr th {\n        vertical-align: top;\n    }\n\n    .dataframe thead th {\n        text-align: right;\n    }\n</style>\n<table border=\"1\" class=\"dataframe\">\n  <thead>\n    <tr style=\"text-align: right;\">\n      <th></th>\n      <th>setup</th>\n      <th>context</th>\n      <th>hypothesis</th>\n      <th>target_sf</th>\n      <th>target_label</th>\n      <th>n_announcements</th>\n      <th>predicted_sf</th>\n      <th>predicted_label</th>\n    </tr>\n  </thead>\n  <tbody>\n    <tr>\n      <th>3667</th>\n      <td>explicit</td>\n      <td>There are three persons. Their names are Dorot...</td>\n      <td>Dorothy can now know whether or not everyone p...</td>\n      <td>VARS 1,2,3 LAW Top OBS Agenta:1,2 Agentb:2,3 A...</td>\n      <td>False</td>\n      <td>0</td>\n      <td>VARS 1,2,3 LAW Top OBS Agenta:1,2,3 Agentb:1,2...</td>\n      <td>None</td>\n    </tr>\n  </tbody>\n</table>\n</div>"
     },
     "execution_count": 32,
     "metadata": {},
     "output_type": "execute_result"
    }
   ],
   "source": [
    "samples = load_nl2sf()\n",
    "samples.head(1)"
   ],
   "metadata": {
    "collapsed": false,
    "ExecuteTime": {
     "end_time": "2024-03-11T11:14:50.495872Z",
     "start_time": "2024-03-11T11:14:50.481139Z"
    }
   },
   "id": "db3d823e8969b87c",
   "execution_count": 32
  },
  {
   "cell_type": "code",
   "outputs": [],
   "source": [
    "def sf_predict(row: pd.Series):\n",
    "    sf = row['predicted_sf']\n",
    "    try:\n",
    "        result = SMCDEL(text=sf)\n",
    "    except ValueError as e:\n",
    "        result = None\n",
    "    row['predicted_label'] = result\n",
    "    return row\n",
    "\n",
    "\n",
    "samples = samples.apply(sf_predict, axis=1)\n",
    "save_smcdel_sf(samples)"
   ],
   "metadata": {
    "collapsed": false,
    "ExecuteTime": {
     "end_time": "2024-03-11T11:14:51.762816Z",
     "start_time": "2024-03-11T11:14:50.498007Z"
    }
   },
   "id": "b779b1261fb71496",
   "execution_count": 33
  },
  {
   "cell_type": "code",
   "outputs": [
    {
     "data": {
      "text/plain": "                setup                                            context  \\\n3667         explicit  There are three persons. Their names are Dorot...   \n2824         explicit  There are four persons. Their names are Pamela...   \n2395  forehead_mirror  There are four persons. Their names are Lewis,...   \n420   forehead_mirror  There are four persons. Their names are Sarah,...   \n2313         forehead  There are two persons. Their names are Alan, a...   \n1828         internal  There are four persons. Their names are Benjam...   \n364          forehead  There are four persons. Their names are Arthur...   \n3186         forehead  There are four persons. Their names are Barbar...   \n3221         forehead  There are three persons. Their names are Rache...   \n2899         internal  There are four persons. Their names are Christ...   \n3522         forehead  There are three persons. Their names are Mary,...   \n1098         forehead  There are three persons. Their names are Rober...   \n3480         forehead  There are four persons. Their names are Tiffan...   \n3024         explicit  There are three persons. Their names are Thoma...   \n169          internal  There are four persons. Their names are Kari, ...   \n839          forehead  There are two persons. Their names are Kelli, ...   \n2476  forehead_mirror  There are three persons. Their names are Kerri...   \n2519         explicit  There are three persons. Their names are Jack,...   \n1556  forehead_mirror  There are three persons. Their names are Gwen,...   \n2066  forehead_mirror  There are four persons. Their names are Roxann...   \n\n                                             hypothesis  \\\n3667  Dorothy can now know whether or not everyone p...   \n2824  Bettye can now know that Pamela can know wheth...   \n2395  Lewis can now know that Lawrence can know whet...   \n420   Alfred can now know that Boyd can know whether...   \n2313  Scott can now know whether Alan's forehead is ...   \n1828  Luther can now know that Richard can know that...   \n364   John can now know whether Buffy can know wheth...   \n3186  Barbara can now know whether Carol can know wh...   \n3221  Kenneth can now know whether Kenneth's forehea...   \n2899   Michael can now know whether Michael is thirsty.   \n3522  Timothy can now know whether Lois's forehead i...   \n1098  Raymond can now know that nobody's forehead is...   \n3480  Wanda can now know that nobody's forehead is m...   \n3024  Thomas can now know whether someone picked a r...   \n169       Jessica can now know whether Kari is thirsty.   \n839   Billy can now know that Kelli's forehead is mu...   \n2476  Thora can now know whether Anthony can know wh...   \n2519  Jack can now know whether Paul can know that n...   \n1556  Leonard can now know that nobody's forehead is...   \n2066  Oscar can now know that Roxanne can know that ...   \n\n                                              target_sf  target_label  \\\n3667  VARS 1,2,3 LAW Top OBS Agenta:1,2 Agentb:2,3 A...         False   \n2824  VARS 1,2,3,4 LAW Top OBS Agenta:1,4 Agentb:3 A...         False   \n2395  VARS 1,2,3,4 LAW Top OBS Agenta:1,2,3,4 Agentb...          True   \n420   VARS 1,2,3,4 LAW Top OBS Agenta:1,2,3,4 Agentb...          True   \n2313  VARS 1,2 LAW Top OBS Agenta:2 Agentb:1 VALID? ...          True   \n1828  VARS 1,2,3,4 LAW Top OBS Agenta:1 Agentb:2 Age...          True   \n364   VARS 1,2,3,4 LAW Top OBS Agenta:2,3,4 Agentb:1...          True   \n3186  VARS 1,2,3,4 LAW Top OBS Agenta:2,3,4 Agentb:1...         False   \n3221  VARS 1,2,3 LAW Top OBS Agenta:2,3 Agentb:1,3 A...         False   \n2899  VARS 1,2,3,4 LAW Top OBS Agenta:1 Agentb:2 Age...          True   \n3522  VARS 1,2,3 LAW Top OBS Agenta:2,3 Agentb:1,3 A...          True   \n1098  VARS 1,2,3 LAW Top OBS Agenta:2,3 Agentb:1,3 A...         False   \n3480  VARS 1,2,3,4 LAW Top OBS Agenta:2,3,4 Agentb:1...         False   \n3024  VARS 1,2,3 LAW Top OBS Agenta:2,3 Agentb:2 VAL...          True   \n169   VARS 1,2,3,4 LAW Top OBS Agenta:1 Agentb:2 Age...         False   \n839   VARS 1,2 LAW Top OBS Agenta:2 Agentb:1 VALID? ...         False   \n2476  VARS 1,2,3 LAW Top OBS Agenta:1,2,3 Agentb:1,2...          True   \n2519  VARS 1,2,3 LAW Top OBS Agenta:1,3 Agentb:1 Age...          True   \n1556  VARS 1,2,3 LAW Top OBS Agenta:1,2,3 Agentb:1,2...         False   \n2066  VARS 1,2,3,4 LAW Top OBS Agenta:1,2,3,4 Agentb...         False   \n\n      n_announcements                                       predicted_sf  \\\n3667                0  VARS 1,2,3 LAW Top OBS Agenta:1,2,3 Agentb:1,2...   \n2824                3  VARS 1,2,3,4 LAW Top OBS Agenta:1,2,3,4 Agentb...   \n2395                0  VARS 1,2,3,4 LAW Top OBS Agenta:1,2,3,4 VALID?...   \n420                 2  VARS 1,2,3,4 LAW Top OBS Agenta:1,2,3,4 Agentb...   \n2313                2  VARS 1,2 LAW Top OBS Agenta:1 Agentb:2 VALID? ...   \n1828                2  VARS 1,2,3,4 LAW Top OBS Agenta:1 Agentb:2 Age...   \n364                 1  VARS 1,2,3,4 LAW Top OBS Agenta:1,2,3,4 Agentb...   \n3186                1  VARS 1,2,3,4 LAW Top OBS Agenta:1,2,3,4 Agentb...   \n3221                2  VARS 1,2,3 LAW Top OBS Agenta:1,2,3 Agentb:1,2...   \n2899                1  VARS 1,2,3,4 LAW Top OBS Agenta:1 Agentb:2 Age...   \n3522                2  VARS 1,2,3 LAW Top OBS Agenta:1,2,3 Agentb:1,2...   \n1098                2  VARS 1,2,3 LAW Top OBS Agenta:1,2,3 Agentb:1,2...   \n3480                3  VARS 1,2,3,4 LAW Top OBS Agenta:2,3,4 Agentb:1...   \n3024                2  VARS 1,2,3 LAW Top OBS Agenta:1 Agentb:2 Agent...   \n169                 4  VARS 1,2,3,4 LAW Top OBS Agenta:1 Agentb:2 Age...   \n839                 1  VARS 1,2 LAW Top OBS Agenta:1,2 Agentb:1,2 VAL...   \n2476                0  VARS 1,2,3 LAW Top OBS Agenta:1,2,3 Agentb:1,2...   \n2519                0  VARS 1,2,3 LAW Top OBS Agenta:1 Agentb:1,2 Age...   \n1556                1  VARS 1,2,3 LAW Top OBS Agenta:1,2,3 Agentb:1,2...   \n2066                0  VARS 1,2,3,4 LAW Top OBS Agenta:1,2,3,4 Agentb...   \n\n     predicted_label  \n3667            True  \n2824            None  \n2395            None  \n420             None  \n2313            None  \n1828           False  \n364             True  \n3186            True  \n3221            None  \n2899            True  \n3522            True  \n1098            True  \n3480            True  \n3024           False  \n169            False  \n839             True  \n2476           False  \n2519            None  \n1556            None  \n2066           False  ",
      "text/html": "<div>\n<style scoped>\n    .dataframe tbody tr th:only-of-type {\n        vertical-align: middle;\n    }\n\n    .dataframe tbody tr th {\n        vertical-align: top;\n    }\n\n    .dataframe thead th {\n        text-align: right;\n    }\n</style>\n<table border=\"1\" class=\"dataframe\">\n  <thead>\n    <tr style=\"text-align: right;\">\n      <th></th>\n      <th>setup</th>\n      <th>context</th>\n      <th>hypothesis</th>\n      <th>target_sf</th>\n      <th>target_label</th>\n      <th>n_announcements</th>\n      <th>predicted_sf</th>\n      <th>predicted_label</th>\n    </tr>\n  </thead>\n  <tbody>\n    <tr>\n      <th>3667</th>\n      <td>explicit</td>\n      <td>There are three persons. Their names are Dorot...</td>\n      <td>Dorothy can now know whether or not everyone p...</td>\n      <td>VARS 1,2,3 LAW Top OBS Agenta:1,2 Agentb:2,3 A...</td>\n      <td>False</td>\n      <td>0</td>\n      <td>VARS 1,2,3 LAW Top OBS Agenta:1,2,3 Agentb:1,2...</td>\n      <td>True</td>\n    </tr>\n    <tr>\n      <th>2824</th>\n      <td>explicit</td>\n      <td>There are four persons. Their names are Pamela...</td>\n      <td>Bettye can now know that Pamela can know wheth...</td>\n      <td>VARS 1,2,3,4 LAW Top OBS Agenta:1,4 Agentb:3 A...</td>\n      <td>False</td>\n      <td>3</td>\n      <td>VARS 1,2,3,4 LAW Top OBS Agenta:1,2,3,4 Agentb...</td>\n      <td>None</td>\n    </tr>\n    <tr>\n      <th>2395</th>\n      <td>forehead_mirror</td>\n      <td>There are four persons. Their names are Lewis,...</td>\n      <td>Lewis can now know that Lawrence can know whet...</td>\n      <td>VARS 1,2,3,4 LAW Top OBS Agenta:1,2,3,4 Agentb...</td>\n      <td>True</td>\n      <td>0</td>\n      <td>VARS 1,2,3,4 LAW Top OBS Agenta:1,2,3,4 VALID?...</td>\n      <td>None</td>\n    </tr>\n    <tr>\n      <th>420</th>\n      <td>forehead_mirror</td>\n      <td>There are four persons. Their names are Sarah,...</td>\n      <td>Alfred can now know that Boyd can know whether...</td>\n      <td>VARS 1,2,3,4 LAW Top OBS Agenta:1,2,3,4 Agentb...</td>\n      <td>True</td>\n      <td>2</td>\n      <td>VARS 1,2,3,4 LAW Top OBS Agenta:1,2,3,4 Agentb...</td>\n      <td>None</td>\n    </tr>\n    <tr>\n      <th>2313</th>\n      <td>forehead</td>\n      <td>There are two persons. Their names are Alan, a...</td>\n      <td>Scott can now know whether Alan's forehead is ...</td>\n      <td>VARS 1,2 LAW Top OBS Agenta:2 Agentb:1 VALID? ...</td>\n      <td>True</td>\n      <td>2</td>\n      <td>VARS 1,2 LAW Top OBS Agenta:1 Agentb:2 VALID? ...</td>\n      <td>None</td>\n    </tr>\n    <tr>\n      <th>1828</th>\n      <td>internal</td>\n      <td>There are four persons. Their names are Benjam...</td>\n      <td>Luther can now know that Richard can know that...</td>\n      <td>VARS 1,2,3,4 LAW Top OBS Agenta:1 Agentb:2 Age...</td>\n      <td>True</td>\n      <td>2</td>\n      <td>VARS 1,2,3,4 LAW Top OBS Agenta:1 Agentb:2 Age...</td>\n      <td>False</td>\n    </tr>\n    <tr>\n      <th>364</th>\n      <td>forehead</td>\n      <td>There are four persons. Their names are Arthur...</td>\n      <td>John can now know whether Buffy can know wheth...</td>\n      <td>VARS 1,2,3,4 LAW Top OBS Agenta:2,3,4 Agentb:1...</td>\n      <td>True</td>\n      <td>1</td>\n      <td>VARS 1,2,3,4 LAW Top OBS Agenta:1,2,3,4 Agentb...</td>\n      <td>True</td>\n    </tr>\n    <tr>\n      <th>3186</th>\n      <td>forehead</td>\n      <td>There are four persons. Their names are Barbar...</td>\n      <td>Barbara can now know whether Carol can know wh...</td>\n      <td>VARS 1,2,3,4 LAW Top OBS Agenta:2,3,4 Agentb:1...</td>\n      <td>False</td>\n      <td>1</td>\n      <td>VARS 1,2,3,4 LAW Top OBS Agenta:1,2,3,4 Agentb...</td>\n      <td>True</td>\n    </tr>\n    <tr>\n      <th>3221</th>\n      <td>forehead</td>\n      <td>There are three persons. Their names are Rache...</td>\n      <td>Kenneth can now know whether Kenneth's forehea...</td>\n      <td>VARS 1,2,3 LAW Top OBS Agenta:2,3 Agentb:1,3 A...</td>\n      <td>False</td>\n      <td>2</td>\n      <td>VARS 1,2,3 LAW Top OBS Agenta:1,2,3 Agentb:1,2...</td>\n      <td>None</td>\n    </tr>\n    <tr>\n      <th>2899</th>\n      <td>internal</td>\n      <td>There are four persons. Their names are Christ...</td>\n      <td>Michael can now know whether Michael is thirsty.</td>\n      <td>VARS 1,2,3,4 LAW Top OBS Agenta:1 Agentb:2 Age...</td>\n      <td>True</td>\n      <td>1</td>\n      <td>VARS 1,2,3,4 LAW Top OBS Agenta:1 Agentb:2 Age...</td>\n      <td>True</td>\n    </tr>\n    <tr>\n      <th>3522</th>\n      <td>forehead</td>\n      <td>There are three persons. Their names are Mary,...</td>\n      <td>Timothy can now know whether Lois's forehead i...</td>\n      <td>VARS 1,2,3 LAW Top OBS Agenta:2,3 Agentb:1,3 A...</td>\n      <td>True</td>\n      <td>2</td>\n      <td>VARS 1,2,3 LAW Top OBS Agenta:1,2,3 Agentb:1,2...</td>\n      <td>True</td>\n    </tr>\n    <tr>\n      <th>1098</th>\n      <td>forehead</td>\n      <td>There are three persons. Their names are Rober...</td>\n      <td>Raymond can now know that nobody's forehead is...</td>\n      <td>VARS 1,2,3 LAW Top OBS Agenta:2,3 Agentb:1,3 A...</td>\n      <td>False</td>\n      <td>2</td>\n      <td>VARS 1,2,3 LAW Top OBS Agenta:1,2,3 Agentb:1,2...</td>\n      <td>True</td>\n    </tr>\n    <tr>\n      <th>3480</th>\n      <td>forehead</td>\n      <td>There are four persons. Their names are Tiffan...</td>\n      <td>Wanda can now know that nobody's forehead is m...</td>\n      <td>VARS 1,2,3,4 LAW Top OBS Agenta:2,3,4 Agentb:1...</td>\n      <td>False</td>\n      <td>3</td>\n      <td>VARS 1,2,3,4 LAW Top OBS Agenta:2,3,4 Agentb:1...</td>\n      <td>True</td>\n    </tr>\n    <tr>\n      <th>3024</th>\n      <td>explicit</td>\n      <td>There are three persons. Their names are Thoma...</td>\n      <td>Thomas can now know whether someone picked a r...</td>\n      <td>VARS 1,2,3 LAW Top OBS Agenta:2,3 Agentb:2 VAL...</td>\n      <td>True</td>\n      <td>2</td>\n      <td>VARS 1,2,3 LAW Top OBS Agenta:1 Agentb:2 Agent...</td>\n      <td>False</td>\n    </tr>\n    <tr>\n      <th>169</th>\n      <td>internal</td>\n      <td>There are four persons. Their names are Kari, ...</td>\n      <td>Jessica can now know whether Kari is thirsty.</td>\n      <td>VARS 1,2,3,4 LAW Top OBS Agenta:1 Agentb:2 Age...</td>\n      <td>False</td>\n      <td>4</td>\n      <td>VARS 1,2,3,4 LAW Top OBS Agenta:1 Agentb:2 Age...</td>\n      <td>False</td>\n    </tr>\n    <tr>\n      <th>839</th>\n      <td>forehead</td>\n      <td>There are two persons. Their names are Kelli, ...</td>\n      <td>Billy can now know that Kelli's forehead is mu...</td>\n      <td>VARS 1,2 LAW Top OBS Agenta:2 Agentb:1 VALID? ...</td>\n      <td>False</td>\n      <td>1</td>\n      <td>VARS 1,2 LAW Top OBS Agenta:1,2 Agentb:1,2 VAL...</td>\n      <td>True</td>\n    </tr>\n    <tr>\n      <th>2476</th>\n      <td>forehead_mirror</td>\n      <td>There are three persons. Their names are Kerri...</td>\n      <td>Thora can now know whether Anthony can know wh...</td>\n      <td>VARS 1,2,3 LAW Top OBS Agenta:1,2,3 Agentb:1,2...</td>\n      <td>True</td>\n      <td>0</td>\n      <td>VARS 1,2,3 LAW Top OBS Agenta:1,2,3 Agentb:1,2...</td>\n      <td>False</td>\n    </tr>\n    <tr>\n      <th>2519</th>\n      <td>explicit</td>\n      <td>There are three persons. Their names are Jack,...</td>\n      <td>Jack can now know whether Paul can know that n...</td>\n      <td>VARS 1,2,3 LAW Top OBS Agenta:1,3 Agentb:1 Age...</td>\n      <td>True</td>\n      <td>0</td>\n      <td>VARS 1,2,3 LAW Top OBS Agenta:1 Agentb:1,2 Age...</td>\n      <td>None</td>\n    </tr>\n    <tr>\n      <th>1556</th>\n      <td>forehead_mirror</td>\n      <td>There are three persons. Their names are Gwen,...</td>\n      <td>Leonard can now know that nobody's forehead is...</td>\n      <td>VARS 1,2,3 LAW Top OBS Agenta:1,2,3 Agentb:1,2...</td>\n      <td>False</td>\n      <td>1</td>\n      <td>VARS 1,2,3 LAW Top OBS Agenta:1,2,3 Agentb:1,2...</td>\n      <td>None</td>\n    </tr>\n    <tr>\n      <th>2066</th>\n      <td>forehead_mirror</td>\n      <td>There are four persons. Their names are Roxann...</td>\n      <td>Oscar can now know that Roxanne can know that ...</td>\n      <td>VARS 1,2,3,4 LAW Top OBS Agenta:1,2,3,4 Agentb...</td>\n      <td>False</td>\n      <td>0</td>\n      <td>VARS 1,2,3,4 LAW Top OBS Agenta:1,2,3,4 Agentb...</td>\n      <td>False</td>\n    </tr>\n  </tbody>\n</table>\n</div>"
     },
     "execution_count": 34,
     "metadata": {},
     "output_type": "execute_result"
    }
   ],
   "source": [
    "load_smcdel_sf()"
   ],
   "metadata": {
    "collapsed": false,
    "ExecuteTime": {
     "end_time": "2024-03-11T11:14:51.773426Z",
     "start_time": "2024-03-11T11:14:51.764155Z"
    }
   },
   "id": "4c85744604dea563",
   "execution_count": 34
  },
  {
   "cell_type": "markdown",
   "source": [
    "# Evaluation"
   ],
   "metadata": {
    "collapsed": false
   },
   "id": "4d254b0234ee3e4"
  },
  {
   "cell_type": "code",
   "outputs": [],
   "source": [
    "def execution_rate(df: pd.DataFrame) -> dict:\n",
    "    \"\"\"\n",
    "    Calculate the execution rate\n",
    "    :param df: \n",
    "    :return: \n",
    "    \"\"\"\n",
    "    drop_count = df['predicted_label'].isnull().any(axis=\"rows\").sum()\n",
    "    keep_count = len(df) - drop_count\n",
    "    return {\n",
    "        'execution_count': keep_count,\n",
    "        'execution_rate': f\"{(keep_count / len(df)) * 100:.2f}%\",\n",
    "        'drop_count': drop_count,\n",
    "        'drop_rate': f\"{(drop_count / len(df)) * 100:.2f}%\"\n",
    "    }\n",
    "\n",
    "\n",
    "def metrics(df: pd.DataFrame) -> pd.DataFrame:\n",
    "    \"\"\"\n",
    "    Calculate the metrics\n",
    "    :param df: \n",
    "    :return: \n",
    "    \"\"\"\n",
    "    # Remove the rows with unexpected results\n",
    "    df = df.dropna(axis=\"rows\", how=\"any\").copy()\n",
    "    # make it to bool\n",
    "    df['predicted_label'] = df['predicted_label'].astype(bool, copy=True)\n",
    "    # metrics group by setup\n",
    "    accuracy = df.groupby('setup').apply(\n",
    "        lambda x: accuracy_score(x['target_label'], x['predicted_label']),\n",
    "        include_groups=False\n",
    "    )\n",
    "    precision = df.groupby('setup').apply(\n",
    "        lambda x: precision_score(x['target_label'], x['predicted_label'], zero_division=0),\n",
    "        include_groups=False\n",
    "    )\n",
    "    recall = df.groupby('setup').apply(\n",
    "        lambda x: recall_score(x['target_label'], x['predicted_label'], zero_division=0),\n",
    "        include_groups=False\n",
    "    )\n",
    "    f1 = df.groupby('setup').apply(\n",
    "        lambda x: f1_score(x['target_label'], x['predicted_label'], zero_division=0),\n",
    "        include_groups=False\n",
    "    )\n",
    "    m = {\n",
    "        'accuracy': accuracy,\n",
    "        'precision': precision,\n",
    "        'recall': recall,\n",
    "        'f1': f1\n",
    "    }\n",
    "    mdf = pd.DataFrame(m)\n",
    "    mdf.loc['overall'] = {\n",
    "        'accuracy': accuracy_score(df['target_label'], df['predicted_label']),\n",
    "        'precision': precision_score(df['target_label'], df['predicted_label'], zero_division=0),\n",
    "        'recall': recall_score(df['target_label'], df['predicted_label'], zero_division=0),\n",
    "        'f1': f1_score(df['target_label'], df['predicted_label'], zero_division=0)\n",
    "    }\n",
    "    return mdf"
   ],
   "metadata": {
    "collapsed": false,
    "ExecuteTime": {
     "end_time": "2024-03-11T11:40:34.552321Z",
     "start_time": "2024-03-11T11:40:34.514881Z"
    }
   },
   "id": "912f4a2111c05b23",
   "execution_count": 105
  },
  {
   "cell_type": "code",
   "outputs": [
    {
     "data": {
      "text/plain": "{'execution_count': 19,\n 'execution_rate': '95.00%',\n 'drop_count': 1,\n 'drop_rate': '5.00%'}"
     },
     "execution_count": 106,
     "metadata": {},
     "output_type": "execute_result"
    }
   ],
   "source": [
    "execution_rate(samples)"
   ],
   "metadata": {
    "collapsed": false,
    "ExecuteTime": {
     "end_time": "2024-03-11T11:40:34.962428Z",
     "start_time": "2024-03-11T11:40:34.957139Z"
    }
   },
   "id": "a137913481d7203f",
   "execution_count": 106
  },
  {
   "cell_type": "code",
   "outputs": [
    {
     "data": {
      "text/plain": "                 accuracy  precision  recall        f1\nsetup                                                 \nexplicit         0.000000   0.000000     0.0  0.000000\nforehead         0.333333   0.333333     1.0  0.500000\nforehead_mirror  0.500000   0.000000     0.0  0.000000\ninternal         0.666667   1.000000     0.5  0.666667\noverall          0.384615   0.375000     0.5  0.428571",
      "text/html": "<div>\n<style scoped>\n    .dataframe tbody tr th:only-of-type {\n        vertical-align: middle;\n    }\n\n    .dataframe tbody tr th {\n        vertical-align: top;\n    }\n\n    .dataframe thead th {\n        text-align: right;\n    }\n</style>\n<table border=\"1\" class=\"dataframe\">\n  <thead>\n    <tr style=\"text-align: right;\">\n      <th></th>\n      <th>accuracy</th>\n      <th>precision</th>\n      <th>recall</th>\n      <th>f1</th>\n    </tr>\n    <tr>\n      <th>setup</th>\n      <th></th>\n      <th></th>\n      <th></th>\n      <th></th>\n    </tr>\n  </thead>\n  <tbody>\n    <tr>\n      <th>explicit</th>\n      <td>0.000000</td>\n      <td>0.000000</td>\n      <td>0.0</td>\n      <td>0.000000</td>\n    </tr>\n    <tr>\n      <th>forehead</th>\n      <td>0.333333</td>\n      <td>0.333333</td>\n      <td>1.0</td>\n      <td>0.500000</td>\n    </tr>\n    <tr>\n      <th>forehead_mirror</th>\n      <td>0.500000</td>\n      <td>0.000000</td>\n      <td>0.0</td>\n      <td>0.000000</td>\n    </tr>\n    <tr>\n      <th>internal</th>\n      <td>0.666667</td>\n      <td>1.000000</td>\n      <td>0.5</td>\n      <td>0.666667</td>\n    </tr>\n    <tr>\n      <th>overall</th>\n      <td>0.384615</td>\n      <td>0.375000</td>\n      <td>0.5</td>\n      <td>0.428571</td>\n    </tr>\n  </tbody>\n</table>\n</div>"
     },
     "execution_count": 107,
     "metadata": {},
     "output_type": "execute_result"
    }
   ],
   "source": [
    "metrics(samples)"
   ],
   "metadata": {
    "collapsed": false,
    "ExecuteTime": {
     "end_time": "2024-03-11T11:40:35.664118Z",
     "start_time": "2024-03-11T11:40:35.579042Z"
    }
   },
   "id": "ee23b68bf27fa52e",
   "execution_count": 107
  },
  {
   "cell_type": "code",
   "outputs": [],
   "source": [],
   "metadata": {
    "collapsed": false,
    "ExecuteTime": {
     "end_time": "2024-03-11T11:30:05.148087Z",
     "start_time": "2024-03-11T11:30:05.119974Z"
    }
   },
   "id": "4f9cc2f91388c2bb",
   "execution_count": 67
  },
  {
   "cell_type": "code",
   "outputs": [],
   "source": [],
   "metadata": {
    "collapsed": false
   },
   "id": "1977e375bccf7cf7"
  }
 ],
 "metadata": {
  "kernelspec": {
   "display_name": "Python 3",
   "language": "python",
   "name": "python3"
  },
  "language_info": {
   "codemirror_mode": {
    "name": "ipython",
    "version": 2
   },
   "file_extension": ".py",
   "mimetype": "text/x-python",
   "name": "python",
   "nbconvert_exporter": "python",
   "pygments_lexer": "ipython2",
   "version": "2.7.6"
  }
 },
 "nbformat": 4,
 "nbformat_minor": 5
}
