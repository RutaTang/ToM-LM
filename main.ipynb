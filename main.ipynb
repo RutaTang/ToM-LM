{
 "cells": [
  {
   "cell_type": "code",
   "outputs": [],
   "source": [
    "from typing import Final\n",
    "\n",
    "from models.base_llm import BaseLLM\n",
    "from models.ollama_llm import OllamaLLM\n",
    "\n",
    "from datasets import load_dataset\n",
    "from utils.metrics import execution_metrics, plot_metrics\n",
    "import pandas as pd\n",
    "\n",
    "from utils.persistent import save_nl2sf, load_nl2sf, save_smcdel_result, load_smcdel_result, save_direct_result, \\\n",
    "    load_direct_result, NameInfo\n",
    "from models.openai_llm import OpenAILLM\n",
    "from utils.preprocess import preprocess\n",
    "from utils.prompt import get_smcdel_prompt, get_direct_prompt\n",
    "from executors.smcdel import SMCDEL\n",
    "from tqdm import tqdm\n",
    "import warnings\n",
    "\n",
    "warnings.simplefilter(action='ignore', category=DeprecationWarning)\n",
    "tqdm.pandas()\n",
    "\n",
    "%load_ext autoreload\n",
    "%autoreload 2"
   ],
   "metadata": {
    "collapsed": false,
    "ExecuteTime": {
     "end_time": "2024-04-03T17:05:59.006528Z",
     "start_time": "2024-04-03T17:05:56.438144Z"
    }
   },
   "id": "51edbe3111100f44",
   "execution_count": 1
  },
  {
   "cell_type": "markdown",
   "source": [
    "constants"
   ],
   "metadata": {
    "collapsed": false
   },
   "id": "e4e13d2114a866cb"
  },
  {
   "cell_type": "code",
   "outputs": [],
   "source": [
    "model_name: Final[str] = \"gpt-3.5-turbo\"  # should be openai's model or ollama's model\n",
    "random_state: Final[int] = 1\n",
    "sample_size: Final[int] = 50"
   ],
   "metadata": {
    "collapsed": false,
    "ExecuteTime": {
     "end_time": "2024-04-03T17:05:59.029958Z",
     "start_time": "2024-04-03T17:05:59.008430Z"
    }
   },
   "id": "142c9ac0b432dbc3",
   "execution_count": 2
  },
  {
   "cell_type": "markdown",
   "source": [
    "parameters"
   ],
   "metadata": {
    "collapsed": false
   },
   "id": "b8c8aabfd4f9e347"
  },
  {
   "cell_type": "code",
   "outputs": [],
   "source": [
    "name_info: Final[NameInfo] = {\n",
    "    \"model_name\": model_name,\n",
    "    \"random_state\": random_state,\n",
    "    \"sample_size\": sample_size\n",
    "}"
   ],
   "metadata": {
    "collapsed": false,
    "ExecuteTime": {
     "end_time": "2024-04-03T17:05:59.054994Z",
     "start_time": "2024-04-03T17:05:59.032064Z"
    }
   },
   "id": "1fcc132d2c5e0293",
   "execution_count": 3
  },
  {
   "cell_type": "markdown",
   "source": [
    "# Data"
   ],
   "metadata": {
    "collapsed": false
   },
   "id": "c22b95e054db34dd"
  },
  {
   "cell_type": "markdown",
   "source": [
    "## 1. Load Data"
   ],
   "metadata": {
    "collapsed": false
   },
   "id": "125ae8e384cd6004"
  },
  {
   "cell_type": "code",
   "outputs": [],
   "source": [
    "# since the dataset is not used as any training process, we can load the whole dataset\n",
    "dataset = load_dataset(\"sileod/mindgames\", cache_dir='./data')\n",
    "d1 = pd.DataFrame(dataset['test'])\n",
    "all_data = pd.concat([d1])\n",
    "examples = pd.DataFrame(dataset['train']).groupby('setup').apply(lambda x: x.sample(1, random_state=random_state)).reset_index(drop=True)\n",
    "all_data = all_data.drop(examples.index)\n",
    "all_data = all_data.dropna()"
   ],
   "metadata": {
    "collapsed": false,
    "ExecuteTime": {
     "end_time": "2024-04-03T17:06:04.910724Z",
     "start_time": "2024-04-03T17:05:59.055853Z"
    }
   },
   "id": "6331f11c6576366",
   "execution_count": 4
  },
  {
   "cell_type": "markdown",
   "source": [
    "## 2. Data Exploration"
   ],
   "metadata": {
    "collapsed": false
   },
   "id": "66a62d4ec6245bfa"
  },
  {
   "cell_type": "markdown",
   "source": [
    "data showcase"
   ],
   "metadata": {
    "collapsed": false
   },
   "id": "dc798593a64d33d4"
  },
  {
   "cell_type": "code",
   "outputs": [
    {
     "data": {
      "text/plain": "                                             premise  \\\n4  There are four persons. Everyone is visible to...   \n5  There are three persons. Everyone is visible t...   \n6  There are four persons. Everyone is visible to...   \n7  There are four persons. Everyone is visible to...   \n8  There are three persons. Everyone is visible t...   \n\n                                      smcdel_problem  n_announcements  \\\n4  VARS 1,2,3,4 LAW Top OBS Agenta:3 Agentb:2 Age...                1   \n5  VARS 1,2,3 LAW Top OBS Agenta:1,2,3 Agentb:1,2...                1   \n6  VARS 1,2,3,4 LAW Top OBS Agenta:1,2,3,4 Agentb...                4   \n7  VARS 1,2,3,4 LAW Top OBS Agenta:1,2,3,4 Agentb...                4   \n8  VARS 1,2,3 LAW Top OBS Agenta:3 Agentb:1 VALID...                2   \n\n                                             pbcheck  \\\n4  VARS 0,1,2,3,4 LAW Top OBS Agenta:3 Agentb:2 A...   \n5  VARS 0,1,2,3 LAW Top OBS Agenta:1,2,3 Agentb:1...   \n6  VARS 0,1,2,3,4 LAW Top OBS Agenta:1,2,3,4 Agen...   \n7  VARS 0,1,2,3,4 LAW Top OBS Agenta:1,2,3,4 Agen...   \n8  VARS 0,1,2,3 LAW Top OBS Agenta:3 Agentb:1 VAL...   \n\n                                          hypothesis            setup  \\\n4  Andrew can now know whether Willie can know th...         explicit   \n5  Margaret can now know that Jennifer can know t...  forehead_mirror   \n6  Jennifer can now know whether Esther can know ...  forehead_mirror   \n7  Joyce can now know whether Brian can know whet...  forehead_mirror   \n8  Joseph can now know whether someone picked a r...         explicit   \n\n   hypothesis_depth  n_agents           label  \\\n4                 1         4      entailment   \n5                 1         3  not_entailment   \n6                 1         4      entailment   \n7                 1         4      entailment   \n8                 0         3      entailment   \n\n                                  names  index                s-l  \\\n4  [Nathaniel, Raymond, Willie, Andrew]  55199         explicit-1   \n5          [Margaret, Jennifer, Howard]   2974  forehead_mirror-0   \n6  [Maranda, Esther, Melissa, Jennifer]  12924  forehead_mirror-1   \n7           [Chad, Joyce, Shawn, Brian]  53967  forehead_mirror-1   \n8                [Joseph, Sally, Donna]  52384         explicit-1   \n\n   deberta_pred  deberta_confidence  difficulty  \n4             1            0.940522    0.059478  \n5             0            0.998567    0.001433  \n6             1            0.999778    0.000222  \n7             1            0.999752    0.000248  \n8             1            0.999783    0.000217  ",
      "text/html": "<div>\n<style scoped>\n    .dataframe tbody tr th:only-of-type {\n        vertical-align: middle;\n    }\n\n    .dataframe tbody tr th {\n        vertical-align: top;\n    }\n\n    .dataframe thead th {\n        text-align: right;\n    }\n</style>\n<table border=\"1\" class=\"dataframe\">\n  <thead>\n    <tr style=\"text-align: right;\">\n      <th></th>\n      <th>premise</th>\n      <th>smcdel_problem</th>\n      <th>n_announcements</th>\n      <th>pbcheck</th>\n      <th>hypothesis</th>\n      <th>setup</th>\n      <th>hypothesis_depth</th>\n      <th>n_agents</th>\n      <th>label</th>\n      <th>names</th>\n      <th>index</th>\n      <th>s-l</th>\n      <th>deberta_pred</th>\n      <th>deberta_confidence</th>\n      <th>difficulty</th>\n    </tr>\n  </thead>\n  <tbody>\n    <tr>\n      <th>4</th>\n      <td>There are four persons. Everyone is visible to...</td>\n      <td>VARS 1,2,3,4 LAW Top OBS Agenta:3 Agentb:2 Age...</td>\n      <td>1</td>\n      <td>VARS 0,1,2,3,4 LAW Top OBS Agenta:3 Agentb:2 A...</td>\n      <td>Andrew can now know whether Willie can know th...</td>\n      <td>explicit</td>\n      <td>1</td>\n      <td>4</td>\n      <td>entailment</td>\n      <td>[Nathaniel, Raymond, Willie, Andrew]</td>\n      <td>55199</td>\n      <td>explicit-1</td>\n      <td>1</td>\n      <td>0.940522</td>\n      <td>0.059478</td>\n    </tr>\n    <tr>\n      <th>5</th>\n      <td>There are three persons. Everyone is visible t...</td>\n      <td>VARS 1,2,3 LAW Top OBS Agenta:1,2,3 Agentb:1,2...</td>\n      <td>1</td>\n      <td>VARS 0,1,2,3 LAW Top OBS Agenta:1,2,3 Agentb:1...</td>\n      <td>Margaret can now know that Jennifer can know t...</td>\n      <td>forehead_mirror</td>\n      <td>1</td>\n      <td>3</td>\n      <td>not_entailment</td>\n      <td>[Margaret, Jennifer, Howard]</td>\n      <td>2974</td>\n      <td>forehead_mirror-0</td>\n      <td>0</td>\n      <td>0.998567</td>\n      <td>0.001433</td>\n    </tr>\n    <tr>\n      <th>6</th>\n      <td>There are four persons. Everyone is visible to...</td>\n      <td>VARS 1,2,3,4 LAW Top OBS Agenta:1,2,3,4 Agentb...</td>\n      <td>4</td>\n      <td>VARS 0,1,2,3,4 LAW Top OBS Agenta:1,2,3,4 Agen...</td>\n      <td>Jennifer can now know whether Esther can know ...</td>\n      <td>forehead_mirror</td>\n      <td>1</td>\n      <td>4</td>\n      <td>entailment</td>\n      <td>[Maranda, Esther, Melissa, Jennifer]</td>\n      <td>12924</td>\n      <td>forehead_mirror-1</td>\n      <td>1</td>\n      <td>0.999778</td>\n      <td>0.000222</td>\n    </tr>\n    <tr>\n      <th>7</th>\n      <td>There are four persons. Everyone is visible to...</td>\n      <td>VARS 1,2,3,4 LAW Top OBS Agenta:1,2,3,4 Agentb...</td>\n      <td>4</td>\n      <td>VARS 0,1,2,3,4 LAW Top OBS Agenta:1,2,3,4 Agen...</td>\n      <td>Joyce can now know whether Brian can know whet...</td>\n      <td>forehead_mirror</td>\n      <td>1</td>\n      <td>4</td>\n      <td>entailment</td>\n      <td>[Chad, Joyce, Shawn, Brian]</td>\n      <td>53967</td>\n      <td>forehead_mirror-1</td>\n      <td>1</td>\n      <td>0.999752</td>\n      <td>0.000248</td>\n    </tr>\n    <tr>\n      <th>8</th>\n      <td>There are three persons. Everyone is visible t...</td>\n      <td>VARS 1,2,3 LAW Top OBS Agenta:3 Agentb:1 VALID...</td>\n      <td>2</td>\n      <td>VARS 0,1,2,3 LAW Top OBS Agenta:3 Agentb:1 VAL...</td>\n      <td>Joseph can now know whether someone picked a r...</td>\n      <td>explicit</td>\n      <td>0</td>\n      <td>3</td>\n      <td>entailment</td>\n      <td>[Joseph, Sally, Donna]</td>\n      <td>52384</td>\n      <td>explicit-1</td>\n      <td>1</td>\n      <td>0.999783</td>\n      <td>0.000217</td>\n    </tr>\n  </tbody>\n</table>\n</div>"
     },
     "execution_count": 5,
     "metadata": {},
     "output_type": "execute_result"
    }
   ],
   "source": [
    "all_data.head(5)"
   ],
   "metadata": {
    "collapsed": false,
    "ExecuteTime": {
     "end_time": "2024-04-03T17:06:04.936836Z",
     "start_time": "2024-04-03T17:06:04.912459Z"
    }
   },
   "id": "dc28027e03f89f82",
   "execution_count": 5
  },
  {
   "cell_type": "markdown",
   "source": [
    "examples showcase"
   ],
   "metadata": {
    "collapsed": false
   },
   "id": "1a3029c84b298ec"
  },
  {
   "cell_type": "code",
   "outputs": [
    {
     "data": {
      "text/plain": "                                             premise  \\\n0  There are two persons. Everyone is visible to ...   \n1  There are four persons. Everyone is visible to...   \n2  There are two persons. Everyone is visible to ...   \n3  There are four persons. Everyone is visible to...   \n\n                                      smcdel_problem  n_announcements  \\\n0  VARS 1,2 LAW Top OBS Agenta:2 Agentb:1,2 VALID...                1   \n1  VARS 1,2,3,4 LAW Top OBS Agenta:2,3,4 Agentb:1...                3   \n2  VARS 1,2 LAW Top OBS Agenta:1,2 Agentb:1,2 VAL...                2   \n3  VARS 1,2,3,4 LAW Top OBS Agenta:1 Agentb:2 Age...                2   \n\n                                             pbcheck  \\\n0  VARS 0,1,2 LAW Top OBS Agenta:2 Agentb:1,2 VAL...   \n1  VARS 0,1,2,3,4 LAW Top OBS Agenta:2,3,4 Agentb...   \n2  VARS 0,1,2 LAW Top OBS Agenta:1,2 Agentb:1,2 V...   \n3  VARS 0,1,2,3,4 LAW Top OBS Agenta:1 Agentb:2 A...   \n\n                                          hypothesis            setup  \\\n0  Patricia can now know whether someone picked a...         explicit   \n1  Lewis can now know whether Joyce can know that...         forehead   \n2  Vanessa can now know that Thomas can know that...  forehead_mirror   \n3  Rachel can now know that Pierre can know wheth...         internal   \n\n   hypothesis_depth  n_agents           label  \\\n0                 0         2      entailment   \n1                 1         4      entailment   \n2                 1         2  not_entailment   \n3                 1         4      entailment   \n\n                             names  index                s-l  deberta_pred  \\\n0                 [Loyd, Patricia]  55517         explicit-1             1   \n1     [Joyce, Laura, Lewis, Erika]  37251         forehead-1             1   \n2                [Vanessa, Thomas]  14276  forehead_mirror-0             0   \n3  [Michael, Mark, Rachel, Pierre]  48706         internal-1             1   \n\n   deberta_confidence  difficulty  \n0            0.999451    0.000549  \n1            0.993485    0.006515  \n2            0.998877    0.001123  \n3            0.727491    0.272509  ",
      "text/html": "<div>\n<style scoped>\n    .dataframe tbody tr th:only-of-type {\n        vertical-align: middle;\n    }\n\n    .dataframe tbody tr th {\n        vertical-align: top;\n    }\n\n    .dataframe thead th {\n        text-align: right;\n    }\n</style>\n<table border=\"1\" class=\"dataframe\">\n  <thead>\n    <tr style=\"text-align: right;\">\n      <th></th>\n      <th>premise</th>\n      <th>smcdel_problem</th>\n      <th>n_announcements</th>\n      <th>pbcheck</th>\n      <th>hypothesis</th>\n      <th>setup</th>\n      <th>hypothesis_depth</th>\n      <th>n_agents</th>\n      <th>label</th>\n      <th>names</th>\n      <th>index</th>\n      <th>s-l</th>\n      <th>deberta_pred</th>\n      <th>deberta_confidence</th>\n      <th>difficulty</th>\n    </tr>\n  </thead>\n  <tbody>\n    <tr>\n      <th>0</th>\n      <td>There are two persons. Everyone is visible to ...</td>\n      <td>VARS 1,2 LAW Top OBS Agenta:2 Agentb:1,2 VALID...</td>\n      <td>1</td>\n      <td>VARS 0,1,2 LAW Top OBS Agenta:2 Agentb:1,2 VAL...</td>\n      <td>Patricia can now know whether someone picked a...</td>\n      <td>explicit</td>\n      <td>0</td>\n      <td>2</td>\n      <td>entailment</td>\n      <td>[Loyd, Patricia]</td>\n      <td>55517</td>\n      <td>explicit-1</td>\n      <td>1</td>\n      <td>0.999451</td>\n      <td>0.000549</td>\n    </tr>\n    <tr>\n      <th>1</th>\n      <td>There are four persons. Everyone is visible to...</td>\n      <td>VARS 1,2,3,4 LAW Top OBS Agenta:2,3,4 Agentb:1...</td>\n      <td>3</td>\n      <td>VARS 0,1,2,3,4 LAW Top OBS Agenta:2,3,4 Agentb...</td>\n      <td>Lewis can now know whether Joyce can know that...</td>\n      <td>forehead</td>\n      <td>1</td>\n      <td>4</td>\n      <td>entailment</td>\n      <td>[Joyce, Laura, Lewis, Erika]</td>\n      <td>37251</td>\n      <td>forehead-1</td>\n      <td>1</td>\n      <td>0.993485</td>\n      <td>0.006515</td>\n    </tr>\n    <tr>\n      <th>2</th>\n      <td>There are two persons. Everyone is visible to ...</td>\n      <td>VARS 1,2 LAW Top OBS Agenta:1,2 Agentb:1,2 VAL...</td>\n      <td>2</td>\n      <td>VARS 0,1,2 LAW Top OBS Agenta:1,2 Agentb:1,2 V...</td>\n      <td>Vanessa can now know that Thomas can know that...</td>\n      <td>forehead_mirror</td>\n      <td>1</td>\n      <td>2</td>\n      <td>not_entailment</td>\n      <td>[Vanessa, Thomas]</td>\n      <td>14276</td>\n      <td>forehead_mirror-0</td>\n      <td>0</td>\n      <td>0.998877</td>\n      <td>0.001123</td>\n    </tr>\n    <tr>\n      <th>3</th>\n      <td>There are four persons. Everyone is visible to...</td>\n      <td>VARS 1,2,3,4 LAW Top OBS Agenta:1 Agentb:2 Age...</td>\n      <td>2</td>\n      <td>VARS 0,1,2,3,4 LAW Top OBS Agenta:1 Agentb:2 A...</td>\n      <td>Rachel can now know that Pierre can know wheth...</td>\n      <td>internal</td>\n      <td>1</td>\n      <td>4</td>\n      <td>entailment</td>\n      <td>[Michael, Mark, Rachel, Pierre]</td>\n      <td>48706</td>\n      <td>internal-1</td>\n      <td>1</td>\n      <td>0.727491</td>\n      <td>0.272509</td>\n    </tr>\n  </tbody>\n</table>\n</div>"
     },
     "execution_count": 6,
     "metadata": {},
     "output_type": "execute_result"
    }
   ],
   "source": [
    "examples"
   ],
   "metadata": {
    "collapsed": false,
    "ExecuteTime": {
     "end_time": "2024-04-03T17:06:04.956428Z",
     "start_time": "2024-04-03T17:06:04.937558Z"
    }
   },
   "id": "dd94dde321691a72",
   "execution_count": 6
  },
  {
   "cell_type": "markdown",
   "source": [
    "list all columns"
   ],
   "metadata": {
    "collapsed": false
   },
   "id": "3c6111ce913397e0"
  },
  {
   "cell_type": "code",
   "outputs": [
    {
     "data": {
      "text/plain": "['premise',\n 'smcdel_problem',\n 'n_announcements',\n 'pbcheck',\n 'hypothesis',\n 'setup',\n 'hypothesis_depth',\n 'n_agents',\n 'label',\n 'names',\n 'index',\n 's-l',\n 'deberta_pred',\n 'deberta_confidence',\n 'difficulty']"
     },
     "execution_count": 7,
     "metadata": {},
     "output_type": "execute_result"
    }
   ],
   "source": [
    "list(all_data.columns)"
   ],
   "metadata": {
    "collapsed": false,
    "ExecuteTime": {
     "end_time": "2024-04-03T17:06:04.972142Z",
     "start_time": "2024-04-03T17:06:04.957384Z"
    }
   },
   "id": "58f0bb62c3f6c521",
   "execution_count": 7
  },
  {
   "cell_type": "markdown",
   "source": [
    "## 3. Data Preprocessing"
   ],
   "metadata": {
    "collapsed": false
   },
   "id": "ddd5b4c5cd920b00"
  },
  {
   "cell_type": "code",
   "outputs": [],
   "source": [
    "examples = preprocess(examples)\n",
    "all_data = preprocess(all_data)"
   ],
   "metadata": {
    "collapsed": false,
    "ExecuteTime": {
     "end_time": "2024-04-03T17:06:05.012048Z",
     "start_time": "2024-04-03T17:06:04.973210Z"
    }
   },
   "id": "a5f95466a623ed13",
   "execution_count": 8
  },
  {
   "cell_type": "markdown",
   "source": [
    "preprocessed data showcase"
   ],
   "metadata": {
    "collapsed": false
   },
   "id": "a149b615bfdee92f"
  },
  {
   "cell_type": "code",
   "outputs": [
    {
     "data": {
      "text/plain": "             setup                                            context  \\\n4         explicit  There are four persons. Their names are Nathan...   \n5  forehead_mirror  There are three persons. Their names are Marga...   \n6  forehead_mirror  There are four persons. Their names are Marand...   \n7  forehead_mirror  There are four persons. Their names are Chad, ...   \n8         explicit  There are three persons. Their names are Josep...   \n\n                                          hypothesis  \\\n4  Andrew can now know whether Willie can know th...   \n5  Margaret can now know that Jennifer can know t...   \n6  Jennifer can now know whether Esther can know ...   \n7  Joyce can now know whether Brian can know whet...   \n8  Joseph can now know whether someone picked a r...   \n\n                                           target_sf  target_label  \\\n4  VARS 1,2,3,4 LAW Top OBS Agenta:3 Agentb:2 Age...             1   \n5  VARS 1,2,3 LAW Top OBS Agenta:1,2,3 Agentb:1,2...             0   \n6  VARS 1,2,3,4 LAW Top OBS Agenta:1,2,3,4 Agentb...             1   \n7  VARS 1,2,3,4 LAW Top OBS Agenta:1,2,3,4 Agentb...             1   \n8  VARS 1,2,3 LAW Top OBS Agenta:3 Agentb:1 VALID...             1   \n\n   n_announcements  n_agents  hypothesis_depth  \n4                1         4                 1  \n5                1         3                 1  \n6                4         4                 1  \n7                4         4                 1  \n8                2         3                 0  ",
      "text/html": "<div>\n<style scoped>\n    .dataframe tbody tr th:only-of-type {\n        vertical-align: middle;\n    }\n\n    .dataframe tbody tr th {\n        vertical-align: top;\n    }\n\n    .dataframe thead th {\n        text-align: right;\n    }\n</style>\n<table border=\"1\" class=\"dataframe\">\n  <thead>\n    <tr style=\"text-align: right;\">\n      <th></th>\n      <th>setup</th>\n      <th>context</th>\n      <th>hypothesis</th>\n      <th>target_sf</th>\n      <th>target_label</th>\n      <th>n_announcements</th>\n      <th>n_agents</th>\n      <th>hypothesis_depth</th>\n    </tr>\n  </thead>\n  <tbody>\n    <tr>\n      <th>4</th>\n      <td>explicit</td>\n      <td>There are four persons. Their names are Nathan...</td>\n      <td>Andrew can now know whether Willie can know th...</td>\n      <td>VARS 1,2,3,4 LAW Top OBS Agenta:3 Agentb:2 Age...</td>\n      <td>1</td>\n      <td>1</td>\n      <td>4</td>\n      <td>1</td>\n    </tr>\n    <tr>\n      <th>5</th>\n      <td>forehead_mirror</td>\n      <td>There are three persons. Their names are Marga...</td>\n      <td>Margaret can now know that Jennifer can know t...</td>\n      <td>VARS 1,2,3 LAW Top OBS Agenta:1,2,3 Agentb:1,2...</td>\n      <td>0</td>\n      <td>1</td>\n      <td>3</td>\n      <td>1</td>\n    </tr>\n    <tr>\n      <th>6</th>\n      <td>forehead_mirror</td>\n      <td>There are four persons. Their names are Marand...</td>\n      <td>Jennifer can now know whether Esther can know ...</td>\n      <td>VARS 1,2,3,4 LAW Top OBS Agenta:1,2,3,4 Agentb...</td>\n      <td>1</td>\n      <td>4</td>\n      <td>4</td>\n      <td>1</td>\n    </tr>\n    <tr>\n      <th>7</th>\n      <td>forehead_mirror</td>\n      <td>There are four persons. Their names are Chad, ...</td>\n      <td>Joyce can now know whether Brian can know whet...</td>\n      <td>VARS 1,2,3,4 LAW Top OBS Agenta:1,2,3,4 Agentb...</td>\n      <td>1</td>\n      <td>4</td>\n      <td>4</td>\n      <td>1</td>\n    </tr>\n    <tr>\n      <th>8</th>\n      <td>explicit</td>\n      <td>There are three persons. Their names are Josep...</td>\n      <td>Joseph can now know whether someone picked a r...</td>\n      <td>VARS 1,2,3 LAW Top OBS Agenta:3 Agentb:1 VALID...</td>\n      <td>1</td>\n      <td>2</td>\n      <td>3</td>\n      <td>0</td>\n    </tr>\n  </tbody>\n</table>\n</div>"
     },
     "execution_count": 9,
     "metadata": {},
     "output_type": "execute_result"
    }
   ],
   "source": [
    "all_data.head(5)"
   ],
   "metadata": {
    "collapsed": false,
    "ExecuteTime": {
     "end_time": "2024-04-03T17:06:05.030027Z",
     "start_time": "2024-04-03T17:06:05.012794Z"
    }
   },
   "id": "9cb394481c0926a1",
   "execution_count": 9
  },
  {
   "cell_type": "markdown",
   "source": [
    "## 4. Prompt Example preparation "
   ],
   "metadata": {
    "collapsed": false
   },
   "id": "f7613dd8950c50ad"
  },
  {
   "cell_type": "code",
   "outputs": [],
   "source": [
    "internal_sample = examples[examples['setup'] == 'internal'].sample(1, random_state=random_state).iloc[0]\n",
    "forehead_sample = examples[examples['setup'] == 'forehead'].sample(1, random_state=random_state).iloc[0]\n",
    "explicit_sample = examples[examples['setup'] == 'explicit'].sample(1, random_state=random_state).iloc[0]\n",
    "forehead_mirror_sample = examples[examples['setup'] == 'forehead_mirror'].sample(1, random_state=random_state).iloc[0]\n",
    "\n",
    "\n",
    "def choose_example(setup: str) -> pd.Series:\n",
    "    \"\"\"\n",
    "    Choose an example from the train set based on the setup\n",
    "    :param setup: \n",
    "    :return: \n",
    "    \"\"\"\n",
    "    if setup == 'internal':\n",
    "        return internal_sample\n",
    "    elif setup == 'forehead':\n",
    "        return forehead_sample\n",
    "    elif setup == 'explicit':\n",
    "        return explicit_sample\n",
    "    elif setup == 'forehead_mirror':\n",
    "        return forehead_mirror_sample\n",
    "    else:\n",
    "        raise ValueError(f\"Invalid setup: {setup}\")\n"
   ],
   "metadata": {
    "collapsed": false,
    "ExecuteTime": {
     "end_time": "2024-04-03T17:06:05.049517Z",
     "start_time": "2024-04-03T17:06:05.030751Z"
    }
   },
   "id": "42c2a5e0252ca5a6",
   "execution_count": 10
  },
  {
   "cell_type": "markdown",
   "source": [
    "## 5. Samples Preparation"
   ],
   "metadata": {
    "collapsed": false
   },
   "id": "47eacff6b49c300a"
  },
  {
   "cell_type": "code",
   "outputs": [
    {
     "name": "stdout",
     "output_type": "stream",
     "text": [
      "Total sample size:  100\n"
     ]
    }
   ],
   "source": [
    "test_samples = all_data[\n",
    "    (all_data['n_agents'] == 3) & (all_data['hypothesis_depth'] == 1) & (all_data['n_announcements'] == 2)]\n",
    "test_samples = test_samples.groupby([\n",
    "    'target_label',\n",
    "], observed=True).sample(sample_size, random_state=random_state,\n",
    "                         replace=False)\n",
    "\n",
    "print(\"Total sample size: \", len(test_samples))\n",
    "# tom_lm: Add columns for the predicted sf, predicated_label\n",
    "tom_lm_samples = test_samples.copy()\n",
    "tom_lm_samples['predicted_sf'] = \"\"\n",
    "tom_lm_samples['predicted_label'] = -1\n",
    "# direct: Add columns for the predicted_label\n",
    "direct_lm_samples = test_samples.copy()\n",
    "direct_lm_samples['predicted_label'] = -1"
   ],
   "metadata": {
    "collapsed": false,
    "ExecuteTime": {
     "end_time": "2024-04-03T17:06:05.070028Z",
     "start_time": "2024-04-03T17:06:05.050119Z"
    }
   },
   "id": "ca3383823191012c",
   "execution_count": 11
  },
  {
   "cell_type": "markdown",
   "source": [
    "# Model Initialization"
   ],
   "metadata": {
    "collapsed": false
   },
   "id": "8b3712598c01c7ff"
  },
  {
   "cell_type": "code",
   "outputs": [
    {
     "name": "stdout",
     "output_type": "stream",
     "text": [
      "<models.openai_llm.OpenAILLM object at 0x305406660>\n"
     ]
    }
   ],
   "source": [
    "if model_name in {\"gpt-3.5-turbo\", \"gpt-4\"}:\n",
    "    model = OpenAILLM(model_name=model_name)\n",
    "elif model_name == \"gemma\":\n",
    "    model = OllamaLLM(model_name=model_name)\n",
    "else:\n",
    "    raise ValueError(f\"Invalid model name: {model_name}\")\n",
    "\n",
    "print(model)\n",
    "\n",
    "model: BaseLLM = model"
   ],
   "metadata": {
    "collapsed": false,
    "ExecuteTime": {
     "end_time": "2024-04-03T17:06:05.086124Z",
     "start_time": "2024-04-03T17:06:05.070764Z"
    }
   },
   "id": "c5d9c3ff3481052d",
   "execution_count": 12
  },
  {
   "cell_type": "markdown",
   "source": [
    "# Run"
   ],
   "metadata": {
    "collapsed": false
   },
   "id": "4cad61356e238fed"
  },
  {
   "cell_type": "markdown",
   "source": [
    "## 1. LLM Direct Prediction"
   ],
   "metadata": {
    "collapsed": false
   },
   "id": "f91bb9a0a8611503"
  },
  {
   "cell_type": "code",
   "outputs": [],
   "source": [
    "model.reconfigure(config={\"max_tokens\": 10})"
   ],
   "metadata": {
    "collapsed": false,
    "ExecuteTime": {
     "end_time": "2024-04-03T17:06:05.100319Z",
     "start_time": "2024-04-03T17:06:05.087279Z"
    }
   },
   "id": "cdaabefa583861a5",
   "execution_count": 13
  },
  {
   "cell_type": "code",
   "outputs": [
    {
     "name": "stderr",
     "output_type": "stream",
     "text": [
      "100%|██████████| 100/100 [00:58<00:00,  1.71it/s]\n"
     ]
    }
   ],
   "source": [
    "def direct_predict(row: pd.Series):\n",
    "    # choose example prompt based on 'setup'\n",
    "    setup = row['setup']\n",
    "    example = choose_example(setup)\n",
    "    # form prompt\n",
    "    context = row['context']\n",
    "    hypothesis = row['hypothesis']\n",
    "    prompt = get_direct_prompt(\n",
    "        example_context=example['context'],\n",
    "        example_hypothesis=example['hypothesis'],\n",
    "        example_answer=\"TURE\" if example['target_label'] == 1 else \"FALSE\",\n",
    "        context=context,\n",
    "        hypothesis=hypothesis\n",
    "    )\n",
    "    # do completion\n",
    "    answer = model.complete(prompt)\n",
    "    if answer == \"TRUE\":\n",
    "        answer = 1\n",
    "    elif answer == \"FALSE\":\n",
    "        answer = 0\n",
    "    else:\n",
    "        answer = -1\n",
    "    # store predicted symbolic formulation to original df\n",
    "    row['predicted_label'] = answer\n",
    "    return row\n",
    "\n",
    "\n",
    "direct_lm_samples = direct_lm_samples.progress_apply(direct_predict, axis=1)"
   ],
   "metadata": {
    "collapsed": false,
    "ExecuteTime": {
     "end_time": "2024-04-03T17:07:03.458567Z",
     "start_time": "2024-04-03T17:06:05.102532Z"
    }
   },
   "id": "5b5d768744834242",
   "execution_count": 14
  },
  {
   "cell_type": "code",
   "outputs": [],
   "source": [
    "save_direct_result(direct_lm_samples, name_info=name_info)"
   ],
   "metadata": {
    "collapsed": false,
    "ExecuteTime": {
     "end_time": "2024-04-03T17:07:03.495684Z",
     "start_time": "2024-04-03T17:07:03.460520Z"
    }
   },
   "id": "f1fe2065b40482f4",
   "execution_count": 15
  },
  {
   "cell_type": "markdown",
   "source": [
    "## 2. LLM+SMCDEL Prediction"
   ],
   "metadata": {
    "collapsed": false
   },
   "id": "9566008c68188062"
  },
  {
   "cell_type": "code",
   "outputs": [],
   "source": [
    "model.reconfigure(config={\"max_tokens\": 300,\"model_name\": \"ft:gpt-3.5-turbo-0125:personal::99y5SlF1\"})"
   ],
   "metadata": {
    "collapsed": false,
    "ExecuteTime": {
     "end_time": "2024-04-03T17:07:03.513375Z",
     "start_time": "2024-04-03T17:07:03.496482Z"
    }
   },
   "id": "314917b218d4b239",
   "execution_count": 16
  },
  {
   "cell_type": "markdown",
   "source": [
    "### a. Natural Language to Symbolic Formulation\n",
    "LLM will predict the symbolic formulation based on the natural language context and hypothesis"
   ],
   "metadata": {
    "collapsed": false
   },
   "id": "aa636f4ca2ae809f"
  },
  {
   "cell_type": "code",
   "outputs": [
    {
     "name": "stderr",
     "output_type": "stream",
     "text": [
      "100%|██████████| 100/100 [03:47<00:00,  2.27s/it]\n"
     ]
    }
   ],
   "source": [
    "def nl2sf_predict(row: pd.Series):\n",
    "    # choose example prompt based on 'setup'\n",
    "    setup = row['setup']\n",
    "    example = choose_example(setup)\n",
    "    # form prompt\n",
    "    context = row['context']\n",
    "    hypothesis = row['hypothesis']\n",
    "    prompt = get_smcdel_prompt(\n",
    "        example_context=example['context'],\n",
    "        example_hypothesis=example['hypothesis'],\n",
    "        example_sf=example['target_sf'],\n",
    "        problem_context=context,\n",
    "        problem_hypothesis=hypothesis\n",
    "    )\n",
    "    # do completion\n",
    "    sf = model.complete(prompt)\n",
    "    # store predicted symbolic formulation to original df\n",
    "    row['predicted_sf'] = sf\n",
    "    return row\n",
    "\n",
    "\n",
    "tom_lm_samples = tom_lm_samples.progress_apply(nl2sf_predict, axis=1)"
   ],
   "metadata": {
    "collapsed": false,
    "ExecuteTime": {
     "end_time": "2024-04-03T17:10:50.757913Z",
     "start_time": "2024-04-03T17:07:03.514266Z"
    }
   },
   "id": "c49de052d7c6ed45",
   "execution_count": 17
  },
  {
   "cell_type": "code",
   "outputs": [],
   "source": [
    "save_nl2sf(tom_lm_samples, name_info=name_info)"
   ],
   "metadata": {
    "collapsed": false,
    "ExecuteTime": {
     "end_time": "2024-04-03T17:10:50.820677Z",
     "start_time": "2024-04-03T17:10:50.761943Z"
    }
   },
   "id": "c5cb36d2b39c8fa6",
   "execution_count": 18
  },
  {
   "cell_type": "markdown",
   "source": [
    "### b. SMCDEL Execution"
   ],
   "metadata": {
    "collapsed": false
   },
   "id": "f6705013e1336e1f"
  },
  {
   "cell_type": "code",
   "outputs": [
    {
     "data": {
      "text/plain": "         setup                                            context  \\\n2973  forehead  There are three persons. Their names are Sharo...   \n\n                                             hypothesis  \\\n2973  Ashley can now know whether Sharon can know th...   \n\n                                              target_sf  target_label  \\\n2973  VARS 1,2,3 LAW Top OBS Agenta:2,3 Agentb:1,3 A...             0   \n\n      n_announcements  n_agents  hypothesis_depth  \\\n2973                2         3                 1   \n\n                                           predicted_sf  predicted_label  \n2973  VARS 1,2,3 LAW Top OBS Agenta:2,3 Agentb:1,3 A...               -1  ",
      "text/html": "<div>\n<style scoped>\n    .dataframe tbody tr th:only-of-type {\n        vertical-align: middle;\n    }\n\n    .dataframe tbody tr th {\n        vertical-align: top;\n    }\n\n    .dataframe thead th {\n        text-align: right;\n    }\n</style>\n<table border=\"1\" class=\"dataframe\">\n  <thead>\n    <tr style=\"text-align: right;\">\n      <th></th>\n      <th>setup</th>\n      <th>context</th>\n      <th>hypothesis</th>\n      <th>target_sf</th>\n      <th>target_label</th>\n      <th>n_announcements</th>\n      <th>n_agents</th>\n      <th>hypothesis_depth</th>\n      <th>predicted_sf</th>\n      <th>predicted_label</th>\n    </tr>\n  </thead>\n  <tbody>\n    <tr>\n      <th>2973</th>\n      <td>forehead</td>\n      <td>There are three persons. Their names are Sharo...</td>\n      <td>Ashley can now know whether Sharon can know th...</td>\n      <td>VARS 1,2,3 LAW Top OBS Agenta:2,3 Agentb:1,3 A...</td>\n      <td>0</td>\n      <td>2</td>\n      <td>3</td>\n      <td>1</td>\n      <td>VARS 1,2,3 LAW Top OBS Agenta:2,3 Agentb:1,3 A...</td>\n      <td>-1</td>\n    </tr>\n  </tbody>\n</table>\n</div>"
     },
     "execution_count": 19,
     "metadata": {},
     "output_type": "execute_result"
    }
   ],
   "source": [
    "tom_lm_samples = load_nl2sf(name_info=name_info)\n",
    "tom_lm_samples.head(1)"
   ],
   "metadata": {
    "collapsed": false,
    "ExecuteTime": {
     "end_time": "2024-04-03T17:10:50.849801Z",
     "start_time": "2024-04-03T17:10:50.821552Z"
    }
   },
   "id": "db3d823e8969b87c",
   "execution_count": 19
  },
  {
   "cell_type": "code",
   "outputs": [],
   "source": [
    "def sf_predict(row: pd.Series):\n",
    "    \"\"\"\n",
    "    Feed predicted symbolic formulation to SMCDEL and get 1 for True, 0 for False, -1 for execution failure\n",
    "    :param row: \n",
    "    :return: \n",
    "    \"\"\"\n",
    "    sf = row['predicted_sf']\n",
    "    try:\n",
    "        result = SMCDEL(text=sf)\n",
    "        result = 1 if result else 0\n",
    "    except ValueError as e:\n",
    "        result = -1\n",
    "    row['predicted_label'] = result\n",
    "    return row\n",
    "\n",
    "\n",
    "tom_lm_samples = tom_lm_samples.apply(sf_predict, axis=1)\n"
   ],
   "metadata": {
    "collapsed": false,
    "ExecuteTime": {
     "end_time": "2024-04-03T17:10:56.446593Z",
     "start_time": "2024-04-03T17:10:50.850428Z"
    }
   },
   "id": "20258ad0020ab02",
   "execution_count": 20
  },
  {
   "cell_type": "code",
   "outputs": [],
   "source": [
    "save_smcdel_result(tom_lm_samples, name_info=name_info)"
   ],
   "metadata": {
    "collapsed": false,
    "ExecuteTime": {
     "end_time": "2024-04-03T17:10:56.480494Z",
     "start_time": "2024-04-03T17:10:56.447866Z"
    }
   },
   "id": "e06a4a2246ff5a09",
   "execution_count": 21
  },
  {
   "cell_type": "markdown",
   "source": [
    "# Evaluation\n"
   ],
   "metadata": {
    "collapsed": false
   },
   "id": "4d254b0234ee3e4"
  },
  {
   "cell_type": "markdown",
   "source": [
    "## 1. Load Results"
   ],
   "metadata": {
    "collapsed": false
   },
   "id": "4cc5af609442606"
  },
  {
   "cell_type": "code",
   "outputs": [],
   "source": [
    "tom_lm_samples = load_smcdel_result(name_info=name_info)\n",
    "direct_lm_samples = load_direct_result(name_info=name_info)"
   ],
   "metadata": {
    "collapsed": false,
    "ExecuteTime": {
     "end_time": "2024-04-03T17:10:56.496776Z",
     "start_time": "2024-04-03T17:10:56.481245Z"
    }
   },
   "id": "2e92a78abcca4245",
   "execution_count": 22
  },
  {
   "cell_type": "markdown",
   "source": [
    "## 2. Metrics"
   ],
   "metadata": {
    "collapsed": false
   },
   "id": "130cabbed1cd7692"
  },
  {
   "cell_type": "markdown",
   "source": [
    "### a. LLM Direct Prediction"
   ],
   "metadata": {
    "collapsed": false
   },
   "id": "31b5510c888fe4e8"
  },
  {
   "cell_type": "code",
   "outputs": [
    {
     "data": {
      "text/plain": "predicted_label\n1    24\n0    76\nName: count, dtype: int64"
     },
     "execution_count": 23,
     "metadata": {},
     "output_type": "execute_result"
    }
   ],
   "source": [
    "direct_lm_samples['predicted_label'].value_counts().sort_index(ascending=False)"
   ],
   "metadata": {
    "collapsed": false,
    "ExecuteTime": {
     "end_time": "2024-04-03T17:10:56.519706Z",
     "start_time": "2024-04-03T17:10:56.497596Z"
    }
   },
   "id": "faceccf66c3f8670",
   "execution_count": 23
  },
  {
   "cell_type": "code",
   "outputs": [
    {
     "data": {
      "text/plain": "predicted_label\n1    24.0%\n0    76.0%\nName: proportion, dtype: object"
     },
     "execution_count": 24,
     "metadata": {},
     "output_type": "execute_result"
    }
   ],
   "source": [
    "direct_lm_samples['predicted_label'].value_counts(normalize=True).sort_index(ascending=False).mul(100).round(2).astype(\n",
    "    'str') + '%'"
   ],
   "metadata": {
    "collapsed": false,
    "ExecuteTime": {
     "end_time": "2024-04-03T17:10:56.536518Z",
     "start_time": "2024-04-03T17:10:56.520354Z"
    }
   },
   "id": "89d0b46d8f53a0e1",
   "execution_count": 24
  },
  {
   "cell_type": "code",
   "outputs": [
    {
     "data": {
      "text/plain": "                 execution_accuracy       auc        f1  execution_rate\nsetup                                                                  \nexplicit                   0.333333  0.545455  0.166667             1.0\nforehead                   0.645161  0.500000  0.000000             1.0\nforehead_mirror            0.500000  0.531469  0.625000             1.0\ninternal                   0.500000  0.558824  0.210526             1.0\noverall                    0.520000  0.520000  0.351351             1.0",
      "text/html": "<div>\n<style scoped>\n    .dataframe tbody tr th:only-of-type {\n        vertical-align: middle;\n    }\n\n    .dataframe tbody tr th {\n        vertical-align: top;\n    }\n\n    .dataframe thead th {\n        text-align: right;\n    }\n</style>\n<table border=\"1\" class=\"dataframe\">\n  <thead>\n    <tr style=\"text-align: right;\">\n      <th></th>\n      <th>execution_accuracy</th>\n      <th>auc</th>\n      <th>f1</th>\n      <th>execution_rate</th>\n    </tr>\n    <tr>\n      <th>setup</th>\n      <th></th>\n      <th></th>\n      <th></th>\n      <th></th>\n    </tr>\n  </thead>\n  <tbody>\n    <tr>\n      <th>explicit</th>\n      <td>0.333333</td>\n      <td>0.545455</td>\n      <td>0.166667</td>\n      <td>1.0</td>\n    </tr>\n    <tr>\n      <th>forehead</th>\n      <td>0.645161</td>\n      <td>0.500000</td>\n      <td>0.000000</td>\n      <td>1.0</td>\n    </tr>\n    <tr>\n      <th>forehead_mirror</th>\n      <td>0.500000</td>\n      <td>0.531469</td>\n      <td>0.625000</td>\n      <td>1.0</td>\n    </tr>\n    <tr>\n      <th>internal</th>\n      <td>0.500000</td>\n      <td>0.558824</td>\n      <td>0.210526</td>\n      <td>1.0</td>\n    </tr>\n    <tr>\n      <th>overall</th>\n      <td>0.520000</td>\n      <td>0.520000</td>\n      <td>0.351351</td>\n      <td>1.0</td>\n    </tr>\n  </tbody>\n</table>\n</div>"
     },
     "execution_count": 25,
     "metadata": {},
     "output_type": "execute_result"
    }
   ],
   "source": [
    "execution_metrics(direct_lm_samples)"
   ],
   "metadata": {
    "collapsed": false,
    "ExecuteTime": {
     "end_time": "2024-04-03T17:10:56.580435Z",
     "start_time": "2024-04-03T17:10:56.537296Z"
    }
   },
   "id": "306e4675c7a176cf",
   "execution_count": 25
  },
  {
   "cell_type": "code",
   "outputs": [
    {
     "data": {
      "text/plain": "<Figure size 1600x500 with 1 Axes>",
      "image/png": "[encoded data removed]"
     },
     "metadata": {},
     "output_type": "display_data"
    }
   ],
   "source": [
    "plot_metrics(direct_lm_samples)"
   ],
   "metadata": {
    "collapsed": false,
    "ExecuteTime": {
     "end_time": "2024-04-03T17:10:56.996289Z",
     "start_time": "2024-04-03T17:10:56.581418Z"
    }
   },
   "id": "75d6c2a645760ee8",
   "execution_count": 26
  },
  {
   "cell_type": "markdown",
   "source": [
    "### b. LLM+SMCDEL Prediction"
   ],
   "metadata": {
    "collapsed": false
   },
   "id": "dd00ef5e974bbca3"
  },
  {
   "cell_type": "code",
   "outputs": [
    {
     "data": {
      "text/plain": "predicted_label\n1    51\n0    49\nName: count, dtype: int64"
     },
     "execution_count": 27,
     "metadata": {},
     "output_type": "execute_result"
    }
   ],
   "source": [
    "tom_lm_samples['predicted_label'].value_counts().sort_index(ascending=False)"
   ],
   "metadata": {
    "collapsed": false,
    "ExecuteTime": {
     "end_time": "2024-04-03T17:10:57.020177Z",
     "start_time": "2024-04-03T17:10:56.999661Z"
    }
   },
   "id": "6aaac3233caad562",
   "execution_count": 27
  },
  {
   "cell_type": "code",
   "outputs": [
    {
     "data": {
      "text/plain": "predicted_label\n1    51.0%\n0    49.0%\nName: proportion, dtype: object"
     },
     "execution_count": 28,
     "metadata": {},
     "output_type": "execute_result"
    }
   ],
   "source": [
    "tom_lm_samples['predicted_label'].value_counts(normalize=True).sort_index(ascending=False).mul(100).round(2).astype(\n",
    "    'str') + '%'"
   ],
   "metadata": {
    "collapsed": false,
    "ExecuteTime": {
     "end_time": "2024-04-03T17:10:57.051064Z",
     "start_time": "2024-04-03T17:10:57.021058Z"
    }
   },
   "id": "b8d50bb621ab2b80",
   "execution_count": 28
  },
  {
   "cell_type": "code",
   "outputs": [
    {
     "data": {
      "text/plain": "                setup                                            context  \\\n2973         forehead  There are three persons. Their names are Sharo...   \n1203         forehead  There are three persons. Their names are James...   \n1290         internal  There are three persons. Their names are Garfi...   \n3139         forehead  There are three persons. Their names are Kelle...   \n2004         internal  There are three persons. Their names are Letha...   \n...               ...                                                ...   \n1544         forehead  There are three persons. Their names are Eliza...   \n2460  forehead_mirror  There are three persons. Their names are Samue...   \n1245         explicit  There are three persons. Their names are James...   \n833          forehead  There are three persons. Their names are Mary,...   \n2043         internal  There are three persons. Their names are Arian...   \n\n                                             hypothesis  \\\n2973  Ashley can now know whether Sharon can know th...   \n1203  Lisa can now know that Linda can know that eve...   \n1290  Steven can now know that Troy can know that Ga...   \n3139  Kelley can now know that Barbara can know that...   \n2004  Devin can now know that Letha can know that Le...   \n...                                                 ...   \n1544  Debrah can now know that William can know that...   \n2460  Leslie can now know that Samuel can know wheth...   \n1245  Max can now know that James can know whether o...   \n833   James can now know whether Mary can know wheth...   \n2043  Randall can now know whether Michael can know ...   \n\n                                              target_sf  target_label  \\\n2973  VARS 1,2,3 LAW Top OBS Agenta:2,3 Agentb:1,3 A...             0   \n1203  VARS 1,2,3 LAW Top OBS Agenta:2,3 Agentb:1,3 A...             0   \n1290  VARS 1,2,3 LAW Top OBS Agenta:1 Agentb:2 Agent...             0   \n3139  VARS 1,2,3 LAW Top OBS Agenta:2,3 Agentb:1,3 A...             0   \n2004  VARS 1,2,3 LAW Top OBS Agenta:1 Agentb:2 Agent...             0   \n...                                                 ...           ...   \n1544  VARS 1,2,3 LAW Top OBS Agenta:2,3 Agentb:1,3 A...             1   \n2460  VARS 1,2,3 LAW Top OBS Agenta:1,2,3 Agentb:1,2...             1   \n1245  VARS 1,2,3 LAW Top OBS Agenta:1,3 Agentb:1,2,3...             1   \n833   VARS 1,2,3 LAW Top OBS Agenta:2,3 Agentb:1,3 A...             1   \n2043  VARS 1,2,3 LAW Top OBS Agenta:1 Agentb:2 Agent...             1   \n\n      n_announcements  n_agents  hypothesis_depth  \\\n2973                2         3                 1   \n1203                2         3                 1   \n1290                2         3                 1   \n3139                2         3                 1   \n2004                2         3                 1   \n...               ...       ...               ...   \n1544                2         3                 1   \n2460                2         3                 1   \n1245                2         3                 1   \n833                 2         3                 1   \n2043                2         3                 1   \n\n                                           predicted_sf  predicted_label  \n2973  VARS 1,2,3 LAW Top OBS Agenta:2,3 Agentb:1,3 A...                0  \n1203  VARS 1,2,3 LAW Top OBS Agenta:2,3 Agentb:1,3 A...                0  \n1290  VARS 1,2,3 LAW Top OBS Agenta:1 Agentb:2 Agent...                0  \n3139  VARS 1,2,3 LAW Top OBS Agenta:2,3 Agentb:1,3 A...                0  \n2004  VARS 1,2,3 LAW Top OBS Agenta:1 Agentb:2 Agent...                0  \n...                                                 ...              ...  \n1544  VARS 1,2,3 LAW Top OBS Agenta:2,3 Agentb:1,3 A...                1  \n2460  VARS 1,2,3 LAW Top OBS Agenta:1,2,3 Agentb:1,2...                1  \n1245  VARS 1,2,3 LAW Top OBS Agenta:1,3 Agentb:3 Age...                1  \n833   VARS 1,2,3 LAW Top OBS Agenta:2,3 Agentb:1,3 A...                1  \n2043  VARS 1,2,3 LAW Top OBS Agenta:1 Agentb:2 Agent...                1  \n\n[100 rows x 10 columns]",
      "text/html": "<div>\n<style scoped>\n    .dataframe tbody tr th:only-of-type {\n        vertical-align: middle;\n    }\n\n    .dataframe tbody tr th {\n        vertical-align: top;\n    }\n\n    .dataframe thead th {\n        text-align: right;\n    }\n</style>\n<table border=\"1\" class=\"dataframe\">\n  <thead>\n    <tr style=\"text-align: right;\">\n      <th></th>\n      <th>setup</th>\n      <th>context</th>\n      <th>hypothesis</th>\n      <th>target_sf</th>\n      <th>target_label</th>\n      <th>n_announcements</th>\n      <th>n_agents</th>\n      <th>hypothesis_depth</th>\n      <th>predicted_sf</th>\n      <th>predicted_label</th>\n    </tr>\n  </thead>\n  <tbody>\n    <tr>\n      <th>2973</th>\n      <td>forehead</td>\n      <td>There are three persons. Their names are Sharo...</td>\n      <td>Ashley can now know whether Sharon can know th...</td>\n      <td>VARS 1,2,3 LAW Top OBS Agenta:2,3 Agentb:1,3 A...</td>\n      <td>0</td>\n      <td>2</td>\n      <td>3</td>\n      <td>1</td>\n      <td>VARS 1,2,3 LAW Top OBS Agenta:2,3 Agentb:1,3 A...</td>\n      <td>0</td>\n    </tr>\n    <tr>\n      <th>1203</th>\n      <td>forehead</td>\n      <td>There are three persons. Their names are James...</td>\n      <td>Lisa can now know that Linda can know that eve...</td>\n      <td>VARS 1,2,3 LAW Top OBS Agenta:2,3 Agentb:1,3 A...</td>\n      <td>0</td>\n      <td>2</td>\n      <td>3</td>\n      <td>1</td>\n      <td>VARS 1,2,3 LAW Top OBS Agenta:2,3 Agentb:1,3 A...</td>\n      <td>0</td>\n    </tr>\n    <tr>\n      <th>1290</th>\n      <td>internal</td>\n      <td>There are three persons. Their names are Garfi...</td>\n      <td>Steven can now know that Troy can know that Ga...</td>\n      <td>VARS 1,2,3 LAW Top OBS Agenta:1 Agentb:2 Agent...</td>\n      <td>0</td>\n      <td>2</td>\n      <td>3</td>\n      <td>1</td>\n      <td>VARS 1,2,3 LAW Top OBS Agenta:1 Agentb:2 Agent...</td>\n      <td>0</td>\n    </tr>\n    <tr>\n      <th>3139</th>\n      <td>forehead</td>\n      <td>There are three persons. Their names are Kelle...</td>\n      <td>Kelley can now know that Barbara can know that...</td>\n      <td>VARS 1,2,3 LAW Top OBS Agenta:2,3 Agentb:1,3 A...</td>\n      <td>0</td>\n      <td>2</td>\n      <td>3</td>\n      <td>1</td>\n      <td>VARS 1,2,3 LAW Top OBS Agenta:2,3 Agentb:1,3 A...</td>\n      <td>0</td>\n    </tr>\n    <tr>\n      <th>2004</th>\n      <td>internal</td>\n      <td>There are three persons. Their names are Letha...</td>\n      <td>Devin can now know that Letha can know that Le...</td>\n      <td>VARS 1,2,3 LAW Top OBS Agenta:1 Agentb:2 Agent...</td>\n      <td>0</td>\n      <td>2</td>\n      <td>3</td>\n      <td>1</td>\n      <td>VARS 1,2,3 LAW Top OBS Agenta:1 Agentb:2 Agent...</td>\n      <td>0</td>\n    </tr>\n    <tr>\n      <th>...</th>\n      <td>...</td>\n      <td>...</td>\n      <td>...</td>\n      <td>...</td>\n      <td>...</td>\n      <td>...</td>\n      <td>...</td>\n      <td>...</td>\n      <td>...</td>\n      <td>...</td>\n    </tr>\n    <tr>\n      <th>1544</th>\n      <td>forehead</td>\n      <td>There are three persons. Their names are Eliza...</td>\n      <td>Debrah can now know that William can know that...</td>\n      <td>VARS 1,2,3 LAW Top OBS Agenta:2,3 Agentb:1,3 A...</td>\n      <td>1</td>\n      <td>2</td>\n      <td>3</td>\n      <td>1</td>\n      <td>VARS 1,2,3 LAW Top OBS Agenta:2,3 Agentb:1,3 A...</td>\n      <td>1</td>\n    </tr>\n    <tr>\n      <th>2460</th>\n      <td>forehead_mirror</td>\n      <td>There are three persons. Their names are Samue...</td>\n      <td>Leslie can now know that Samuel can know wheth...</td>\n      <td>VARS 1,2,3 LAW Top OBS Agenta:1,2,3 Agentb:1,2...</td>\n      <td>1</td>\n      <td>2</td>\n      <td>3</td>\n      <td>1</td>\n      <td>VARS 1,2,3 LAW Top OBS Agenta:1,2,3 Agentb:1,2...</td>\n      <td>1</td>\n    </tr>\n    <tr>\n      <th>1245</th>\n      <td>explicit</td>\n      <td>There are three persons. Their names are James...</td>\n      <td>Max can now know that James can know whether o...</td>\n      <td>VARS 1,2,3 LAW Top OBS Agenta:1,3 Agentb:1,2,3...</td>\n      <td>1</td>\n      <td>2</td>\n      <td>3</td>\n      <td>1</td>\n      <td>VARS 1,2,3 LAW Top OBS Agenta:1,3 Agentb:3 Age...</td>\n      <td>1</td>\n    </tr>\n    <tr>\n      <th>833</th>\n      <td>forehead</td>\n      <td>There are three persons. Their names are Mary,...</td>\n      <td>James can now know whether Mary can know wheth...</td>\n      <td>VARS 1,2,3 LAW Top OBS Agenta:2,3 Agentb:1,3 A...</td>\n      <td>1</td>\n      <td>2</td>\n      <td>3</td>\n      <td>1</td>\n      <td>VARS 1,2,3 LAW Top OBS Agenta:2,3 Agentb:1,3 A...</td>\n      <td>1</td>\n    </tr>\n    <tr>\n      <th>2043</th>\n      <td>internal</td>\n      <td>There are three persons. Their names are Arian...</td>\n      <td>Randall can now know whether Michael can know ...</td>\n      <td>VARS 1,2,3 LAW Top OBS Agenta:1 Agentb:2 Agent...</td>\n      <td>1</td>\n      <td>2</td>\n      <td>3</td>\n      <td>1</td>\n      <td>VARS 1,2,3 LAW Top OBS Agenta:1 Agentb:2 Agent...</td>\n      <td>1</td>\n    </tr>\n  </tbody>\n</table>\n<p>100 rows × 10 columns</p>\n</div>"
     },
     "execution_count": 29,
     "metadata": {},
     "output_type": "execute_result"
    }
   ],
   "source": [
    "tom_lm_samples"
   ],
   "metadata": {
    "collapsed": false,
    "ExecuteTime": {
     "end_time": "2024-04-03T17:10:57.087314Z",
     "start_time": "2024-04-03T17:10:57.054829Z"
    }
   },
   "id": "351f0de52ebf8d01",
   "execution_count": 29
  },
  {
   "cell_type": "code",
   "outputs": [
    {
     "data": {
      "text/plain": "                 execution_accuracy    auc        f1  execution_rate\nsetup                                                               \nexplicit                   0.933333  0.875  0.956522             1.0\nforehead                   1.000000  1.000  1.000000             1.0\nforehead_mirror            1.000000  1.000  1.000000             1.0\ninternal                   1.000000  1.000  1.000000             1.0\noverall                    0.990000  0.990  0.990099             1.0",
      "text/html": "<div>\n<style scoped>\n    .dataframe tbody tr th:only-of-type {\n        vertical-align: middle;\n    }\n\n    .dataframe tbody tr th {\n        vertical-align: top;\n    }\n\n    .dataframe thead th {\n        text-align: right;\n    }\n</style>\n<table border=\"1\" class=\"dataframe\">\n  <thead>\n    <tr style=\"text-align: right;\">\n      <th></th>\n      <th>execution_accuracy</th>\n      <th>auc</th>\n      <th>f1</th>\n      <th>execution_rate</th>\n    </tr>\n    <tr>\n      <th>setup</th>\n      <th></th>\n      <th></th>\n      <th></th>\n      <th></th>\n    </tr>\n  </thead>\n  <tbody>\n    <tr>\n      <th>explicit</th>\n      <td>0.933333</td>\n      <td>0.875</td>\n      <td>0.956522</td>\n      <td>1.0</td>\n    </tr>\n    <tr>\n      <th>forehead</th>\n      <td>1.000000</td>\n      <td>1.000</td>\n      <td>1.000000</td>\n      <td>1.0</td>\n    </tr>\n    <tr>\n      <th>forehead_mirror</th>\n      <td>1.000000</td>\n      <td>1.000</td>\n      <td>1.000000</td>\n      <td>1.0</td>\n    </tr>\n    <tr>\n      <th>internal</th>\n      <td>1.000000</td>\n      <td>1.000</td>\n      <td>1.000000</td>\n      <td>1.0</td>\n    </tr>\n    <tr>\n      <th>overall</th>\n      <td>0.990000</td>\n      <td>0.990</td>\n      <td>0.990099</td>\n      <td>1.0</td>\n    </tr>\n  </tbody>\n</table>\n</div>"
     },
     "execution_count": 30,
     "metadata": {},
     "output_type": "execute_result"
    }
   ],
   "source": [
    "execution_metrics(tom_lm_samples)"
   ],
   "metadata": {
    "collapsed": false,
    "ExecuteTime": {
     "end_time": "2024-04-03T17:10:57.143765Z",
     "start_time": "2024-04-03T17:10:57.089246Z"
    }
   },
   "id": "6547fb89cb3500cd",
   "execution_count": 30
  },
  {
   "cell_type": "code",
   "outputs": [
    {
     "data": {
      "text/plain": "<Figure size 1600x500 with 1 Axes>",
      "image/png": "[encoded data removed]"
     },
     "metadata": {},
     "output_type": "display_data"
    }
   ],
   "source": [
    "plot_metrics(tom_lm_samples)"
   ],
   "metadata": {
    "collapsed": false,
    "ExecuteTime": {
     "end_time": "2024-04-03T17:10:57.377312Z",
     "start_time": "2024-04-03T17:10:57.145576Z"
    }
   },
   "id": "183aab2c465ed383",
   "execution_count": 31
  },
  {
   "cell_type": "code",
   "outputs": [],
   "source": [],
   "metadata": {
    "collapsed": false,
    "ExecuteTime": {
     "end_time": "2024-04-03T17:10:57.390168Z",
     "start_time": "2024-04-03T17:10:57.382841Z"
    }
   },
   "id": "56fb82edc29f48e1",
   "execution_count": 31
  }
 ],
 "metadata": {
  "kernelspec": {
   "display_name": "Python 3",
   "language": "python",
   "name": "python3"
  },
  "language_info": {
   "codemirror_mode": {
    "name": "ipython",
    "version": 2
   },
   "file_extension": ".py",
   "mimetype": "text/x-python",
   "name": "python",
   "nbconvert_exporter": "python",
   "pygments_lexer": "ipython2",
   "version": "2.7.6"
  }
 },
 "nbformat": 4,
 "nbformat_minor": 5
}
