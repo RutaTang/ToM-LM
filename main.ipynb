{
 "cells": [
  {
   "cell_type": "code",
   "outputs": [],
   "source": [
    "from typing import Final\n",
    "\n",
    "from models.base_llm import BaseLLM\n",
    "from models.ollama_llm import OllamaLLM\n",
    "import seaborn as sns\n",
    "\n",
    "from datasets import load_dataset\n",
    "from sklearn.metrics import accuracy_score\n",
    "import pandas as pd\n",
    "import copy\n",
    "\n",
    "from utils import join_names, insert_sentence_after_period\n",
    "from utils.persistent import save_nl2sf, load_nl2sf, save_smcdel_sf, load_smcdel_sf, NameInfo\n",
    "from models.openai_llm import OpenAILLM\n",
    "from utils.prompt import get_prompt\n",
    "from executors.smcdel import SMCDEL\n",
    "import matplotlib.pyplot as plt"
   ],
   "metadata": {
    "collapsed": false,
    "ExecuteTime": {
     "end_time": "2024-03-13T08:31:07.952195Z",
     "start_time": "2024-03-13T08:31:07.927151Z"
    }
   },
   "id": "51edbe3111100f44",
   "execution_count": 345
  },
  {
   "cell_type": "markdown",
   "source": [
    "constants"
   ],
   "metadata": {
    "collapsed": false
   },
   "id": "e4e13d2114a866cb"
  },
  {
   "cell_type": "code",
   "outputs": [],
   "source": [
    "model_name: Final[str] = \"gpt-3.5-turbo\"  # should be openai's model or ollama's model\n",
    "random_state: Final[int] = 1\n",
    "sample_size: Final[int] = 20"
   ],
   "metadata": {
    "collapsed": false,
    "ExecuteTime": {
     "end_time": "2024-03-13T08:31:08.093984Z",
     "start_time": "2024-03-13T08:31:08.086508Z"
    }
   },
   "id": "142c9ac0b432dbc3",
   "execution_count": 346
  },
  {
   "cell_type": "markdown",
   "source": [
    "parameters"
   ],
   "metadata": {
    "collapsed": false
   },
   "id": "b8c8aabfd4f9e347"
  },
  {
   "cell_type": "code",
   "outputs": [],
   "source": [
    "name_info: Final[NameInfo] = {\n",
    "    \"model_name\": model_name,\n",
    "    \"random_state\": random_state,\n",
    "    \"sample_size\": sample_size\n",
    "}\n",
    "palette = lambda n: sns.color_palette('rocket', n)"
   ],
   "metadata": {
    "collapsed": false,
    "ExecuteTime": {
     "end_time": "2024-03-13T08:31:08.130746Z",
     "start_time": "2024-03-13T08:31:08.127822Z"
    }
   },
   "id": "1fcc132d2c5e0293",
   "execution_count": 347
  },
  {
   "cell_type": "markdown",
   "source": [
    "# Data"
   ],
   "metadata": {
    "collapsed": false
   },
   "id": "c22b95e054db34dd"
  },
  {
   "cell_type": "markdown",
   "source": [
    "## 1. Load Data"
   ],
   "metadata": {
    "collapsed": false
   },
   "id": "125ae8e384cd6004"
  },
  {
   "cell_type": "code",
   "outputs": [],
   "source": [
    "dataset = load_dataset(\"sileod/mindgames\", cache_dir='./data')\n",
    "train = pd.DataFrame(dataset['train'])\n",
    "val = pd.DataFrame(dataset['validation'])\n",
    "test = pd.DataFrame(dataset['test'])"
   ],
   "metadata": {
    "collapsed": false,
    "ExecuteTime": {
     "end_time": "2024-03-13T08:31:14.579771Z",
     "start_time": "2024-03-13T08:31:08.147163Z"
    }
   },
   "id": "6331f11c6576366",
   "execution_count": 348
  },
  {
   "cell_type": "markdown",
   "source": [
    "## 2. Data Exploration"
   ],
   "metadata": {
    "collapsed": false
   },
   "id": "66a62d4ec6245bfa"
  },
  {
   "cell_type": "markdown",
   "source": [
    "data showcase"
   ],
   "metadata": {
    "collapsed": false
   },
   "id": "dc798593a64d33d4"
  },
  {
   "cell_type": "code",
   "outputs": [
    {
     "data": {
      "text/plain": "                                             premise  \\\n0  There are four persons. Everyone is visible to...   \n\n                                      smcdel_problem  n_announcements  \\\n0  VARS 1,2,3,4 LAW Top OBS Agenta:1 Agentb:2 Age...                2   \n\n                                             pbcheck  \\\n0  VARS 0,1,2,3,4 LAW Top OBS Agenta:1 Agentb:2 A...   \n\n                                          hypothesis     setup  \\\n0  Nichole can now know whether Aubrey can know w...  internal   \n\n   hypothesis_depth  n_agents       label                               names  \\\n0                 1         4  entailment  [Aubrey, Jeremy, William, Nichole]   \n\n   index         s-l  deberta_pred  deberta_confidence  difficulty  \n0  61652  internal-1             1            0.998557    0.001443  ",
      "text/html": "<div>\n<style scoped>\n    .dataframe tbody tr th:only-of-type {\n        vertical-align: middle;\n    }\n\n    .dataframe tbody tr th {\n        vertical-align: top;\n    }\n\n    .dataframe thead th {\n        text-align: right;\n    }\n</style>\n<table border=\"1\" class=\"dataframe\">\n  <thead>\n    <tr style=\"text-align: right;\">\n      <th></th>\n      <th>premise</th>\n      <th>smcdel_problem</th>\n      <th>n_announcements</th>\n      <th>pbcheck</th>\n      <th>hypothesis</th>\n      <th>setup</th>\n      <th>hypothesis_depth</th>\n      <th>n_agents</th>\n      <th>label</th>\n      <th>names</th>\n      <th>index</th>\n      <th>s-l</th>\n      <th>deberta_pred</th>\n      <th>deberta_confidence</th>\n      <th>difficulty</th>\n    </tr>\n  </thead>\n  <tbody>\n    <tr>\n      <th>0</th>\n      <td>There are four persons. Everyone is visible to...</td>\n      <td>VARS 1,2,3,4 LAW Top OBS Agenta:1 Agentb:2 Age...</td>\n      <td>2</td>\n      <td>VARS 0,1,2,3,4 LAW Top OBS Agenta:1 Agentb:2 A...</td>\n      <td>Nichole can now know whether Aubrey can know w...</td>\n      <td>internal</td>\n      <td>1</td>\n      <td>4</td>\n      <td>entailment</td>\n      <td>[Aubrey, Jeremy, William, Nichole]</td>\n      <td>61652</td>\n      <td>internal-1</td>\n      <td>1</td>\n      <td>0.998557</td>\n      <td>0.001443</td>\n    </tr>\n  </tbody>\n</table>\n</div>"
     },
     "execution_count": 349,
     "metadata": {},
     "output_type": "execute_result"
    }
   ],
   "source": [
    "train.head(1)"
   ],
   "metadata": {
    "collapsed": false,
    "ExecuteTime": {
     "end_time": "2024-03-13T08:31:14.591646Z",
     "start_time": "2024-03-13T08:31:14.581165Z"
    }
   },
   "id": "dc28027e03f89f82",
   "execution_count": 349
  },
  {
   "cell_type": "markdown",
   "source": [
    "check splitted data has same columns"
   ],
   "metadata": {
    "collapsed": false
   },
   "id": "1a3029c84b298ec"
  },
  {
   "cell_type": "code",
   "outputs": [
    {
     "name": "stdout",
     "output_type": "stream",
     "text": [
      "Train, val, test should have same cols:  True\n"
     ]
    }
   ],
   "source": [
    "print(\"Train, val, test should have same cols: \", list(train.columns) == list(val.columns) == list(test.columns))"
   ],
   "metadata": {
    "collapsed": false,
    "ExecuteTime": {
     "end_time": "2024-03-13T08:31:14.594805Z",
     "start_time": "2024-03-13T08:31:14.592250Z"
    }
   },
   "id": "2f382b08434d8da7",
   "execution_count": 350
  },
  {
   "cell_type": "markdown",
   "source": [
    "list all columns"
   ],
   "metadata": {
    "collapsed": false
   },
   "id": "3c6111ce913397e0"
  },
  {
   "cell_type": "code",
   "outputs": [
    {
     "data": {
      "text/plain": "['premise',\n 'smcdel_problem',\n 'n_announcements',\n 'pbcheck',\n 'hypothesis',\n 'setup',\n 'hypothesis_depth',\n 'n_agents',\n 'label',\n 'names',\n 'index',\n 's-l',\n 'deberta_pred',\n 'deberta_confidence',\n 'difficulty']"
     },
     "execution_count": 351,
     "metadata": {},
     "output_type": "execute_result"
    }
   ],
   "source": [
    "list(train.columns)"
   ],
   "metadata": {
    "collapsed": false,
    "ExecuteTime": {
     "end_time": "2024-03-13T08:31:14.598798Z",
     "start_time": "2024-03-13T08:31:14.596495Z"
    }
   },
   "id": "58f0bb62c3f6c521",
   "execution_count": 351
  },
  {
   "cell_type": "markdown",
   "source": [
    "setup types/category"
   ],
   "metadata": {
    "collapsed": false
   },
   "id": "e91dff9abece35b3"
  },
  {
   "cell_type": "code",
   "outputs": [
    {
     "data": {
      "text/plain": "setup\ninternal           2829\nforehead           2800\nexplicit           2793\nforehead_mirror    2752\nName: count, dtype: int64"
     },
     "execution_count": 352,
     "metadata": {},
     "output_type": "execute_result"
    }
   ],
   "source": [
    "train.value_counts('setup')"
   ],
   "metadata": {
    "collapsed": false,
    "ExecuteTime": {
     "end_time": "2024-03-13T08:31:14.607200Z",
     "start_time": "2024-03-13T08:31:14.599504Z"
    }
   },
   "id": "fc1e16588a6325b2",
   "execution_count": 352
  },
  {
   "cell_type": "code",
   "outputs": [
    {
     "data": {
      "text/plain": "setup\ninternal           0.253177\nforehead           0.250582\nexplicit           0.249955\nforehead_mirror    0.246286\nName: proportion, dtype: float64"
     },
     "execution_count": 353,
     "metadata": {},
     "output_type": "execute_result"
    }
   ],
   "source": [
    "train.value_counts('setup', normalize=True)"
   ],
   "metadata": {
    "collapsed": false,
    "ExecuteTime": {
     "end_time": "2024-03-13T08:31:14.614106Z",
     "start_time": "2024-03-13T08:31:14.608176Z"
    }
   },
   "id": "25f26b4c6be9f168",
   "execution_count": 353
  },
  {
   "cell_type": "markdown",
   "source": [
    "## 3. Data Preprocessing"
   ],
   "metadata": {
    "collapsed": false
   },
   "id": "ddd5b4c5cd920b00"
  },
  {
   "cell_type": "code",
   "outputs": [],
   "source": [
    "def preprocess(data: pd.DataFrame) -> pd.DataFrame:\n",
    "    \"\"\"\n",
    "    Preprocess the data and only keep the necessary columns\n",
    "    :param data \n",
    "    :return: \n",
    "    \"\"\"\n",
    "\n",
    "    data = copy.deepcopy(data)\n",
    "\n",
    "    # Preprocess context and question\n",
    "    data['formatted_names'] = data['names'].apply(lambda x: join_names(x))\n",
    "    data['formatted_names'] = data['formatted_names'].apply(lambda x: f\"Their names are {x}.\")\n",
    "    data['context'] = data[['premise', 'formatted_names']].apply(\n",
    "        lambda x: insert_sentence_after_period(x['premise'], x['formatted_names']), axis=1)\n",
    "\n",
    "    # Preprocess smcdel\n",
    "    data['target_sf'] = data['smcdel_problem']\n",
    "\n",
    "    # label\n",
    "    data['target_label'] = data['label'].apply(lambda x: 1 if x == 'entailment' else 0)\n",
    "\n",
    "    # setup\n",
    "    data['setup'] = data['setup'].astype('category')\n",
    "\n",
    "    # Drop unnecessary columns\n",
    "    keep_columns = ['setup', 'context', 'hypothesis', 'target_sf', 'target_label', 'n_announcements']\n",
    "    data = data[keep_columns]\n",
    "\n",
    "    return data\n",
    "\n",
    "\n",
    "train = preprocess(train)\n",
    "val = preprocess(val)\n",
    "test = preprocess(test)"
   ],
   "metadata": {
    "collapsed": false,
    "ExecuteTime": {
     "end_time": "2024-03-13T08:31:14.726496Z",
     "start_time": "2024-03-13T08:31:14.614808Z"
    }
   },
   "id": "a5f95466a623ed13",
   "execution_count": 354
  },
  {
   "cell_type": "markdown",
   "source": [
    "preprocessed data showcase"
   ],
   "metadata": {
    "collapsed": false
   },
   "id": "a149b615bfdee92f"
  },
  {
   "cell_type": "code",
   "outputs": [
    {
     "data": {
      "text/plain": "             setup                                            context  \\\n0         internal  There are four persons. Their names are Aubrey...   \n1         internal  There are four persons. Their names are Maria,...   \n2         internal  There are two persons. Their names are Donna, ...   \n3  forehead_mirror  There are three persons. Their names are Leon,...   \n4         forehead  There are four persons. Their names are John, ...   \n\n                                          hypothesis  \\\n0  Nichole can now know whether Aubrey can know w...   \n1  Maria can now know that Ernestine can know whe...   \n2      Gabriel can now know that someone is thirsty.   \n3  Kevin can now know that Tracie can know that n...   \n4  Gregory can now know that Chasity can know tha...   \n\n                                           target_sf  target_label  \\\n0  VARS 1,2,3,4 LAW Top OBS Agenta:1 Agentb:2 Age...             1   \n1  VARS 1,2,3,4 LAW Top OBS Agenta:1 Agentb:2 Age...             0   \n2  VARS 1,2 LAW Top OBS Agenta:1 Agentb:2 VALID? ...             1   \n3  VARS 1,2,3 LAW Top OBS Agenta:1,2,3 Agentb:1,2...             0   \n4  VARS 1,2,3,4 LAW Top OBS Agenta:2,3,4 Agentb:1...             0   \n\n   n_announcements  \n0                2  \n1                2  \n2                2  \n3                1  \n4                1  ",
      "text/html": "<div>\n<style scoped>\n    .dataframe tbody tr th:only-of-type {\n        vertical-align: middle;\n    }\n\n    .dataframe tbody tr th {\n        vertical-align: top;\n    }\n\n    .dataframe thead th {\n        text-align: right;\n    }\n</style>\n<table border=\"1\" class=\"dataframe\">\n  <thead>\n    <tr style=\"text-align: right;\">\n      <th></th>\n      <th>setup</th>\n      <th>context</th>\n      <th>hypothesis</th>\n      <th>target_sf</th>\n      <th>target_label</th>\n      <th>n_announcements</th>\n    </tr>\n  </thead>\n  <tbody>\n    <tr>\n      <th>0</th>\n      <td>internal</td>\n      <td>There are four persons. Their names are Aubrey...</td>\n      <td>Nichole can now know whether Aubrey can know w...</td>\n      <td>VARS 1,2,3,4 LAW Top OBS Agenta:1 Agentb:2 Age...</td>\n      <td>1</td>\n      <td>2</td>\n    </tr>\n    <tr>\n      <th>1</th>\n      <td>internal</td>\n      <td>There are four persons. Their names are Maria,...</td>\n      <td>Maria can now know that Ernestine can know whe...</td>\n      <td>VARS 1,2,3,4 LAW Top OBS Agenta:1 Agentb:2 Age...</td>\n      <td>0</td>\n      <td>2</td>\n    </tr>\n    <tr>\n      <th>2</th>\n      <td>internal</td>\n      <td>There are two persons. Their names are Donna, ...</td>\n      <td>Gabriel can now know that someone is thirsty.</td>\n      <td>VARS 1,2 LAW Top OBS Agenta:1 Agentb:2 VALID? ...</td>\n      <td>1</td>\n      <td>2</td>\n    </tr>\n    <tr>\n      <th>3</th>\n      <td>forehead_mirror</td>\n      <td>There are three persons. Their names are Leon,...</td>\n      <td>Kevin can now know that Tracie can know that n...</td>\n      <td>VARS 1,2,3 LAW Top OBS Agenta:1,2,3 Agentb:1,2...</td>\n      <td>0</td>\n      <td>1</td>\n    </tr>\n    <tr>\n      <th>4</th>\n      <td>forehead</td>\n      <td>There are four persons. Their names are John, ...</td>\n      <td>Gregory can now know that Chasity can know tha...</td>\n      <td>VARS 1,2,3,4 LAW Top OBS Agenta:2,3,4 Agentb:1...</td>\n      <td>0</td>\n      <td>1</td>\n    </tr>\n  </tbody>\n</table>\n</div>"
     },
     "execution_count": 355,
     "metadata": {},
     "output_type": "execute_result"
    }
   ],
   "source": [
    "train.head(5)"
   ],
   "metadata": {
    "collapsed": false,
    "ExecuteTime": {
     "end_time": "2024-03-13T08:31:14.734941Z",
     "start_time": "2024-03-13T08:31:14.728979Z"
    }
   },
   "id": "9cb394481c0926a1",
   "execution_count": 355
  },
  {
   "cell_type": "markdown",
   "source": [
    "## 4. Prompt Example preparation "
   ],
   "metadata": {
    "collapsed": false
   },
   "id": "f7613dd8950c50ad"
  },
  {
   "cell_type": "code",
   "outputs": [],
   "source": [
    "internal_sample = train[train['setup'] == 'internal'].sample(1, random_state=random_state).iloc[0]\n",
    "forehead_sample = train[train['setup'] == 'forehead'].sample(1, random_state=random_state).iloc[0]\n",
    "explicit_sample = train[train['setup'] == 'explicit'].sample(1, random_state=random_state).iloc[0]\n",
    "forehead_mirror_sample = train[train['setup'] == 'forehead_mirror'].sample(1, random_state=random_state).iloc[0]\n",
    "\n",
    "\n",
    "def choose_example(setup: str) -> pd.Series:\n",
    "    \"\"\"\n",
    "    Choose an example from the train set based on the setup\n",
    "    :param setup: \n",
    "    :return: \n",
    "    \"\"\"\n",
    "    if setup == 'internal':\n",
    "        return internal_sample\n",
    "    elif setup == 'forehead':\n",
    "        return forehead_sample\n",
    "    elif setup == 'explicit':\n",
    "        return explicit_sample\n",
    "    elif setup == 'forehead_mirror':\n",
    "        return forehead_mirror_sample\n",
    "    else:\n",
    "        raise ValueError(f\"Invalid setup: {setup}\")\n"
   ],
   "metadata": {
    "collapsed": false,
    "ExecuteTime": {
     "end_time": "2024-03-13T08:31:14.750048Z",
     "start_time": "2024-03-13T08:31:14.735868Z"
    }
   },
   "id": "42c2a5e0252ca5a6",
   "execution_count": 356
  },
  {
   "cell_type": "markdown",
   "source": [
    "# ToM-LM Model"
   ],
   "metadata": {
    "collapsed": false
   },
   "id": "8b3712598c01c7ff"
  },
  {
   "cell_type": "markdown",
   "source": [
    "## 1. Model Initialization"
   ],
   "metadata": {
    "collapsed": false
   },
   "id": "80e3a022a390724e"
  },
  {
   "cell_type": "code",
   "outputs": [
    {
     "name": "stdout",
     "output_type": "stream",
     "text": [
      "<models.openai_llm.OpenAILLM object at 0x292aca5a0>\n"
     ]
    }
   ],
   "source": [
    "if model_name in {\"gpt-3.5-turbo\", \"gpt-4\"}:\n",
    "    model = OpenAILLM(model_name=model_name)\n",
    "elif model_name == \"gemma\":\n",
    "    model = OllamaLLM(model_name=model_name)\n",
    "else:\n",
    "    raise ValueError(f\"Invalid model name: {model_name}\")\n",
    "\n",
    "print(model)\n",
    "\n",
    "model: BaseLLM = model"
   ],
   "metadata": {
    "collapsed": false,
    "ExecuteTime": {
     "end_time": "2024-03-13T08:31:14.758504Z",
     "start_time": "2024-03-13T08:31:14.753205Z"
    }
   },
   "id": "c5d9c3ff3481052d",
   "execution_count": 357
  },
  {
   "cell_type": "markdown",
   "source": [
    "## 2. Test Samples Preparation"
   ],
   "metadata": {
    "collapsed": false
   },
   "id": "86a47da237452f58"
  },
  {
   "cell_type": "code",
   "outputs": [
    {
     "name": "stdout",
     "output_type": "stream",
     "text": [
      "Sample size for each setup:  2\n",
      "Total sample size:  16\n"
     ]
    },
    {
     "data": {
      "text/plain": "                setup                                            context  \\\n2270         explicit  There are four persons. Their names are Freder...   \n2541         explicit  There are two persons. Their names are Justin,...   \n2828         explicit  There are three persons. Their names are Guada...   \n888          explicit  There are two persons. Their names are Dirk, a...   \n1555         forehead  There are four persons. Their names are Margar...   \n2418         forehead  There are four persons. Their names are Angela...   \n2455         forehead  There are three persons. Their names are Debor...   \n1801         forehead  There are four persons. Their names are Tracy,...   \n409   forehead_mirror  There are four persons. Their names are Theres...   \n234   forehead_mirror  There are three persons. Their names are Victo...   \n911   forehead_mirror  There are two persons. Their names are Lissett...   \n675   forehead_mirror  There are three persons. Their names are Frank...   \n1333         internal  There are three persons. Their names are Henry...   \n1260         internal  There are two persons. Their names are Danny, ...   \n2409         internal  There are three persons. Their names are Tommi...   \n3521         internal  There are two persons. Their names are Michael...   \n\n                                             hypothesis  \\\n2270  David can now know whether or not everyone pic...   \n2541  Justin can now know that Bryan can know that J...   \n2828  Melinda can now know whether someone picked a ...   \n888   Dirk can now know that Vicki can know whether ...   \n1555  Juliet can now know that Virginia can know tha...   \n2418  Lucille can now know that Bessie's forehead is...   \n2455  Bret can now know that Juan can know whether o...   \n1801  James can now know whether David can know whet...   \n409      Ora can now know that Ann's forehead is muddy.   \n234   Victoria can now know that Andrew can know tha...   \n911   Lissette can now know whether Sara can know th...   \n675   Sandra can now know that Frank can know whethe...   \n1333          Rosie can now know that Henry is thirsty.   \n1260  Danny can now know that Harry can know that no...   \n2409  Minerva can now know whether Tommie can know w...   \n3521  Michael can now know that Robert can know whet...   \n\n                                              target_sf  target_label  \\\n2270  VARS 1,2,3,4 LAW Top OBS Agenta:3 Agentb:1 Age...             0   \n2541  VARS 1,2 LAW Top OBS Agenta:1 Agentb:1,2 VALID...             0   \n2828  VARS 1,2,3 LAW Top OBS Agenta:1,2 Agentb:3 Age...             1   \n888   VARS 1,2 LAW Top OBS Agenta:2 Agentb:1 VALID? ...             1   \n1555  VARS 1,2,3,4 LAW Top OBS Agenta:2,3,4 Agentb:1...             0   \n2418  VARS 1,2,3,4 LAW Top OBS Agenta:2,3,4 Agentb:1...             0   \n2455  VARS 1,2,3 LAW Top OBS Agenta:2,3 Agentb:1,3 A...             1   \n1801  VARS 1,2,3,4 LAW Top OBS Agenta:2,3,4 Agentb:1...             1   \n409   VARS 1,2,3,4 LAW Top OBS Agenta:1,2,3,4 Agentb...             0   \n234   VARS 1,2,3 LAW Top OBS Agenta:1,2,3 Agentb:1,2...             0   \n911   VARS 1,2 LAW Top OBS Agenta:1,2 Agentb:1,2 VAL...             1   \n675   VARS 1,2,3 LAW Top OBS Agenta:1,2,3 Agentb:1,2...             1   \n1333  VARS 1,2,3 LAW Top OBS Agenta:1 Agentb:2 Agent...             0   \n1260  VARS 1,2 LAW Top OBS Agenta:1 Agentb:2 VALID? ...             0   \n2409  VARS 1,2,3 LAW Top OBS Agenta:1 Agentb:2 Agent...             1   \n3521  VARS 1,2 LAW Top OBS Agenta:1 Agentb:2 VALID? ...             1   \n\n      n_announcements predicted_sf  predicted_label  \n2270                0                            -1  \n2541                1                            -1  \n2828                0                            -1  \n888                 1                            -1  \n1555                4                            -1  \n2418                1                            -1  \n2455                1                            -1  \n1801                2                            -1  \n409                 1                            -1  \n234                 1                            -1  \n911                 1                            -1  \n675                 1                            -1  \n1333                2                            -1  \n1260                4                            -1  \n2409                1                            -1  \n3521                1                            -1  ",
      "text/html": "<div>\n<style scoped>\n    .dataframe tbody tr th:only-of-type {\n        vertical-align: middle;\n    }\n\n    .dataframe tbody tr th {\n        vertical-align: top;\n    }\n\n    .dataframe thead th {\n        text-align: right;\n    }\n</style>\n<table border=\"1\" class=\"dataframe\">\n  <thead>\n    <tr style=\"text-align: right;\">\n      <th></th>\n      <th>setup</th>\n      <th>context</th>\n      <th>hypothesis</th>\n      <th>target_sf</th>\n      <th>target_label</th>\n      <th>n_announcements</th>\n      <th>predicted_sf</th>\n      <th>predicted_label</th>\n    </tr>\n  </thead>\n  <tbody>\n    <tr>\n      <th>2270</th>\n      <td>explicit</td>\n      <td>There are four persons. Their names are Freder...</td>\n      <td>David can now know whether or not everyone pic...</td>\n      <td>VARS 1,2,3,4 LAW Top OBS Agenta:3 Agentb:1 Age...</td>\n      <td>0</td>\n      <td>0</td>\n      <td></td>\n      <td>-1</td>\n    </tr>\n    <tr>\n      <th>2541</th>\n      <td>explicit</td>\n      <td>There are two persons. Their names are Justin,...</td>\n      <td>Justin can now know that Bryan can know that J...</td>\n      <td>VARS 1,2 LAW Top OBS Agenta:1 Agentb:1,2 VALID...</td>\n      <td>0</td>\n      <td>1</td>\n      <td></td>\n      <td>-1</td>\n    </tr>\n    <tr>\n      <th>2828</th>\n      <td>explicit</td>\n      <td>There are three persons. Their names are Guada...</td>\n      <td>Melinda can now know whether someone picked a ...</td>\n      <td>VARS 1,2,3 LAW Top OBS Agenta:1,2 Agentb:3 Age...</td>\n      <td>1</td>\n      <td>0</td>\n      <td></td>\n      <td>-1</td>\n    </tr>\n    <tr>\n      <th>888</th>\n      <td>explicit</td>\n      <td>There are two persons. Their names are Dirk, a...</td>\n      <td>Dirk can now know that Vicki can know whether ...</td>\n      <td>VARS 1,2 LAW Top OBS Agenta:2 Agentb:1 VALID? ...</td>\n      <td>1</td>\n      <td>1</td>\n      <td></td>\n      <td>-1</td>\n    </tr>\n    <tr>\n      <th>1555</th>\n      <td>forehead</td>\n      <td>There are four persons. Their names are Margar...</td>\n      <td>Juliet can now know that Virginia can know tha...</td>\n      <td>VARS 1,2,3,4 LAW Top OBS Agenta:2,3,4 Agentb:1...</td>\n      <td>0</td>\n      <td>4</td>\n      <td></td>\n      <td>-1</td>\n    </tr>\n    <tr>\n      <th>2418</th>\n      <td>forehead</td>\n      <td>There are four persons. Their names are Angela...</td>\n      <td>Lucille can now know that Bessie's forehead is...</td>\n      <td>VARS 1,2,3,4 LAW Top OBS Agenta:2,3,4 Agentb:1...</td>\n      <td>0</td>\n      <td>1</td>\n      <td></td>\n      <td>-1</td>\n    </tr>\n    <tr>\n      <th>2455</th>\n      <td>forehead</td>\n      <td>There are three persons. Their names are Debor...</td>\n      <td>Bret can now know that Juan can know whether o...</td>\n      <td>VARS 1,2,3 LAW Top OBS Agenta:2,3 Agentb:1,3 A...</td>\n      <td>1</td>\n      <td>1</td>\n      <td></td>\n      <td>-1</td>\n    </tr>\n    <tr>\n      <th>1801</th>\n      <td>forehead</td>\n      <td>There are four persons. Their names are Tracy,...</td>\n      <td>James can now know whether David can know whet...</td>\n      <td>VARS 1,2,3,4 LAW Top OBS Agenta:2,3,4 Agentb:1...</td>\n      <td>1</td>\n      <td>2</td>\n      <td></td>\n      <td>-1</td>\n    </tr>\n    <tr>\n      <th>409</th>\n      <td>forehead_mirror</td>\n      <td>There are four persons. Their names are Theres...</td>\n      <td>Ora can now know that Ann's forehead is muddy.</td>\n      <td>VARS 1,2,3,4 LAW Top OBS Agenta:1,2,3,4 Agentb...</td>\n      <td>0</td>\n      <td>1</td>\n      <td></td>\n      <td>-1</td>\n    </tr>\n    <tr>\n      <th>234</th>\n      <td>forehead_mirror</td>\n      <td>There are three persons. Their names are Victo...</td>\n      <td>Victoria can now know that Andrew can know tha...</td>\n      <td>VARS 1,2,3 LAW Top OBS Agenta:1,2,3 Agentb:1,2...</td>\n      <td>0</td>\n      <td>1</td>\n      <td></td>\n      <td>-1</td>\n    </tr>\n    <tr>\n      <th>911</th>\n      <td>forehead_mirror</td>\n      <td>There are two persons. Their names are Lissett...</td>\n      <td>Lissette can now know whether Sara can know th...</td>\n      <td>VARS 1,2 LAW Top OBS Agenta:1,2 Agentb:1,2 VAL...</td>\n      <td>1</td>\n      <td>1</td>\n      <td></td>\n      <td>-1</td>\n    </tr>\n    <tr>\n      <th>675</th>\n      <td>forehead_mirror</td>\n      <td>There are three persons. Their names are Frank...</td>\n      <td>Sandra can now know that Frank can know whethe...</td>\n      <td>VARS 1,2,3 LAW Top OBS Agenta:1,2,3 Agentb:1,2...</td>\n      <td>1</td>\n      <td>1</td>\n      <td></td>\n      <td>-1</td>\n    </tr>\n    <tr>\n      <th>1333</th>\n      <td>internal</td>\n      <td>There are three persons. Their names are Henry...</td>\n      <td>Rosie can now know that Henry is thirsty.</td>\n      <td>VARS 1,2,3 LAW Top OBS Agenta:1 Agentb:2 Agent...</td>\n      <td>0</td>\n      <td>2</td>\n      <td></td>\n      <td>-1</td>\n    </tr>\n    <tr>\n      <th>1260</th>\n      <td>internal</td>\n      <td>There are two persons. Their names are Danny, ...</td>\n      <td>Danny can now know that Harry can know that no...</td>\n      <td>VARS 1,2 LAW Top OBS Agenta:1 Agentb:2 VALID? ...</td>\n      <td>0</td>\n      <td>4</td>\n      <td></td>\n      <td>-1</td>\n    </tr>\n    <tr>\n      <th>2409</th>\n      <td>internal</td>\n      <td>There are three persons. Their names are Tommi...</td>\n      <td>Minerva can now know whether Tommie can know w...</td>\n      <td>VARS 1,2,3 LAW Top OBS Agenta:1 Agentb:2 Agent...</td>\n      <td>1</td>\n      <td>1</td>\n      <td></td>\n      <td>-1</td>\n    </tr>\n    <tr>\n      <th>3521</th>\n      <td>internal</td>\n      <td>There are two persons. Their names are Michael...</td>\n      <td>Michael can now know that Robert can know whet...</td>\n      <td>VARS 1,2 LAW Top OBS Agenta:1 Agentb:2 VALID? ...</td>\n      <td>1</td>\n      <td>1</td>\n      <td></td>\n      <td>-1</td>\n    </tr>\n  </tbody>\n</table>\n</div>"
     },
     "execution_count": 358,
     "metadata": {},
     "output_type": "execute_result"
    }
   ],
   "source": [
    "# sample same size of data group by 'setup' and 'target_label'\n",
    "sample_size_for_each_setup = sample_size // (len(train['setup'].unique()) * len(train['target_label'].unique()))\n",
    "samples = test.groupby([\n",
    "    'setup',\n",
    "    'target_label'\n",
    "], observed=True).sample(sample_size_for_each_setup, random_state=random_state,\n",
    "                         replace=False)\n",
    "\n",
    "# Add columns for the predicted sf, predicated_label\n",
    "samples['predicted_sf'] = \"\"\n",
    "samples['predicted_label'] = -1\n",
    "\n",
    "print(\"Sample size for each setup: \", sample_size_for_each_setup)\n",
    "print(\"Total sample size: \", len(samples))\n",
    "\n",
    "samples"
   ],
   "metadata": {
    "collapsed": false,
    "ExecuteTime": {
     "end_time": "2024-03-13T08:31:14.770315Z",
     "start_time": "2024-03-13T08:31:14.759141Z"
    }
   },
   "id": "32c6bee40939d2d3",
   "execution_count": 358
  },
  {
   "cell_type": "markdown",
   "source": [
    "## 3. SF Prediction/Generation"
   ],
   "metadata": {
    "collapsed": false
   },
   "id": "4a85d22e8caa2173"
  },
  {
   "cell_type": "code",
   "outputs": [
    {
     "name": "stdout",
     "output_type": "stream",
     "text": [
      "Processing sample 1/16\n",
      "Processing sample 2/16\n",
      "Processing sample 3/16\n",
      "Processing sample 4/16\n",
      "Processing sample 5/16\n",
      "Processing sample 6/16\n",
      "Processing sample 7/16\n",
      "Processing sample 8/16\n",
      "Processing sample 9/16\n",
      "Processing sample 10/16\n",
      "Processing sample 11/16\n",
      "Processing sample 12/16\n",
      "Processing sample 13/16\n",
      "Processing sample 14/16\n",
      "Processing sample 15/16\n",
      "Processing sample 16/16\n"
     ]
    }
   ],
   "source": [
    "def nl2sf_predict(row: pd.Series):\n",
    "    # choose example prompt based on 'setup'\n",
    "    setup = row['setup']\n",
    "    example = choose_example(setup)\n",
    "    # form prompt\n",
    "    context = row['context']\n",
    "    hypothesis = row['hypothesis']\n",
    "    prompt = get_prompt(\n",
    "        example_context=example['context'],\n",
    "        example_hypothesis=example['hypothesis'],\n",
    "        example_sf=example['target_sf'],\n",
    "        problem_context=context,\n",
    "        problem_hypothesis=hypothesis\n",
    "    )\n",
    "    # do completion\n",
    "    sf = model.complete(prompt)\n",
    "    # store predicted symbolic formulation to original df\n",
    "    row['predicted_sf'] = sf\n",
    "    return row\n",
    "\n",
    "\n",
    "for i, (index, row) in enumerate(samples.iterrows()):\n",
    "    print(f\"Processing sample {i + 1}/{len(samples)}\")\n",
    "    samples.loc[index] = nl2sf_predict(row)"
   ],
   "metadata": {
    "collapsed": false,
    "ExecuteTime": {
     "end_time": "2024-03-13T08:32:08.901491Z",
     "start_time": "2024-03-13T08:31:14.770950Z"
    }
   },
   "id": "c672d1263cee8507",
   "execution_count": 359
  },
  {
   "cell_type": "code",
   "outputs": [],
   "source": [
    "save_nl2sf(samples, name_info=name_info)"
   ],
   "metadata": {
    "collapsed": false,
    "ExecuteTime": {
     "end_time": "2024-03-13T08:32:08.917605Z",
     "start_time": "2024-03-13T08:32:08.904093Z"
    }
   },
   "id": "c5cb36d2b39c8fa6",
   "execution_count": 360
  },
  {
   "cell_type": "markdown",
   "source": [
    "## 4. SMCDEL Prediction"
   ],
   "metadata": {
    "collapsed": false
   },
   "id": "f6705013e1336e1f"
  },
  {
   "cell_type": "code",
   "outputs": [
    {
     "data": {
      "text/plain": "         setup                                            context  \\\n2270  explicit  There are four persons. Their names are Freder...   \n\n                                             hypothesis  \\\n2270  David can now know whether or not everyone pic...   \n\n                                              target_sf  target_label  \\\n2270  VARS 1,2,3,4 LAW Top OBS Agenta:3 Agentb:1 Age...             0   \n\n      n_announcements                                       predicted_sf  \\\n2270                0  VARS 1,2,3,4 LAW Top OBS Agenta:3 Agentb:1,2,4...   \n\n      predicted_label  \n2270               -1  ",
      "text/html": "<div>\n<style scoped>\n    .dataframe tbody tr th:only-of-type {\n        vertical-align: middle;\n    }\n\n    .dataframe tbody tr th {\n        vertical-align: top;\n    }\n\n    .dataframe thead th {\n        text-align: right;\n    }\n</style>\n<table border=\"1\" class=\"dataframe\">\n  <thead>\n    <tr style=\"text-align: right;\">\n      <th></th>\n      <th>setup</th>\n      <th>context</th>\n      <th>hypothesis</th>\n      <th>target_sf</th>\n      <th>target_label</th>\n      <th>n_announcements</th>\n      <th>predicted_sf</th>\n      <th>predicted_label</th>\n    </tr>\n  </thead>\n  <tbody>\n    <tr>\n      <th>2270</th>\n      <td>explicit</td>\n      <td>There are four persons. Their names are Freder...</td>\n      <td>David can now know whether or not everyone pic...</td>\n      <td>VARS 1,2,3,4 LAW Top OBS Agenta:3 Agentb:1 Age...</td>\n      <td>0</td>\n      <td>0</td>\n      <td>VARS 1,2,3,4 LAW Top OBS Agenta:3 Agentb:1,2,4...</td>\n      <td>-1</td>\n    </tr>\n  </tbody>\n</table>\n</div>"
     },
     "execution_count": 361,
     "metadata": {},
     "output_type": "execute_result"
    }
   ],
   "source": [
    "samples = load_nl2sf(name_info=name_info)\n",
    "samples.head(1)"
   ],
   "metadata": {
    "collapsed": false,
    "ExecuteTime": {
     "end_time": "2024-03-13T08:32:08.941885Z",
     "start_time": "2024-03-13T08:32:08.919041Z"
    }
   },
   "id": "db3d823e8969b87c",
   "execution_count": 361
  },
  {
   "cell_type": "code",
   "outputs": [],
   "source": [
    "def sf_predict(row: pd.Series):\n",
    "    \"\"\"\n",
    "    Feed predicted symbolic formulation to SMCDEL and get 1 for True, 0 for False, -1 for execution failure\n",
    "    :param row: \n",
    "    :return: \n",
    "    \"\"\"\n",
    "    sf = row['predicted_sf']\n",
    "    try:\n",
    "        result = SMCDEL(text=sf)\n",
    "        result = 1 if result else 0\n",
    "    except ValueError as e:\n",
    "        result = -1\n",
    "    row['predicted_label'] = result\n",
    "    return row\n",
    "\n",
    "\n",
    "samples = samples.apply(sf_predict, axis=1)\n",
    "save_smcdel_sf(samples, name_info=name_info)"
   ],
   "metadata": {
    "collapsed": false,
    "ExecuteTime": {
     "end_time": "2024-03-13T08:32:11.128021Z",
     "start_time": "2024-03-13T08:32:08.942820Z"
    }
   },
   "id": "b779b1261fb71496",
   "execution_count": 362
  },
  {
   "cell_type": "markdown",
   "source": [
    "# Evaluation"
   ],
   "metadata": {
    "collapsed": false
   },
   "id": "4d254b0234ee3e4"
  },
  {
   "cell_type": "code",
   "outputs": [
    {
     "data": {
      "text/plain": "                setup                                            context  \\\n2270         explicit  There are four persons. Their names are Freder...   \n2541         explicit  There are two persons. Their names are Justin,...   \n2828         explicit  There are three persons. Their names are Guada...   \n888          explicit  There are two persons. Their names are Dirk, a...   \n1555         forehead  There are four persons. Their names are Margar...   \n2418         forehead  There are four persons. Their names are Angela...   \n2455         forehead  There are three persons. Their names are Debor...   \n1801         forehead  There are four persons. Their names are Tracy,...   \n409   forehead_mirror  There are four persons. Their names are Theres...   \n234   forehead_mirror  There are three persons. Their names are Victo...   \n911   forehead_mirror  There are two persons. Their names are Lissett...   \n675   forehead_mirror  There are three persons. Their names are Frank...   \n1333         internal  There are three persons. Their names are Henry...   \n1260         internal  There are two persons. Their names are Danny, ...   \n2409         internal  There are three persons. Their names are Tommi...   \n3521         internal  There are two persons. Their names are Michael...   \n\n                                             hypothesis  \\\n2270  David can now know whether or not everyone pic...   \n2541  Justin can now know that Bryan can know that J...   \n2828  Melinda can now know whether someone picked a ...   \n888   Dirk can now know that Vicki can know whether ...   \n1555  Juliet can now know that Virginia can know tha...   \n2418  Lucille can now know that Bessie's forehead is...   \n2455  Bret can now know that Juan can know whether o...   \n1801  James can now know whether David can know whet...   \n409      Ora can now know that Ann's forehead is muddy.   \n234   Victoria can now know that Andrew can know tha...   \n911   Lissette can now know whether Sara can know th...   \n675   Sandra can now know that Frank can know whethe...   \n1333          Rosie can now know that Henry is thirsty.   \n1260  Danny can now know that Harry can know that no...   \n2409  Minerva can now know whether Tommie can know w...   \n3521  Michael can now know that Robert can know whet...   \n\n                                              target_sf  target_label  \\\n2270  VARS 1,2,3,4 LAW Top OBS Agenta:3 Agentb:1 Age...             0   \n2541  VARS 1,2 LAW Top OBS Agenta:1 Agentb:1,2 VALID...             0   \n2828  VARS 1,2,3 LAW Top OBS Agenta:1,2 Agentb:3 Age...             1   \n888   VARS 1,2 LAW Top OBS Agenta:2 Agentb:1 VALID? ...             1   \n1555  VARS 1,2,3,4 LAW Top OBS Agenta:2,3,4 Agentb:1...             0   \n2418  VARS 1,2,3,4 LAW Top OBS Agenta:2,3,4 Agentb:1...             0   \n2455  VARS 1,2,3 LAW Top OBS Agenta:2,3 Agentb:1,3 A...             1   \n1801  VARS 1,2,3,4 LAW Top OBS Agenta:2,3,4 Agentb:1...             1   \n409   VARS 1,2,3,4 LAW Top OBS Agenta:1,2,3,4 Agentb...             0   \n234   VARS 1,2,3 LAW Top OBS Agenta:1,2,3 Agentb:1,2...             0   \n911   VARS 1,2 LAW Top OBS Agenta:1,2 Agentb:1,2 VAL...             1   \n675   VARS 1,2,3 LAW Top OBS Agenta:1,2,3 Agentb:1,2...             1   \n1333  VARS 1,2,3 LAW Top OBS Agenta:1 Agentb:2 Agent...             0   \n1260  VARS 1,2 LAW Top OBS Agenta:1 Agentb:2 VALID? ...             0   \n2409  VARS 1,2,3 LAW Top OBS Agenta:1 Agentb:2 Agent...             1   \n3521  VARS 1,2 LAW Top OBS Agenta:1 Agentb:2 VALID? ...             1   \n\n      n_announcements                                       predicted_sf  \\\n2270                0  VARS 1,2,3,4 LAW Top OBS Agenta:3 Agentb:1,2,4...   \n2541                1  VARS 1,2 LAW Top OBS Agenta:1,2 Agentb:2 VALID...   \n2828                0  VARS 1,2,3 LAW Top OBS Agentg:1,2 Agentm:3 Age...   \n888                 1  VARS 1,2 LAW Top OBS Agenta:2 Agentb:1,2 VALID...   \n1555                4  VARS 1,2,3,4 LAW Top OBS Agenta:2,3,4 Agentb:1...   \n2418                1  VARS 1,2,3,4 LAW Top OBS Agenta:2,3,4 Agentb:1...   \n2455                1  VARS 1,2,3 LAW Top OBS Agentb:1,3 Agentc:2,3 A...   \n1801                2  VARS 1,2,3,4 LAW Top OBS Agenta:2,3,4 Agentb:1...   \n409                 1  VARS 1,2,3,4 LAW Top OBS Agentt:1,2,3,4 Agenta...   \n234                 1  VARS 1,2,3 LAW Top OBS Agentv:1,2,3 Agentb:1,2...   \n911                 1  VARS 1,2 LAW Top OBS Agenta:1,2 Agentb:1,2 VAL...   \n675                 1  VARS 1,2,3 LAW Top OBS Agenta:1,2,3 Agentb:1,2...   \n1333                2  VARS 1,2,3 LAW Top OBS Agenth:1 Agentr:2 Agenh...   \n1260                4  VARS 1,2 LAW Top OBS Agentd:1 Agenh:2 VALID? [...   \n2409                1  VARS 1,2,3 LAW Top OBS Agent1:1 Agent2:2 Agent...   \n3521                1  VARS 1,2 LAW Top OBS Agenta:1 Agentb:2 VALID? ...   \n\n      predicted_label  \n2270                0  \n2541                1  \n2828                1  \n888                 1  \n1555                1  \n2418                0  \n2455                1  \n1801                1  \n409                -1  \n234                -1  \n911                 1  \n675                 1  \n1333                0  \n1260               -1  \n2409                1  \n3521                1  ",
      "text/html": "<div>\n<style scoped>\n    .dataframe tbody tr th:only-of-type {\n        vertical-align: middle;\n    }\n\n    .dataframe tbody tr th {\n        vertical-align: top;\n    }\n\n    .dataframe thead th {\n        text-align: right;\n    }\n</style>\n<table border=\"1\" class=\"dataframe\">\n  <thead>\n    <tr style=\"text-align: right;\">\n      <th></th>\n      <th>setup</th>\n      <th>context</th>\n      <th>hypothesis</th>\n      <th>target_sf</th>\n      <th>target_label</th>\n      <th>n_announcements</th>\n      <th>predicted_sf</th>\n      <th>predicted_label</th>\n    </tr>\n  </thead>\n  <tbody>\n    <tr>\n      <th>2270</th>\n      <td>explicit</td>\n      <td>There are four persons. Their names are Freder...</td>\n      <td>David can now know whether or not everyone pic...</td>\n      <td>VARS 1,2,3,4 LAW Top OBS Agenta:3 Agentb:1 Age...</td>\n      <td>0</td>\n      <td>0</td>\n      <td>VARS 1,2,3,4 LAW Top OBS Agenta:3 Agentb:1,2,4...</td>\n      <td>0</td>\n    </tr>\n    <tr>\n      <th>2541</th>\n      <td>explicit</td>\n      <td>There are two persons. Their names are Justin,...</td>\n      <td>Justin can now know that Bryan can know that J...</td>\n      <td>VARS 1,2 LAW Top OBS Agenta:1 Agentb:1,2 VALID...</td>\n      <td>0</td>\n      <td>1</td>\n      <td>VARS 1,2 LAW Top OBS Agenta:1,2 Agentb:2 VALID...</td>\n      <td>1</td>\n    </tr>\n    <tr>\n      <th>2828</th>\n      <td>explicit</td>\n      <td>There are three persons. Their names are Guada...</td>\n      <td>Melinda can now know whether someone picked a ...</td>\n      <td>VARS 1,2,3 LAW Top OBS Agenta:1,2 Agentb:3 Age...</td>\n      <td>1</td>\n      <td>0</td>\n      <td>VARS 1,2,3 LAW Top OBS Agentg:1,2 Agentm:3 Age...</td>\n      <td>1</td>\n    </tr>\n    <tr>\n      <th>888</th>\n      <td>explicit</td>\n      <td>There are two persons. Their names are Dirk, a...</td>\n      <td>Dirk can now know that Vicki can know whether ...</td>\n      <td>VARS 1,2 LAW Top OBS Agenta:2 Agentb:1 VALID? ...</td>\n      <td>1</td>\n      <td>1</td>\n      <td>VARS 1,2 LAW Top OBS Agenta:2 Agentb:1,2 VALID...</td>\n      <td>1</td>\n    </tr>\n    <tr>\n      <th>1555</th>\n      <td>forehead</td>\n      <td>There are four persons. Their names are Margar...</td>\n      <td>Juliet can now know that Virginia can know tha...</td>\n      <td>VARS 1,2,3,4 LAW Top OBS Agenta:2,3,4 Agentb:1...</td>\n      <td>0</td>\n      <td>4</td>\n      <td>VARS 1,2,3,4 LAW Top OBS Agenta:2,3,4 Agentb:1...</td>\n      <td>1</td>\n    </tr>\n    <tr>\n      <th>2418</th>\n      <td>forehead</td>\n      <td>There are four persons. Their names are Angela...</td>\n      <td>Lucille can now know that Bessie's forehead is...</td>\n      <td>VARS 1,2,3,4 LAW Top OBS Agenta:2,3,4 Agentb:1...</td>\n      <td>0</td>\n      <td>1</td>\n      <td>VARS 1,2,3,4 LAW Top OBS Agenta:2,3,4 Agentb:1...</td>\n      <td>0</td>\n    </tr>\n    <tr>\n      <th>2455</th>\n      <td>forehead</td>\n      <td>There are three persons. Their names are Debor...</td>\n      <td>Bret can now know that Juan can know whether o...</td>\n      <td>VARS 1,2,3 LAW Top OBS Agenta:2,3 Agentb:1,3 A...</td>\n      <td>1</td>\n      <td>1</td>\n      <td>VARS 1,2,3 LAW Top OBS Agentb:1,3 Agentc:2,3 A...</td>\n      <td>1</td>\n    </tr>\n    <tr>\n      <th>1801</th>\n      <td>forehead</td>\n      <td>There are four persons. Their names are Tracy,...</td>\n      <td>James can now know whether David can know whet...</td>\n      <td>VARS 1,2,3,4 LAW Top OBS Agenta:2,3,4 Agentb:1...</td>\n      <td>1</td>\n      <td>2</td>\n      <td>VARS 1,2,3,4 LAW Top OBS Agenta:2,3,4 Agentb:1...</td>\n      <td>1</td>\n    </tr>\n    <tr>\n      <th>409</th>\n      <td>forehead_mirror</td>\n      <td>There are four persons. Their names are Theres...</td>\n      <td>Ora can now know that Ann's forehead is muddy.</td>\n      <td>VARS 1,2,3,4 LAW Top OBS Agenta:1,2,3,4 Agentb...</td>\n      <td>0</td>\n      <td>1</td>\n      <td>VARS 1,2,3,4 LAW Top OBS Agentt:1,2,3,4 Agenta...</td>\n      <td>-1</td>\n    </tr>\n    <tr>\n      <th>234</th>\n      <td>forehead_mirror</td>\n      <td>There are three persons. Their names are Victo...</td>\n      <td>Victoria can now know that Andrew can know tha...</td>\n      <td>VARS 1,2,3 LAW Top OBS Agenta:1,2,3 Agentb:1,2...</td>\n      <td>0</td>\n      <td>1</td>\n      <td>VARS 1,2,3 LAW Top OBS Agentv:1,2,3 Agentb:1,2...</td>\n      <td>-1</td>\n    </tr>\n    <tr>\n      <th>911</th>\n      <td>forehead_mirror</td>\n      <td>There are two persons. Their names are Lissett...</td>\n      <td>Lissette can now know whether Sara can know th...</td>\n      <td>VARS 1,2 LAW Top OBS Agenta:1,2 Agentb:1,2 VAL...</td>\n      <td>1</td>\n      <td>1</td>\n      <td>VARS 1,2 LAW Top OBS Agenta:1,2 Agentb:1,2 VAL...</td>\n      <td>1</td>\n    </tr>\n    <tr>\n      <th>675</th>\n      <td>forehead_mirror</td>\n      <td>There are three persons. Their names are Frank...</td>\n      <td>Sandra can now know that Frank can know whethe...</td>\n      <td>VARS 1,2,3 LAW Top OBS Agenta:1,2,3 Agentb:1,2...</td>\n      <td>1</td>\n      <td>1</td>\n      <td>VARS 1,2,3 LAW Top OBS Agenta:1,2,3 Agentb:1,2...</td>\n      <td>1</td>\n    </tr>\n    <tr>\n      <th>1333</th>\n      <td>internal</td>\n      <td>There are three persons. Their names are Henry...</td>\n      <td>Rosie can now know that Henry is thirsty.</td>\n      <td>VARS 1,2,3 LAW Top OBS Agenta:1 Agentb:2 Agent...</td>\n      <td>0</td>\n      <td>2</td>\n      <td>VARS 1,2,3 LAW Top OBS Agenth:1 Agentr:2 Agenh...</td>\n      <td>0</td>\n    </tr>\n    <tr>\n      <th>1260</th>\n      <td>internal</td>\n      <td>There are two persons. Their names are Danny, ...</td>\n      <td>Danny can now know that Harry can know that no...</td>\n      <td>VARS 1,2 LAW Top OBS Agenta:1 Agentb:2 VALID? ...</td>\n      <td>0</td>\n      <td>4</td>\n      <td>VARS 1,2 LAW Top OBS Agentd:1 Agenh:2 VALID? [...</td>\n      <td>-1</td>\n    </tr>\n    <tr>\n      <th>2409</th>\n      <td>internal</td>\n      <td>There are three persons. Their names are Tommi...</td>\n      <td>Minerva can now know whether Tommie can know w...</td>\n      <td>VARS 1,2,3 LAW Top OBS Agenta:1 Agentb:2 Agent...</td>\n      <td>1</td>\n      <td>1</td>\n      <td>VARS 1,2,3 LAW Top OBS Agent1:1 Agent2:2 Agent...</td>\n      <td>1</td>\n    </tr>\n    <tr>\n      <th>3521</th>\n      <td>internal</td>\n      <td>There are two persons. Their names are Michael...</td>\n      <td>Michael can now know that Robert can know whet...</td>\n      <td>VARS 1,2 LAW Top OBS Agenta:1 Agentb:2 VALID? ...</td>\n      <td>1</td>\n      <td>1</td>\n      <td>VARS 1,2 LAW Top OBS Agenta:1 Agentb:2 VALID? ...</td>\n      <td>1</td>\n    </tr>\n  </tbody>\n</table>\n</div>"
     },
     "execution_count": 363,
     "metadata": {},
     "output_type": "execute_result"
    }
   ],
   "source": [
    "samples = load_smcdel_sf(name_info=name_info)\n",
    "samples"
   ],
   "metadata": {
    "collapsed": false,
    "ExecuteTime": {
     "end_time": "2024-03-13T08:32:11.139450Z",
     "start_time": "2024-03-13T08:32:11.129677Z"
    }
   },
   "id": "2e92a78abcca4245",
   "execution_count": 363
  },
  {
   "cell_type": "code",
   "outputs": [
    {
     "data": {
      "text/plain": "predicted_label\n 1    10\n 0     3\n-1     3\nName: count, dtype: int64"
     },
     "execution_count": 364,
     "metadata": {},
     "output_type": "execute_result"
    }
   ],
   "source": [
    "samples['predicted_label'].value_counts().sort_index(ascending=False)"
   ],
   "metadata": {
    "collapsed": false,
    "ExecuteTime": {
     "end_time": "2024-03-13T08:32:11.146347Z",
     "start_time": "2024-03-13T08:32:11.140403Z"
    }
   },
   "id": "6aaac3233caad562",
   "execution_count": 364
  },
  {
   "cell_type": "code",
   "outputs": [
    {
     "data": {
      "text/plain": "predicted_label\n 1     62.5%\n 0    18.75%\n-1    18.75%\nName: proportion, dtype: object"
     },
     "execution_count": 365,
     "metadata": {},
     "output_type": "execute_result"
    }
   ],
   "source": [
    "samples['predicted_label'].value_counts(normalize=True).sort_index(ascending=False).mul(100).round(2).astype(\n",
    "    'str') + '%'"
   ],
   "metadata": {
    "collapsed": false,
    "ExecuteTime": {
     "end_time": "2024-03-13T08:32:11.158261Z",
     "start_time": "2024-03-13T08:32:11.147393Z"
    }
   },
   "id": "b8d50bb621ab2b80",
   "execution_count": 365
  },
  {
   "cell_type": "markdown",
   "source": [
    "## 1. Execution Metrics "
   ],
   "metadata": {
    "collapsed": false
   },
   "id": "f48b1710c28b39aa"
  },
  {
   "cell_type": "code",
   "outputs": [],
   "source": [
    "def execution_metrics(df: pd.DataFrame) -> pd.DataFrame:\n",
    "    \"\"\"\n",
    "    Calculate the metrics:\n",
    "    1. execution accuracy: predicted labels match truth labels\n",
    "    2. execution rate: whether the predicted symbolic formulation can be executed or not\n",
    "    \"\"\"\n",
    "\n",
    "    # accuracy_rate\n",
    "    accuracy = df.groupby('setup').apply(\n",
    "        lambda x: accuracy_score(x['target_label'], x['predicted_label']),\n",
    "        include_groups=False,\n",
    "    )\n",
    "    accuracy['overall'] = accuracy_score(df['target_label'], df['predicted_label'])\n",
    "\n",
    "    # execution_rate\n",
    "    er = df.groupby('setup').apply(\n",
    "        lambda x: len(x[x['predicted_label'] != -1]) / len(x),\n",
    "        include_groups=False\n",
    "    )\n",
    "    er['overall'] = len(df[df['predicted_label'] != -1]) / len(df)\n",
    "    m = {\n",
    "        'execution_accuracy': accuracy,\n",
    "        'execution_rate': er\n",
    "    }\n",
    "    mdf = pd.DataFrame(m)\n",
    "    mdf.fillna(0, inplace=True)\n",
    "    return mdf"
   ],
   "metadata": {
    "collapsed": false,
    "ExecuteTime": {
     "end_time": "2024-03-13T08:32:11.165556Z",
     "start_time": "2024-03-13T08:32:11.159070Z"
    }
   },
   "id": "912f4a2111c05b23",
   "execution_count": 366
  },
  {
   "cell_type": "code",
   "outputs": [
    {
     "data": {
      "text/plain": "                 execution_accuracy  execution_rate\nsetup                                              \nexplicit                     0.7500          1.0000\nforehead                     0.7500          1.0000\nforehead_mirror              0.5000          0.5000\ninternal                     0.7500          0.7500\noverall                      0.6875          0.8125",
      "text/html": "<div>\n<style scoped>\n    .dataframe tbody tr th:only-of-type {\n        vertical-align: middle;\n    }\n\n    .dataframe tbody tr th {\n        vertical-align: top;\n    }\n\n    .dataframe thead th {\n        text-align: right;\n    }\n</style>\n<table border=\"1\" class=\"dataframe\">\n  <thead>\n    <tr style=\"text-align: right;\">\n      <th></th>\n      <th>execution_accuracy</th>\n      <th>execution_rate</th>\n    </tr>\n    <tr>\n      <th>setup</th>\n      <th></th>\n      <th></th>\n    </tr>\n  </thead>\n  <tbody>\n    <tr>\n      <th>explicit</th>\n      <td>0.7500</td>\n      <td>1.0000</td>\n    </tr>\n    <tr>\n      <th>forehead</th>\n      <td>0.7500</td>\n      <td>1.0000</td>\n    </tr>\n    <tr>\n      <th>forehead_mirror</th>\n      <td>0.5000</td>\n      <td>0.5000</td>\n    </tr>\n    <tr>\n      <th>internal</th>\n      <td>0.7500</td>\n      <td>0.7500</td>\n    </tr>\n    <tr>\n      <th>overall</th>\n      <td>0.6875</td>\n      <td>0.8125</td>\n    </tr>\n  </tbody>\n</table>\n</div>"
     },
     "execution_count": 367,
     "metadata": {},
     "output_type": "execute_result"
    }
   ],
   "source": [
    "execution_metrics(samples)"
   ],
   "metadata": {
    "collapsed": false,
    "ExecuteTime": {
     "end_time": "2024-03-13T08:32:11.192418Z",
     "start_time": "2024-03-13T08:32:11.166612Z"
    }
   },
   "id": "ee23b68bf27fa52e",
   "execution_count": 367
  },
  {
   "cell_type": "code",
   "outputs": [
    {
     "data": {
      "text/plain": "<Figure size 1200x500 with 1 Axes>",
      "image/png": "[encoded data removed]"
     },
     "metadata": {},
     "output_type": "display_data"
    }
   ],
   "source": [
    "def plot_execution_acc_and_rate(df: pd.DataFrame):\n",
    "    df = execution_metrics(df)\n",
    "    fig, ax = plt.subplots(figsize=(12, 5))\n",
    "    bars = df.plot(use_index=True, y=list(df.columns), kind='bar', ax=ax, color=palette(len(df.columns)))\n",
    "    ax.set_ylim(0, 1.2)\n",
    "    plt.xticks(rotation=0)\n",
    "    plt.title(\"Execution Accuracy and Rate\")\n",
    "    plt.xlabel(\"Setup\")\n",
    "\n",
    "    for bar in bars.patches:\n",
    "        bars.annotate(format(bar.get_height(), '.2f'),\n",
    "                      (bar.get_x() + bar.get_width() / 2,\n",
    "                       bar.get_height()), ha='center', va='center',\n",
    "                      size=10, xytext=(0, 8),\n",
    "                      textcoords='offset points')\n",
    "    plt.show()\n",
    "\n",
    "\n",
    "plot_execution_acc_and_rate(samples)"
   ],
   "metadata": {
    "collapsed": false,
    "ExecuteTime": {
     "end_time": "2024-03-13T08:32:11.685586Z",
     "start_time": "2024-03-13T08:32:11.193144Z"
    }
   },
   "id": "183aab2c465ed383",
   "execution_count": 368
  },
  {
   "cell_type": "markdown",
   "source": [
    "## 2. Results Distribution"
   ],
   "metadata": {
    "collapsed": false
   },
   "id": "e7e334c08e32e5af"
  },
  {
   "cell_type": "code",
   "outputs": [
    {
     "data": {
      "text/plain": "setup            predicted_label\noverall           1                 0.6250\n                  0                 0.1875\n                 -1                 0.1875\ninternal          1                 0.5000\n                  0                 0.2500\n                 -1                 0.2500\nforehead_mirror   1                 0.5000\n                  0                 0.0000\n                 -1                 0.5000\nforehead          1                 0.7500\n                  0                 0.2500\n                 -1                 0.0000\nexplicit          1                 0.7500\n                  0                 0.2500\n                 -1                 0.0000\nName: percentage, dtype: float64"
     },
     "execution_count": 372,
     "metadata": {},
     "output_type": "execute_result"
    }
   ],
   "source": [
    "def results_distribution(df: pd.DataFrame) -> pd.DataFrame:\n",
    "    \"\"\"\n",
    "    Calculate the results distribution\n",
    "    :param df: \n",
    "    :return: \n",
    "    \"\"\"\n",
    "\n",
    "    distribution = df.groupby('setup').apply(\n",
    "        lambda x: x['predicted_label'].value_counts(normalize=True).reindex([1, 0, -1], fill_value=0),\n",
    "        include_groups=False\n",
    "    ).stack()\n",
    "\n",
    "    overall = df['predicted_label'].value_counts(normalize=True).reindex([1, 0, -1], fill_value=0)\n",
    "\n",
    "    distribution.loc[('overall', 1)] = overall.loc[1]\n",
    "    distribution.loc[('overall', 0)] = overall.loc[0]\n",
    "    distribution.loc[('overall', -1)] = overall.loc[-1]\n",
    "\n",
    "    \n",
    "    distribution.rename('percentage', inplace=True)\n",
    "    distribution.sort_index(inplace=True, ascending=False)\n",
    "    distribution.fillna(0, inplace=True)\n",
    "    return distribution\n",
    "\n",
    "\n",
    "results_distribution(samples)"
   ],
   "metadata": {
    "collapsed": false,
    "ExecuteTime": {
     "end_time": "2024-03-13T08:34:17.040728Z",
     "start_time": "2024-03-13T08:34:16.971690Z"
    }
   },
   "id": "b457224373f6b77f",
   "execution_count": 372
  },
  {
   "cell_type": "code",
   "outputs": [
    {
     "data": {
      "text/plain": "<Figure size 1200x500 with 1 Axes>",
      "image/png": "[encoded data removed]"
     },
     "metadata": {},
     "output_type": "display_data"
    }
   ],
   "source": [
    "def plot_results_distribution(df: pd.DataFrame):\n",
    "    df = results_distribution(df)\n",
    "    fig, ax = plt.subplots(figsize=(12, 5))\n",
    "    bars = df.unstack().sort_index(axis=1, ascending=False).plot(kind='bar', ax=ax, color=palette(3))\n",
    "    ax.set_ylim(0, 1.2)\n",
    "    plt.xticks(rotation=0)\n",
    "    plt.xlabel(\"Setup\")\n",
    "    plt.ylabel(\"Percentage\")\n",
    "    plt.title(\"Results Distribution\")\n",
    "\n",
    "    for container in bars.containers:\n",
    "        ax.bar_label(container, label_type='edge', fontsize=10, padding=3, fmt='%.2f')\n",
    "\n",
    "    plt.show()\n",
    "\n",
    "\n",
    "plot_results_distribution(samples)"
   ],
   "metadata": {
    "collapsed": false,
    "ExecuteTime": {
     "end_time": "2024-03-13T08:34:22.877625Z",
     "start_time": "2024-03-13T08:34:22.720110Z"
    }
   },
   "id": "26e813c21630107d",
   "execution_count": 373
  },
  {
   "cell_type": "code",
   "outputs": [],
   "source": [],
   "metadata": {
    "collapsed": false,
    "ExecuteTime": {
     "end_time": "2024-03-13T08:32:12.183531Z",
     "start_time": "2024-03-13T08:32:12.182123Z"
    }
   },
   "id": "d9e05a7d47cfeecc",
   "execution_count": 370
  }
 ],
 "metadata": {
  "kernelspec": {
   "display_name": "Python 3",
   "language": "python",
   "name": "python3"
  },
  "language_info": {
   "codemirror_mode": {
    "name": "ipython",
    "version": 2
   },
   "file_extension": ".py",
   "mimetype": "text/x-python",
   "name": "python",
   "nbconvert_exporter": "python",
   "pygments_lexer": "ipython2",
   "version": "2.7.6"
  }
 },
 "nbformat": 4,
 "nbformat_minor": 5
}
