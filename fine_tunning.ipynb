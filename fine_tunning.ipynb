{
 "cells": [
  {
   "cell_type": "code",
   "outputs": [
    {
     "name": "stdout",
     "output_type": "stream",
     "text": [
      "The autoreload extension is already loaded. To reload it, use:\n",
      "  %reload_ext autoreload\n"
     ]
    }
   ],
   "source": [
    "import os\n",
    "\n",
    "import dotenv\n",
    "import openai\n",
    "import pandas as pd\n",
    "import numpy as np\n",
    "from datasets import load_dataset\n",
    "from utils.prompt import get_smcdel_prompt\n",
    "from utils.preprocess import preprocess\n",
    "from utils.persistent import save_fine_tuning_data\n",
    "import warnings\n",
    "\n",
    "warnings.simplefilter(action='ignore', category=DeprecationWarning)\n",
    "\n",
    "%load_ext autoreload\n",
    "%autoreload 2"
   ],
   "metadata": {
    "collapsed": false,
    "ExecuteTime": {
     "end_time": "2024-04-03T16:07:53.840509Z",
     "start_time": "2024-04-03T16:07:53.775282Z"
    }
   },
   "id": "a65cbedc194bfb11",
   "execution_count": 105
  },
  {
   "cell_type": "code",
   "outputs": [],
   "source": [
    "np.random.seed(1)"
   ],
   "metadata": {
    "collapsed": false,
    "ExecuteTime": {
     "end_time": "2024-04-03T16:07:53.937872Z",
     "start_time": "2024-04-03T16:07:53.913202Z"
    }
   },
   "id": "87fa7a8932680e03",
   "execution_count": 106
  },
  {
   "cell_type": "code",
   "outputs": [],
   "source": [
    "dotenv.load_dotenv(dotenv.find_dotenv())\n",
    "client = openai.Client(api_key=os.environ[\"OPENAI_KEY\"])"
   ],
   "metadata": {
    "collapsed": false,
    "ExecuteTime": {
     "end_time": "2024-04-03T16:07:54.440659Z",
     "start_time": "2024-04-03T16:07:54.324652Z"
    }
   },
   "id": "d4bd06126babc629",
   "execution_count": 107
  },
  {
   "cell_type": "markdown",
   "source": [
    "# Data"
   ],
   "metadata": {
    "collapsed": false
   },
   "id": "d7aea7ed0401b9db"
  },
  {
   "cell_type": "markdown",
   "source": [
    "## 1. Load Data"
   ],
   "metadata": {
    "collapsed": false
   },
   "id": "d87b6e5325c8f794"
  },
  {
   "cell_type": "code",
   "outputs": [
    {
     "name": "stdout",
     "output_type": "stream",
     "text": [
      "Number of data examples: 10774\n",
      "Number of examples: 400\n"
     ]
    },
    {
     "data": {
      "text/plain": "                                               premise  \\\n400  There are three persons. Everyone is visible t...   \n401  There are three persons. Everyone is visible t...   \n402  There are four persons. Everyone is visible to...   \n403  There are four persons. Everyone is visible to...   \n404  There are four persons. Everyone is visible to...   \n\n                                        smcdel_problem  n_announcements  \\\n400  VARS 1,2,3 LAW Top OBS Agenta:2,3 Agentb:1,3 A...                2   \n401  VARS 1,2,3 LAW Top OBS Agenta:2,3 Agentb:1,3 A...                2   \n402  VARS 1,2,3,4 LAW Top OBS Agenta:1 Agentb:2 Age...                2   \n403  VARS 1,2,3,4 LAW Top OBS Agenta:3 Agentb:4 Age...                0   \n404  VARS 1,2,3,4 LAW Top OBS Agenta:1,2,3,4 Agentb...                1   \n\n                                               pbcheck  \\\n400  VARS 0,1,2,3 LAW Top OBS Agenta:2,3 Agentb:1,3...   \n401  VARS 0,1,2,3 LAW Top OBS Agenta:2,3 Agentb:1,3...   \n402  VARS 0,1,2,3,4 LAW Top OBS Agenta:1 Agentb:2 A...   \n403  VARS 0,1,2,3,4 LAW Top OBS Agenta:3 Agentb:4 A...   \n404  VARS 0,1,2,3,4 LAW Top OBS Agenta:1,2,3,4 Agen...   \n\n                                            hypothesis            setup  \\\n400  Nancy can now know whether or not nobody's for...         forehead   \n401  Carrie can now know that Carrie's forehead is ...         forehead   \n402   Christina can now know whether Terry is thirsty.         internal   \n403  Dan can now know that Samantha can know that J...         explicit   \n404  Harold can now know that Leslie can know wheth...  forehead_mirror   \n\n     hypothesis_depth  n_agents           label  \\\n400                 0         3      entailment   \n401                 0         3  not_entailment   \n402                 0         4  not_entailment   \n403                 1         4  not_entailment   \n404                 1         4      entailment   \n\n                                   names  index                s-l  \\\n400              [Jillian, Angel, Nancy]  30175         forehead-1   \n401          [Richard, Carrie, Danielle]   4555         forehead-0   \n402  [Christina, Daniel, Michael, Terry]  55696         internal-0   \n403         [Dan, Janet, Samantha, John]  23424         explicit-0   \n404      [Tanya, Leslie, Simone, Harold]   7808  forehead_mirror-1   \n\n     deberta_pred  deberta_confidence  difficulty  \n400             1            0.999686    0.000314  \n401             0            0.847983    0.152017  \n402             0            0.993097    0.006903  \n403             0            0.998091    0.001909  \n404             1            0.999613    0.000387  ",
      "text/html": "<div>\n<style scoped>\n    .dataframe tbody tr th:only-of-type {\n        vertical-align: middle;\n    }\n\n    .dataframe tbody tr th {\n        vertical-align: top;\n    }\n\n    .dataframe thead th {\n        text-align: right;\n    }\n</style>\n<table border=\"1\" class=\"dataframe\">\n  <thead>\n    <tr style=\"text-align: right;\">\n      <th></th>\n      <th>premise</th>\n      <th>smcdel_problem</th>\n      <th>n_announcements</th>\n      <th>pbcheck</th>\n      <th>hypothesis</th>\n      <th>setup</th>\n      <th>hypothesis_depth</th>\n      <th>n_agents</th>\n      <th>label</th>\n      <th>names</th>\n      <th>index</th>\n      <th>s-l</th>\n      <th>deberta_pred</th>\n      <th>deberta_confidence</th>\n      <th>difficulty</th>\n    </tr>\n  </thead>\n  <tbody>\n    <tr>\n      <th>400</th>\n      <td>There are three persons. Everyone is visible t...</td>\n      <td>VARS 1,2,3 LAW Top OBS Agenta:2,3 Agentb:1,3 A...</td>\n      <td>2</td>\n      <td>VARS 0,1,2,3 LAW Top OBS Agenta:2,3 Agentb:1,3...</td>\n      <td>Nancy can now know whether or not nobody's for...</td>\n      <td>forehead</td>\n      <td>0</td>\n      <td>3</td>\n      <td>entailment</td>\n      <td>[Jillian, Angel, Nancy]</td>\n      <td>30175</td>\n      <td>forehead-1</td>\n      <td>1</td>\n      <td>0.999686</td>\n      <td>0.000314</td>\n    </tr>\n    <tr>\n      <th>401</th>\n      <td>There are three persons. Everyone is visible t...</td>\n      <td>VARS 1,2,3 LAW Top OBS Agenta:2,3 Agentb:1,3 A...</td>\n      <td>2</td>\n      <td>VARS 0,1,2,3 LAW Top OBS Agenta:2,3 Agentb:1,3...</td>\n      <td>Carrie can now know that Carrie's forehead is ...</td>\n      <td>forehead</td>\n      <td>0</td>\n      <td>3</td>\n      <td>not_entailment</td>\n      <td>[Richard, Carrie, Danielle]</td>\n      <td>4555</td>\n      <td>forehead-0</td>\n      <td>0</td>\n      <td>0.847983</td>\n      <td>0.152017</td>\n    </tr>\n    <tr>\n      <th>402</th>\n      <td>There are four persons. Everyone is visible to...</td>\n      <td>VARS 1,2,3,4 LAW Top OBS Agenta:1 Agentb:2 Age...</td>\n      <td>2</td>\n      <td>VARS 0,1,2,3,4 LAW Top OBS Agenta:1 Agentb:2 A...</td>\n      <td>Christina can now know whether Terry is thirsty.</td>\n      <td>internal</td>\n      <td>0</td>\n      <td>4</td>\n      <td>not_entailment</td>\n      <td>[Christina, Daniel, Michael, Terry]</td>\n      <td>55696</td>\n      <td>internal-0</td>\n      <td>0</td>\n      <td>0.993097</td>\n      <td>0.006903</td>\n    </tr>\n    <tr>\n      <th>403</th>\n      <td>There are four persons. Everyone is visible to...</td>\n      <td>VARS 1,2,3,4 LAW Top OBS Agenta:3 Agentb:4 Age...</td>\n      <td>0</td>\n      <td>VARS 0,1,2,3,4 LAW Top OBS Agenta:3 Agentb:4 A...</td>\n      <td>Dan can now know that Samantha can know that J...</td>\n      <td>explicit</td>\n      <td>1</td>\n      <td>4</td>\n      <td>not_entailment</td>\n      <td>[Dan, Janet, Samantha, John]</td>\n      <td>23424</td>\n      <td>explicit-0</td>\n      <td>0</td>\n      <td>0.998091</td>\n      <td>0.001909</td>\n    </tr>\n    <tr>\n      <th>404</th>\n      <td>There are four persons. Everyone is visible to...</td>\n      <td>VARS 1,2,3,4 LAW Top OBS Agenta:1,2,3,4 Agentb...</td>\n      <td>1</td>\n      <td>VARS 0,1,2,3,4 LAW Top OBS Agenta:1,2,3,4 Agen...</td>\n      <td>Harold can now know that Leslie can know wheth...</td>\n      <td>forehead_mirror</td>\n      <td>1</td>\n      <td>4</td>\n      <td>entailment</td>\n      <td>[Tanya, Leslie, Simone, Harold]</td>\n      <td>7808</td>\n      <td>forehead_mirror-1</td>\n      <td>1</td>\n      <td>0.999613</td>\n      <td>0.000387</td>\n    </tr>\n  </tbody>\n</table>\n</div>"
     },
     "execution_count": 108,
     "metadata": {},
     "output_type": "execute_result"
    }
   ],
   "source": [
    "dataset = load_dataset(\"sileod/mindgames\", cache_dir='./data')\n",
    "data = dataset['train']\n",
    "data = pd.DataFrame(data)\n",
    "examples = data.groupby('setup').apply(lambda x: x.sample(100)).reset_index(drop=True)\n",
    "data = data.drop(examples.index)\n",
    "data = data.dropna()\n",
    "print(f\"Number of data examples: {len(data)}\")\n",
    "print(f\"Number of examples: {len(examples)}\")\n",
    "data.head(5)"
   ],
   "metadata": {
    "collapsed": false,
    "ExecuteTime": {
     "end_time": "2024-04-03T16:08:00.434653Z",
     "start_time": "2024-04-03T16:07:54.488831Z"
    }
   },
   "id": "a80369094b0c6d19",
   "execution_count": 108
  },
  {
   "cell_type": "markdown",
   "source": [
    "## 2. Data Preprocessing"
   ],
   "metadata": {
    "collapsed": false
   },
   "id": "677a100c98042833"
  },
  {
   "cell_type": "code",
   "outputs": [
    {
     "data": {
      "text/plain": "        setup                                            context  \\\n400  forehead  There are three persons. Their names are Jilli...   \n\n                                            hypothesis  \\\n400  Nancy can now know whether or not nobody's for...   \n\n                                             target_sf  target_label  \\\n400  VARS 1,2,3 LAW Top OBS Agenta:2,3 Agentb:1,3 A...             1   \n\n     n_announcements  n_agents  hypothesis_depth  \n400                2         3                 0  ",
      "text/html": "<div>\n<style scoped>\n    .dataframe tbody tr th:only-of-type {\n        vertical-align: middle;\n    }\n\n    .dataframe tbody tr th {\n        vertical-align: top;\n    }\n\n    .dataframe thead th {\n        text-align: right;\n    }\n</style>\n<table border=\"1\" class=\"dataframe\">\n  <thead>\n    <tr style=\"text-align: right;\">\n      <th></th>\n      <th>setup</th>\n      <th>context</th>\n      <th>hypothesis</th>\n      <th>target_sf</th>\n      <th>target_label</th>\n      <th>n_announcements</th>\n      <th>n_agents</th>\n      <th>hypothesis_depth</th>\n    </tr>\n  </thead>\n  <tbody>\n    <tr>\n      <th>400</th>\n      <td>forehead</td>\n      <td>There are three persons. Their names are Jilli...</td>\n      <td>Nancy can now know whether or not nobody's for...</td>\n      <td>VARS 1,2,3 LAW Top OBS Agenta:2,3 Agentb:1,3 A...</td>\n      <td>1</td>\n      <td>2</td>\n      <td>3</td>\n      <td>0</td>\n    </tr>\n  </tbody>\n</table>\n</div>"
     },
     "execution_count": 109,
     "metadata": {},
     "output_type": "execute_result"
    }
   ],
   "source": [
    "data = preprocess(data)\n",
    "examples = preprocess(examples)\n",
    "data.head(1)"
   ],
   "metadata": {
    "collapsed": false,
    "ExecuteTime": {
     "end_time": "2024-04-03T16:08:00.560579Z",
     "start_time": "2024-04-03T16:08:00.464269Z"
    }
   },
   "id": "794b22f80ac021e6",
   "execution_count": 109
  },
  {
   "cell_type": "markdown",
   "source": [
    "## 3. Prepare Examples"
   ],
   "metadata": {
    "collapsed": false
   },
   "id": "42a1708973a4c369"
  },
  {
   "cell_type": "code",
   "outputs": [],
   "source": [
    "def choose_example(setup: str) -> pd.Series:\n",
    "    \"\"\"\n",
    "    Choose an example from the train set based on the setup\n",
    "    :param setup: \n",
    "    :return: \n",
    "    \"\"\"\n",
    "    if setup == 'internal':\n",
    "        return examples[examples['setup'] == 'internal'].sample(1).iloc[0]\n",
    "    elif setup == 'forehead':\n",
    "        return examples[examples['setup'] == 'forehead'].sample(1).iloc[0]\n",
    "    elif setup == 'explicit':\n",
    "        return examples[examples['setup'] == 'explicit'].sample(1).iloc[0]\n",
    "    elif setup == 'forehead_mirror':\n",
    "        return examples[examples['setup'] == 'forehead'].sample(1).iloc[0]\n",
    "    else:\n",
    "        raise ValueError(f\"Invalid setup: {setup}\")"
   ],
   "metadata": {
    "collapsed": false,
    "ExecuteTime": {
     "end_time": "2024-04-03T16:08:00.581369Z",
     "start_time": "2024-04-03T16:08:00.561387Z"
    }
   },
   "id": "740c22e343b55d1c",
   "execution_count": 110
  },
  {
   "cell_type": "markdown",
   "source": [
    "## 3. Prepare Data"
   ],
   "metadata": {
    "collapsed": false
   },
   "id": "232190ef22ba3824"
  },
  {
   "cell_type": "code",
   "outputs": [
    {
     "name": "stdout",
     "output_type": "stream",
     "text": [
      "Number of fine-tune examples: 300\n"
     ]
    }
   ],
   "source": [
    "fine_tune_data = []\n",
    "fine_tune_samples = data.sample(300)\n",
    "for item in fine_tune_samples.iterrows():\n",
    "    example = choose_example(item[1]['setup'])\n",
    "    prompt = get_smcdel_prompt(\n",
    "        example_context=example['context'],\n",
    "        example_hypothesis=example['hypothesis'],\n",
    "        example_sf=example['target_sf'],\n",
    "        problem_context=item[1]['context'],\n",
    "        problem_hypothesis=item[1]['hypothesis'],\n",
    "    )\n",
    "    fine_tune_item = {\n",
    "        \"messages\": [\n",
    "            {\n",
    "                \"role\": \"user\",\n",
    "                \"content\": prompt\n",
    "            },\n",
    "            {\n",
    "                \"role\": \"assistant\",\n",
    "                \"content\": item[1]['target_sf']\n",
    "            }\n",
    "        ]\n",
    "    }\n",
    "    fine_tune_data.append(fine_tune_item)\n",
    "\n",
    "print(f\"Number of fine-tune examples: {len(fine_tune_data)}\")"
   ],
   "metadata": {
    "collapsed": false,
    "ExecuteTime": {
     "end_time": "2024-04-03T16:08:00.922268Z",
     "start_time": "2024-04-03T16:08:00.582776Z"
    }
   },
   "id": "5206855fc590c4aa",
   "execution_count": 111
  },
  {
   "cell_type": "code",
   "outputs": [
    {
     "name": "stdout",
     "output_type": "stream",
     "text": [
      "Fine tuning data saved to /Users/weizhitang/Local/Research/ToM-LM/results/fine_tuning_data.jsonl\n"
     ]
    }
   ],
   "source": [
    "save_fine_tuning_data(fine_tune_data)"
   ],
   "metadata": {
    "collapsed": false,
    "ExecuteTime": {
     "end_time": "2024-04-03T16:08:00.973718Z",
     "start_time": "2024-04-03T16:08:00.925271Z"
    }
   },
   "id": "62555a3081095e12",
   "execution_count": 112
  },
  {
   "cell_type": "markdown",
   "source": [
    "## 4. Upload Data"
   ],
   "metadata": {
    "collapsed": false
   },
   "id": "a63bc176b9b1de0"
  },
  {
   "cell_type": "code",
   "outputs": [
    {
     "data": {
      "text/plain": "FileObject(id='file-VCmbbiIjof6FG3Z63RD6gc2P', bytes=501006, created_at=1712160482, filename='fine_tuning_data.jsonl', object='file', purpose='fine-tune', status='processed', status_details=None)"
     },
     "execution_count": 113,
     "metadata": {},
     "output_type": "execute_result"
    }
   ],
   "source": [
    "client.files.create(\n",
    "    file=open(\"results/fine_tuning_data.jsonl\", \"rb\"),\n",
    "    purpose=\"fine-tune\"\n",
    ")"
   ],
   "metadata": {
    "collapsed": false,
    "ExecuteTime": {
     "end_time": "2024-04-03T16:08:02.834442Z",
     "start_time": "2024-04-03T16:08:00.976554Z"
    }
   },
   "id": "9986ccb4761a4d24",
   "execution_count": 113
  },
  {
   "cell_type": "markdown",
   "source": [
    "# Fine Tuning"
   ],
   "metadata": {
    "collapsed": false
   },
   "id": "73b6a06fd09f3dfc"
  },
  {
   "cell_type": "code",
   "outputs": [
    {
     "data": {
      "text/plain": "FineTuningJob(id='ftjob-6FsPU08BIwJICK8ajmUPG6Z2', created_at=1712160584, error=Error(code=None, message=None, param=None, error=None), fine_tuned_model=None, finished_at=None, hyperparameters=Hyperparameters(n_epochs='auto', batch_size='auto', learning_rate_multiplier='auto'), model='gpt-3.5-turbo-0125', object='fine_tuning.job', organization_id='org-4TmdiuDx8xWi3uHVqMbkkztQ', result_files=[], status='validating_files', trained_tokens=None, training_file='file-VCmbbiIjof6FG3Z63RD6gc2P', validation_file=None, user_provided_suffix=None, seed=1139575617)"
     },
     "execution_count": 116,
     "metadata": {},
     "output_type": "execute_result"
    }
   ],
   "source": [
    "client.fine_tuning.jobs.create(\n",
    "    training_file=\"file-VCmbbiIjof6FG3Z63RD6gc2P\",\n",
    "    model=\"gpt-3.5-turbo\"\n",
    ")"
   ],
   "metadata": {
    "collapsed": false,
    "ExecuteTime": {
     "end_time": "2024-04-03T16:09:44.894122Z",
     "start_time": "2024-04-03T16:09:43.617412Z"
    }
   },
   "id": "e0eb884aa5667ac4",
   "execution_count": 116
  },
  {
   "cell_type": "code",
   "outputs": [],
   "source": [],
   "metadata": {
    "collapsed": false
   },
   "id": "cc1ad59a01475dde"
  }
 ],
 "metadata": {
  "kernelspec": {
   "display_name": "Python 3",
   "language": "python",
   "name": "python3"
  },
  "language_info": {
   "codemirror_mode": {
    "name": "ipython",
    "version": 2
   },
   "file_extension": ".py",
   "mimetype": "text/x-python",
   "name": "python",
   "nbconvert_exporter": "python",
   "pygments_lexer": "ipython2",
   "version": "2.7.6"
  }
 },
 "nbformat": 4,
 "nbformat_minor": 5
}
